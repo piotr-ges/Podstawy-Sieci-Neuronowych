{
 "cells": [
  {
   "cell_type": "code",
   "execution_count": 2,
   "id": "93ce4f05-dfe3-43f5-92cc-eef6334b6044",
   "metadata": {
    "ExecuteTime": {
     "end_time": "2024-12-08T18:51:57.074954200Z",
     "start_time": "2024-12-08T18:51:57.067419500Z"
    }
   },
   "outputs": [],
   "source": [
    "import splitfolders\n",
    "import shutil\n",
    "import os"
   ]
  },
  {
   "cell_type": "code",
   "execution_count": 3,
   "id": "13b618f9-e007-4a26-942a-e0a47ed2720b",
   "metadata": {
    "ExecuteTime": {
     "end_time": "2024-12-08T18:51:57.082569Z",
     "start_time": "2024-12-08T18:51:57.078510300Z"
    }
   },
   "outputs": [],
   "source": [
    "def merge_category_folders(input_dir, output_dir):\n",
    "    os.makedirs(output_dir, exist_ok=True)\n",
    "    list_dir_input = [entry.name for entry in os.scandir(input_dir) if entry.is_dir()]\n",
    "    for dir in list_dir_input:\n",
    "        print(dir)\n",
    "    list_train = [entry.name for entry in os.scandir(input_dir + '/' + list_dir_input[0]) if entry.is_dir()]\n",
    "    list_valid = [entry.name for entry in os.scandir(input_dir + '/' + list_dir_input[1]) if entry.is_dir()]\n",
    "    list_test = [entry.name for entry in os.scandir(input_dir + '/' + list_dir_input[2]) if entry.is_dir()]\n",
    "    for dir in list_train:\n",
    "        os.makedirs(output_dir + '/' + dir, exist_ok=True)\n",
    "        train_path = input_dir + '/' + list_dir_input[0] + '/' + dir\n",
    "        valid_path = input_dir + '/' + list_dir_input[1] + '/' + dir\n",
    "        test_path = input_dir + '/' + list_dir_input[2] + '/' + dir\n",
    "        category_output_dir = output_dir + '/' + dir\n",
    "        print(train_path)\n",
    "        for root, dirs, files in os.walk(train_path):\n",
    "            for file in files:\n",
    "                if \"zone.identifier\" in file.lower():\n",
    "                    continue\n",
    "                src_path = os.path.join(root, file)\n",
    "                dst_file = f\"train_{file}\"  # Dodanie prefiksu\n",
    "                dst_path = os.path.join(category_output_dir, dst_file)\n",
    "                shutil.copy(src_path, dst_path)\n",
    "        for root, dirs, files in os.walk(valid_path):\n",
    "            for file in files:\n",
    "                if \"zone.identifier\" in file.lower():\n",
    "                    continue\n",
    "                src_path = os.path.join(root, file)\n",
    "                dst_file = f\"val_{file}\"  # Dodanie prefiksu\n",
    "                dst_path = os.path.join(category_output_dir, dst_file)\n",
    "                shutil.copy(src_path, dst_path)\n",
    "        for root, dirs, files in os.walk(test_path):\n",
    "            for file in files:\n",
    "                if \"zone.identifier\" in file.lower():\n",
    "                    continue\n",
    "                src_path = os.path.join(root, file)\n",
    "                dst_file = f\"test_{file}\"  # Dodanie prefiksu\n",
    "                dst_path = os.path.join(category_output_dir, dst_file)\n",
    "                shutil.copy(src_path, dst_path)\n",
    "        \n",
    "    \n",
    "    "
   ]
  },
  {
   "cell_type": "code",
   "execution_count": 4,
   "id": "6b3e4afa-0d79-4e63-9503-c2a6d2f19408",
   "metadata": {
    "ExecuteTime": {
     "end_time": "2024-12-08T18:52:13.468657300Z",
     "start_time": "2024-12-08T18:51:57.081027700Z"
    }
   },
   "outputs": [
    {
     "name": "stdout",
     "output_type": "stream",
     "text": [
      "test\n",
      "train\n",
      "valid\n",
      "C:\\Users\\piotr\\Desktop\\data/test/ace of clubs\n",
      "C:\\Users\\piotr\\Desktop\\data/test/ace of diamonds\n",
      "C:\\Users\\piotr\\Desktop\\data/test/ace of hearts\n",
      "C:\\Users\\piotr\\Desktop\\data/test/ace of spades\n",
      "C:\\Users\\piotr\\Desktop\\data/test/eight of clubs\n",
      "C:\\Users\\piotr\\Desktop\\data/test/eight of diamonds\n",
      "C:\\Users\\piotr\\Desktop\\data/test/eight of hearts\n",
      "C:\\Users\\piotr\\Desktop\\data/test/eight of spades\n",
      "C:\\Users\\piotr\\Desktop\\data/test/five of clubs\n",
      "C:\\Users\\piotr\\Desktop\\data/test/five of diamonds\n",
      "C:\\Users\\piotr\\Desktop\\data/test/five of hearts\n",
      "C:\\Users\\piotr\\Desktop\\data/test/five of spades\n",
      "C:\\Users\\piotr\\Desktop\\data/test/four of clubs\n",
      "C:\\Users\\piotr\\Desktop\\data/test/four of diamonds\n",
      "C:\\Users\\piotr\\Desktop\\data/test/four of hearts\n",
      "C:\\Users\\piotr\\Desktop\\data/test/four of spades\n",
      "C:\\Users\\piotr\\Desktop\\data/test/jack of clubs\n",
      "C:\\Users\\piotr\\Desktop\\data/test/jack of diamonds\n",
      "C:\\Users\\piotr\\Desktop\\data/test/jack of hearts\n",
      "C:\\Users\\piotr\\Desktop\\data/test/jack of spades\n",
      "C:\\Users\\piotr\\Desktop\\data/test/joker\n",
      "C:\\Users\\piotr\\Desktop\\data/test/king of clubs\n",
      "C:\\Users\\piotr\\Desktop\\data/test/king of diamonds\n",
      "C:\\Users\\piotr\\Desktop\\data/test/king of hearts\n",
      "C:\\Users\\piotr\\Desktop\\data/test/king of spades\n",
      "C:\\Users\\piotr\\Desktop\\data/test/nine of clubs\n",
      "C:\\Users\\piotr\\Desktop\\data/test/nine of diamonds\n",
      "C:\\Users\\piotr\\Desktop\\data/test/nine of hearts\n",
      "C:\\Users\\piotr\\Desktop\\data/test/nine of spades\n",
      "C:\\Users\\piotr\\Desktop\\data/test/queen of clubs\n",
      "C:\\Users\\piotr\\Desktop\\data/test/queen of diamonds\n",
      "C:\\Users\\piotr\\Desktop\\data/test/queen of hearts\n",
      "C:\\Users\\piotr\\Desktop\\data/test/queen of spades\n",
      "C:\\Users\\piotr\\Desktop\\data/test/seven of clubs\n",
      "C:\\Users\\piotr\\Desktop\\data/test/seven of diamonds\n",
      "C:\\Users\\piotr\\Desktop\\data/test/seven of hearts\n",
      "C:\\Users\\piotr\\Desktop\\data/test/seven of spades\n",
      "C:\\Users\\piotr\\Desktop\\data/test/six of clubs\n",
      "C:\\Users\\piotr\\Desktop\\data/test/six of diamonds\n",
      "C:\\Users\\piotr\\Desktop\\data/test/six of hearts\n",
      "C:\\Users\\piotr\\Desktop\\data/test/six of spades\n",
      "C:\\Users\\piotr\\Desktop\\data/test/ten of clubs\n",
      "C:\\Users\\piotr\\Desktop\\data/test/ten of diamonds\n",
      "C:\\Users\\piotr\\Desktop\\data/test/ten of hearts\n",
      "C:\\Users\\piotr\\Desktop\\data/test/ten of spades\n",
      "C:\\Users\\piotr\\Desktop\\data/test/three of clubs\n",
      "C:\\Users\\piotr\\Desktop\\data/test/three of diamonds\n",
      "C:\\Users\\piotr\\Desktop\\data/test/three of hearts\n",
      "C:\\Users\\piotr\\Desktop\\data/test/three of spades\n",
      "C:\\Users\\piotr\\Desktop\\data/test/two of clubs\n",
      "C:\\Users\\piotr\\Desktop\\data/test/two of diamonds\n",
      "C:\\Users\\piotr\\Desktop\\data/test/two of hearts\n",
      "C:\\Users\\piotr\\Desktop\\data/test/two of spades\n",
      "39\n"
     ]
    },
    {
     "name": "stderr",
     "output_type": "stream",
     "text": [
      "Copying files: 8154 files [00:02, 3422.18 files/s]\n",
      "Copying files: 8154 files [00:02, 3939.38 files/s]\n",
      "Copying files: 8154 files [00:02, 3742.38 files/s]\n",
      "Copying files: 8154 files [00:02, 3726.37 files/s]\n",
      "Copying files: 8154 files [00:02, 3800.77 files/s]\n",
      "Copying files: 8154 files [00:02, 3093.26 files/s]\n"
     ]
    }
   ],
   "source": [
    "merge_category_folders(r'C:\\Users\\piotr\\Desktop\\data' , r'C:\\Users\\piotr\\Desktop\\all_data')\n",
    "input_folder1 = r'C:\\Users\\piotr\\Desktop\\data/train/joker'\n",
    "input_folder2 = r'C:\\Users\\piotr\\Desktop\\data/validate/joker'\n",
    "input_folder3 = r'C:\\Users\\piotr\\Desktop\\data/test/joker'\n",
    "print(len(input_folder1))\n",
    "\n",
    "splitfolders.ratio(r'C:\\Users\\piotr\\Desktop\\all_data', r'C:\\Users\\piotr\\Desktop\\95_2.5_2.5', seed=1337, ratio=(0.95, 0.025, 0.025))\n",
    "splitfolders.ratio(r'C:\\Users\\piotr\\Desktop\\all_data', r'C:\\Users\\piotr\\Desktop\\90_7.5_2.5', seed=1337, ratio=(0.90, 0.075, 0.025))\n",
    "splitfolders.ratio(r'C:\\Users\\piotr\\Desktop\\all_data', r'C:\\Users\\piotr\\Desktop\\90_5_5', seed=1337, ratio=(0.9, 0.05, 0.05))\n",
    "splitfolders.ratio(r'C:\\Users\\piotr\\Desktop\\all_data', r'C:\\Users\\piotr\\Desktop\\80_10_10', seed=1337, ratio=(0.8, 0.1, 0.1))\n",
    "splitfolders.ratio(r'C:\\Users\\piotr\\Desktop\\all_data', r'C:\\Users\\piotr\\Desktop\\70_15_15', seed=1337, ratio=(0.7, 0.15, 0.15))\n",
    "splitfolders.ratio(r'C:\\Users\\piotr\\Desktop\\all_data', r'C:\\Users\\piotr\\Desktop\\60_20_20', seed=1337, ratio=(0.6, 0.2, 0.2))"
   ]
  },
  {
   "cell_type": "code",
   "execution_count": 4,
   "id": "97e877b0-6029-4736-9c7b-5e1605580e0b",
   "metadata": {
    "ExecuteTime": {
     "end_time": "2024-12-08T18:52:13.468657300Z",
     "start_time": "2024-12-08T18:52:13.466102800Z"
    }
   },
   "outputs": [],
   "source": []
  }
 ],
 "metadata": {
  "kernelspec": {
   "display_name": "Python 3 (ipykernel)",
   "language": "python",
   "name": "python3"
  },
  "language_info": {
   "codemirror_mode": {
    "name": "ipython",
    "version": 3
   },
   "file_extension": ".py",
   "mimetype": "text/x-python",
   "name": "python",
   "nbconvert_exporter": "python",
   "pygments_lexer": "ipython3",
   "version": "3.12.3"
  }
 },
 "nbformat": 4,
 "nbformat_minor": 5
}
