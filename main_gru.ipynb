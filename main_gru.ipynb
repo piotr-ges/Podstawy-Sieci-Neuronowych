{
 "cells": [
  {
   "cell_type": "code",
   "execution_count": 86,
   "id": "initial_id",
   "metadata": {
    "collapsed": true,
    "ExecuteTime": {
     "end_time": "2024-12-09T05:22:54.557856100Z",
     "start_time": "2024-12-09T05:22:54.546010900Z"
    }
   },
   "outputs": [],
   "source": [
    "import numpy as np\n",
    "import pandas as pd\n",
    "import copy\n",
    "\n",
    "import torch\n",
    "from torch import nn\n",
    "from torch.utils.data import DataLoader,Dataset\n",
    "from torchvision.models.detection import transform\n",
    "from torchvision.transforms import transforms\n",
    "from torchvision.datasets import ImageFolder\n",
    "from torch.nn.functional import max_pool2d\n",
    "import torch.nn.functional as F\n",
    "import torch.optim as optim\n",
    "from torchvision.transforms import RandomChoice\n",
    "\n",
    "from tqdm.notebook import tqdm\n",
    "import matplotlib.pyplot as plt\n",
    "from sklearn.metrics import accuracy_score\n",
    "from sklearn.metrics import confusion_matrix, ConfusionMatrixDisplay\n",
    "from torch.optim.lr_scheduler import ReduceLROnPlateau"
   ]
  },
  {
   "cell_type": "code",
   "execution_count": 87,
   "outputs": [],
   "source": [
    "batch_size = 32\n",
    "epochs_number = 200\n",
    "patience = 5"
   ],
   "metadata": {
    "collapsed": false,
    "ExecuteTime": {
     "end_time": "2024-12-09T05:22:54.557856100Z",
     "start_time": "2024-12-09T05:22:54.549105900Z"
    }
   },
   "id": "c287e69a146fa024"
  },
  {
   "cell_type": "code",
   "execution_count": 88,
   "outputs": [],
   "source": [
    "#Create dataset\n",
    "class PlayingCardDataset(Dataset):\n",
    "    def __init__(self, data_dir, transform=None):\n",
    "        self.data = ImageFolder(data_dir, transform=transform)\n",
    "        \n",
    "    def __len__(self):\n",
    "        return len(self.data)\n",
    "    \n",
    "    def __getitem__(self, idx):\n",
    "        return self.data[idx]\n",
    "    \n",
    "    @property\n",
    "    def classes(self):\n",
    "        return self.data.classes"
   ],
   "metadata": {
    "collapsed": false,
    "ExecuteTime": {
     "end_time": "2024-12-09T05:22:54.557856100Z",
     "start_time": "2024-12-09T05:22:54.551684800Z"
    }
   },
   "id": "13a9316297d6d2af"
  },
  {
   "cell_type": "code",
   "execution_count": 89,
   "outputs": [],
   "source": [
    "#Model\n",
    "class CardClassifier(nn.Module):\n",
    "    def __init__(self, num_classes=53):\n",
    "        super(CardClassifier,self).__init__()\n",
    "        \n",
    "        self.conv1 = nn.Conv2d(3, 32, kernel_size=3, stride=1, padding=1)\n",
    "        self.bn1 = nn.BatchNorm2d(32)\n",
    "        self.conv2 = nn.Conv2d(32, 64, kernel_size=3, stride=1, padding=1)\n",
    "        self.bn2 = nn.BatchNorm2d(64)\n",
    "        self.conv3 = nn.Conv2d(64, 128, kernel_size=3, stride=1, padding=1)\n",
    "        self.bn3 = nn.BatchNorm2d(128)\n",
    "        self.pool = nn.MaxPool2d(kernel_size=2, stride=2)\n",
    "        self.fc1 = nn.Linear(128 * 16 * 16, 512)\n",
    "        self.fc2 = nn.Linear(512, 128)\n",
    "        self.fc3 = nn.Linear(128, 64)\n",
    "        self.fc4 = nn.Linear(64, num_classes)\n",
    "        self.dropout1 = nn.Dropout(p=0.1)\n",
    "        self.dropout2 = nn.Dropout(p=0.2)\n",
    "        self.dropout3 = nn.Dropout(p=0.3)\n",
    "         \n",
    "    def forward(self, x):\n",
    "        x = self.pool(F.relu(self.bn1(self.conv1(x))))\n",
    "        x = self.pool(F.relu(self.bn2(self.conv2(x))))\n",
    "        x = self.pool(F.relu(self.bn3(self.conv3(x))))\n",
    "        x = x.view(x.size(0), -1)\n",
    "        x = F.relu(self.fc1(x))\n",
    "        x = self.dropout1(x)\n",
    "        x = F.relu(self.fc2(x))\n",
    "        x = self.dropout2(x)\n",
    "        x = F.relu(self.fc3(x))\n",
    "        x = self.dropout3(x)\n",
    "        output = self.fc4(x)\n",
    "        \n",
    "        return output"
   ],
   "metadata": {
    "collapsed": false,
    "ExecuteTime": {
     "end_time": "2024-12-09T05:22:54.565053400Z",
     "start_time": "2024-12-09T05:22:54.557856100Z"
    }
   },
   "id": "8c122d2d277f318"
  },
  {
   "cell_type": "code",
   "execution_count": 90,
   "outputs": [
    {
     "name": "stdout",
     "output_type": "stream",
     "text": [
      "CardClassifier(\n",
      "  (conv1): Conv2d(3, 32, kernel_size=(3, 3), stride=(1, 1), padding=(1, 1))\n",
      "  (bn1): BatchNorm2d(32, eps=1e-05, momentum=0.1, affine=True, track_running_stats=True)\n",
      "  (conv2): Conv2d(32, 64, kernel_size=(3, 3), stride=(1, 1), padding=(1, 1))\n",
      "  (bn2): BatchNorm2d(64, eps=1e-05, momentum=0.1, affine=True, track_running_stats=True)\n",
      "  (conv3): Conv2d(64, 128, kernel_size=(3, 3), stride=(1, 1), padding=(1, 1))\n",
      "  (bn3): BatchNorm2d(128, eps=1e-05, momentum=0.1, affine=True, track_running_stats=True)\n",
      "  (pool): MaxPool2d(kernel_size=2, stride=2, padding=0, dilation=1, ceil_mode=False)\n",
      "  (fc1): Linear(in_features=32768, out_features=512, bias=True)\n",
      "  (fc2): Linear(in_features=512, out_features=128, bias=True)\n",
      "  (fc3): Linear(in_features=128, out_features=64, bias=True)\n",
      "  (fc4): Linear(in_features=64, out_features=53, bias=True)\n",
      "  (dropout1): Dropout(p=0.1, inplace=False)\n",
      "  (dropout2): Dropout(p=0.2, inplace=False)\n",
      "  (dropout3): Dropout(p=0.3, inplace=False)\n",
      ")\n"
     ]
    }
   ],
   "source": [
    "model = CardClassifier(num_classes=53)\n",
    "print(model)"
   ],
   "metadata": {
    "collapsed": false,
    "ExecuteTime": {
     "end_time": "2024-12-09T05:22:54.633230Z",
     "start_time": "2024-12-09T05:22:54.561490400Z"
    }
   },
   "id": "27f920b403317c00"
  },
  {
   "cell_type": "code",
   "execution_count": 91,
   "outputs": [],
   "source": [
    "#Loss Function\n",
    "criterion = nn.CrossEntropyLoss()\n",
    "#Optimizer\n",
    "optimizer = optim.AdamW(model.parameters(), lr=0.001, weight_decay=1e-4)"
   ],
   "metadata": {
    "collapsed": false,
    "ExecuteTime": {
     "end_time": "2024-12-09T05:22:54.633230Z",
     "start_time": "2024-12-09T05:22:54.608780700Z"
    }
   },
   "id": "639032c82fee9eca"
  },
  {
   "cell_type": "code",
   "execution_count": 92,
   "outputs": [],
   "source": [
    "transform_train = transforms.Compose([\n",
    "    transforms.Resize((128, 128)),\n",
    "    RandomChoice([\n",
    "        transforms.RandomHorizontalFlip(p=1.0),\n",
    "        transforms.RandomVerticalFlip(p=1.0),\n",
    "        transforms.ColorJitter(brightness=0.3, contrast=0.3, saturation=0.3, hue=0.2)\n",
    "    ]),\n",
    "    transforms.ToTensor(),\n",
    "    transforms.Normalize((0.5, 0.5, 0.5), (0.5, 0.5, 0.5))\n",
    "])\n",
    "\n",
    "transform = transforms.Compose([\n",
    "    transforms.Resize((128, 128)), #Resize to 128x128\n",
    "    transforms.ToTensor(), \n",
    "    transforms.Normalize((0.5, 0.5, 0.5), (0.5, 0.5, 0.5))\n",
    "])\n",
    "\n",
    "train_folder = r'C:\\Users\\piotr\\Desktop\\data\\train'\n",
    "valid_folder = r'C:\\Users\\piotr\\Desktop\\data\\valid'\n",
    "test_folder = r'C:\\Users\\piotr\\Desktop\\data\\test'\n",
    "\n",
    "train_dataset = PlayingCardDataset(train_folder, transform=transform_train)\n",
    "val_dataset = PlayingCardDataset(valid_folder, transform=transform)\n",
    "test_dataset = PlayingCardDataset(test_folder, transform=transform)\n",
    "\n",
    "train_loader = DataLoader(train_dataset, batch_size=batch_size, shuffle=True)\n",
    "val_loader = DataLoader(val_dataset, batch_size=batch_size, shuffle=False)\n",
    "test_loader = DataLoader(val_dataset, batch_size=batch_size, shuffle=False)"
   ],
   "metadata": {
    "collapsed": false,
    "ExecuteTime": {
     "end_time": "2024-12-09T05:22:54.640904900Z",
     "start_time": "2024-12-09T05:22:54.612912Z"
    }
   },
   "id": "ec2581d75cf1864"
  },
  {
   "cell_type": "code",
   "execution_count": 93,
   "outputs": [],
   "source": [
    "# Early stopping\n",
    "\n",
    "class EarlyStopping:\n",
    "    def __init__(self, patience=5, min_delta=0, restore_best_weights=True):\n",
    "        self.patience = patience\n",
    "        self.min_delta = min_delta\n",
    "        self.restore_best_weights = restore_best_weights\n",
    "        self.best_model = None\n",
    "        self.best_loss = float('inf')\n",
    "        self.counter = 0\n",
    "        self.status = \"\"\n",
    "\n",
    "    def __call__(self, model, val_loss):\n",
    "        if val_loss < self.best_loss - self.min_delta:\n",
    "            self.best_loss = val_loss\n",
    "            self.counter = 0\n",
    "            self.best_model = copy.deepcopy(model.state_dict())\n",
    "        else:\n",
    "            self.counter += 1\n",
    "            if self.counter >= self.patience:\n",
    "                self.status = \"Stopping training\"\n",
    "                if self.restore_best_weights:\n",
    "                    model.load_state_dict(self.best_model)\n",
    "                return True\n",
    "        self.status = f\"{self.counter}/{self.patience}\"\n",
    "        return False"
   ],
   "metadata": {
    "collapsed": false,
    "ExecuteTime": {
     "end_time": "2024-12-09T05:22:54.653820100Z",
     "start_time": "2024-12-09T05:22:54.640904900Z"
    }
   },
   "id": "7d27e00ee8c3303c"
  },
  {
   "cell_type": "code",
   "execution_count": 94,
   "outputs": [
    {
     "name": "stdout",
     "output_type": "stream",
     "text": [
      "Using device: cuda\n"
     ]
    }
   ],
   "source": [
    "device = torch.device(\"cuda\" if torch.cuda.is_available() else \"cpu\")\n",
    "print(f\"Using device: {device}\")"
   ],
   "metadata": {
    "collapsed": false,
    "ExecuteTime": {
     "end_time": "2024-12-09T05:22:54.653820100Z",
     "start_time": "2024-12-09T05:22:54.643515500Z"
    }
   },
   "id": "69991bd878075cfd"
  },
  {
   "cell_type": "code",
   "execution_count": 95,
   "outputs": [
    {
     "name": "stderr",
     "output_type": "stream",
     "text": [
      "C:\\Users\\piotr\\anaconda3\\envs\\torch\\Lib\\site-packages\\torch\\optim\\lr_scheduler.py:62: UserWarning: The verbose parameter is deprecated. Please use get_last_lr() to access the learning rate.\n",
      "  warnings.warn(\n"
     ]
    },
    {
     "data": {
      "text/plain": "Training loop:   0%|          | 0/239 [00:00<?, ?it/s]",
      "application/vnd.jupyter.widget-view+json": {
       "version_major": 2,
       "version_minor": 0,
       "model_id": "e8b173fa766e4939b3e10c7b453a3acf"
      }
     },
     "metadata": {},
     "output_type": "display_data"
    },
    {
     "data": {
      "text/plain": "Validation loop:   0%|          | 0/9 [00:00<?, ?it/s]",
      "application/vnd.jupyter.widget-view+json": {
       "version_major": 2,
       "version_minor": 0,
       "model_id": "3d6913eeb114438ebdfcff360aa96ca9"
      }
     },
     "metadata": {},
     "output_type": "display_data"
    },
    {
     "name": "stdout",
     "output_type": "stream",
     "text": [
      "Epoch 1/200 - Train loss: 3.959302485677153, Validation loss: 3.94018089366409\n",
      "Early Stopping: 0/5\n"
     ]
    },
    {
     "data": {
      "text/plain": "Training loop:   0%|          | 0/239 [00:00<?, ?it/s]",
      "application/vnd.jupyter.widget-view+json": {
       "version_major": 2,
       "version_minor": 0,
       "model_id": "4a0ee503412040f3800e9ecb4a78726b"
      }
     },
     "metadata": {},
     "output_type": "display_data"
    },
    {
     "data": {
      "text/plain": "Validation loop:   0%|          | 0/9 [00:00<?, ?it/s]",
      "application/vnd.jupyter.widget-view+json": {
       "version_major": 2,
       "version_minor": 0,
       "model_id": "ef7fd212234f442ab16f4db4e2bde066"
      }
     },
     "metadata": {},
     "output_type": "display_data"
    },
    {
     "name": "stdout",
     "output_type": "stream",
     "text": [
      "Epoch 2/200 - Train loss: 3.925210626027767, Validation loss: 3.8906699153612245\n",
      "Early Stopping: 0/5\n"
     ]
    },
    {
     "data": {
      "text/plain": "Training loop:   0%|          | 0/239 [00:00<?, ?it/s]",
      "application/vnd.jupyter.widget-view+json": {
       "version_major": 2,
       "version_minor": 0,
       "model_id": "1956cf371c7046d7ae3b9692dbea9be6"
      }
     },
     "metadata": {},
     "output_type": "display_data"
    },
    {
     "data": {
      "text/plain": "Validation loop:   0%|          | 0/9 [00:00<?, ?it/s]",
      "application/vnd.jupyter.widget-view+json": {
       "version_major": 2,
       "version_minor": 0,
       "model_id": "2d01ce08c4d344a7a2409fb6a539759c"
      }
     },
     "metadata": {},
     "output_type": "display_data"
    },
    {
     "name": "stdout",
     "output_type": "stream",
     "text": [
      "Epoch 3/200 - Train loss: 3.883672258911453, Validation loss: 3.8304972828559154\n",
      "Early Stopping: 0/5\n"
     ]
    },
    {
     "data": {
      "text/plain": "Training loop:   0%|          | 0/239 [00:00<?, ?it/s]",
      "application/vnd.jupyter.widget-view+json": {
       "version_major": 2,
       "version_minor": 0,
       "model_id": "5bc45ad8d38746deb8f3e545d1dff601"
      }
     },
     "metadata": {},
     "output_type": "display_data"
    },
    {
     "data": {
      "text/plain": "Validation loop:   0%|          | 0/9 [00:00<?, ?it/s]",
      "application/vnd.jupyter.widget-view+json": {
       "version_major": 2,
       "version_minor": 0,
       "model_id": "66eb61c87fec4b5faa3289ca7f2b793a"
      }
     },
     "metadata": {},
     "output_type": "display_data"
    },
    {
     "name": "stdout",
     "output_type": "stream",
     "text": [
      "Epoch 4/200 - Train loss: 3.839983952883533, Validation loss: 3.7609872242189804\n",
      "Early Stopping: 0/5\n"
     ]
    },
    {
     "data": {
      "text/plain": "Training loop:   0%|          | 0/239 [00:00<?, ?it/s]",
      "application/vnd.jupyter.widget-view+json": {
       "version_major": 2,
       "version_minor": 0,
       "model_id": "fa3cc78c1b6e4d64a81b90a1f1d97d77"
      }
     },
     "metadata": {},
     "output_type": "display_data"
    },
    {
     "data": {
      "text/plain": "Validation loop:   0%|          | 0/9 [00:00<?, ?it/s]",
      "application/vnd.jupyter.widget-view+json": {
       "version_major": 2,
       "version_minor": 0,
       "model_id": "944fc7ff92a74ee685d47a8175ef742e"
      }
     },
     "metadata": {},
     "output_type": "display_data"
    },
    {
     "name": "stdout",
     "output_type": "stream",
     "text": [
      "Epoch 5/200 - Train loss: 3.7812328879005137, Validation loss: 3.664757425380203\n",
      "Early Stopping: 0/5\n"
     ]
    },
    {
     "data": {
      "text/plain": "Training loop:   0%|          | 0/239 [00:00<?, ?it/s]",
      "application/vnd.jupyter.widget-view+json": {
       "version_major": 2,
       "version_minor": 0,
       "model_id": "d32435179b4c4ce79e35e4ad008898c3"
      }
     },
     "metadata": {},
     "output_type": "display_data"
    },
    {
     "data": {
      "text/plain": "Validation loop:   0%|          | 0/9 [00:00<?, ?it/s]",
      "application/vnd.jupyter.widget-view+json": {
       "version_major": 2,
       "version_minor": 0,
       "model_id": "21b3e97f002a4b5e89825bded4106d5d"
      }
     },
     "metadata": {},
     "output_type": "display_data"
    },
    {
     "name": "stdout",
     "output_type": "stream",
     "text": [
      "Epoch 6/200 - Train loss: 3.721450411385279, Validation loss: 3.561421779416642\n",
      "Early Stopping: 0/5\n"
     ]
    },
    {
     "data": {
      "text/plain": "Training loop:   0%|          | 0/239 [00:00<?, ?it/s]",
      "application/vnd.jupyter.widget-view+json": {
       "version_major": 2,
       "version_minor": 0,
       "model_id": "b38f2775f25e452aadeca055b58e3a16"
      }
     },
     "metadata": {},
     "output_type": "display_data"
    },
    {
     "data": {
      "text/plain": "Validation loop:   0%|          | 0/9 [00:00<?, ?it/s]",
      "application/vnd.jupyter.widget-view+json": {
       "version_major": 2,
       "version_minor": 0,
       "model_id": "22bd35997c264d16a6aeb9c6149a8936"
      }
     },
     "metadata": {},
     "output_type": "display_data"
    },
    {
     "name": "stdout",
     "output_type": "stream",
     "text": [
      "Epoch 7/200 - Train loss: 3.639518783825517, Validation loss: 3.4297213590370035\n",
      "Early Stopping: 0/5\n"
     ]
    },
    {
     "data": {
      "text/plain": "Training loop:   0%|          | 0/239 [00:00<?, ?it/s]",
      "application/vnd.jupyter.widget-view+json": {
       "version_major": 2,
       "version_minor": 0,
       "model_id": "e91cecb35a374677be4630c320e3cc08"
      }
     },
     "metadata": {},
     "output_type": "display_data"
    },
    {
     "data": {
      "text/plain": "Validation loop:   0%|          | 0/9 [00:00<?, ?it/s]",
      "application/vnd.jupyter.widget-view+json": {
       "version_major": 2,
       "version_minor": 0,
       "model_id": "75aa1e95fb5e46e8a0383954ac906a2b"
      }
     },
     "metadata": {},
     "output_type": "display_data"
    },
    {
     "name": "stdout",
     "output_type": "stream",
     "text": [
      "Epoch 8/200 - Train loss: 3.5514688611906196, Validation loss: 3.275838671090468\n",
      "Early Stopping: 0/5\n"
     ]
    },
    {
     "data": {
      "text/plain": "Training loop:   0%|          | 0/239 [00:00<?, ?it/s]",
      "application/vnd.jupyter.widget-view+json": {
       "version_major": 2,
       "version_minor": 0,
       "model_id": "14cac0ec29ce4b56845e515f6b16d41b"
      }
     },
     "metadata": {},
     "output_type": "display_data"
    },
    {
     "data": {
      "text/plain": "Validation loop:   0%|          | 0/9 [00:00<?, ?it/s]",
      "application/vnd.jupyter.widget-view+json": {
       "version_major": 2,
       "version_minor": 0,
       "model_id": "89a082845a234064b2838b5a211ef3e6"
      }
     },
     "metadata": {},
     "output_type": "display_data"
    },
    {
     "name": "stdout",
     "output_type": "stream",
     "text": [
      "Epoch 9/200 - Train loss: 3.4491266013442656, Validation loss: 3.1167467459192815\n",
      "Early Stopping: 0/5\n"
     ]
    },
    {
     "data": {
      "text/plain": "Training loop:   0%|          | 0/239 [00:00<?, ?it/s]",
      "application/vnd.jupyter.widget-view+json": {
       "version_major": 2,
       "version_minor": 0,
       "model_id": "b2683dca95eb4f0292d374b07ce718b5"
      }
     },
     "metadata": {},
     "output_type": "display_data"
    },
    {
     "data": {
      "text/plain": "Validation loop:   0%|          | 0/9 [00:00<?, ?it/s]",
      "application/vnd.jupyter.widget-view+json": {
       "version_major": 2,
       "version_minor": 0,
       "model_id": "dff269353a194e10bc4696a66ab582e4"
      }
     },
     "metadata": {},
     "output_type": "display_data"
    },
    {
     "name": "stdout",
     "output_type": "stream",
     "text": [
      "Epoch 10/200 - Train loss: 3.3636205456564583, Validation loss: 2.9775847524966834\n",
      "Early Stopping: 0/5\n"
     ]
    },
    {
     "data": {
      "text/plain": "Training loop:   0%|          | 0/239 [00:00<?, ?it/s]",
      "application/vnd.jupyter.widget-view+json": {
       "version_major": 2,
       "version_minor": 0,
       "model_id": "73e54cf3482445b5aeaef76e9fe598d7"
      }
     },
     "metadata": {},
     "output_type": "display_data"
    },
    {
     "data": {
      "text/plain": "Validation loop:   0%|          | 0/9 [00:00<?, ?it/s]",
      "application/vnd.jupyter.widget-view+json": {
       "version_major": 2,
       "version_minor": 0,
       "model_id": "39daf321c1984fc5ba92bc2e6969fe16"
      }
     },
     "metadata": {},
     "output_type": "display_data"
    },
    {
     "name": "stdout",
     "output_type": "stream",
     "text": [
      "Epoch 11/200 - Train loss: 3.261698110156144, Validation loss: 2.8354777767973127\n",
      "Early Stopping: 0/5\n"
     ]
    },
    {
     "data": {
      "text/plain": "Training loop:   0%|          | 0/239 [00:00<?, ?it/s]",
      "application/vnd.jupyter.widget-view+json": {
       "version_major": 2,
       "version_minor": 0,
       "model_id": "4cb0675134284bcb9e55c6882c527c50"
      }
     },
     "metadata": {},
     "output_type": "display_data"
    },
    {
     "data": {
      "text/plain": "Validation loop:   0%|          | 0/9 [00:00<?, ?it/s]",
      "application/vnd.jupyter.widget-view+json": {
       "version_major": 2,
       "version_minor": 0,
       "model_id": "5463eb588d01451ea44c57f26bd911ec"
      }
     },
     "metadata": {},
     "output_type": "display_data"
    },
    {
     "name": "stdout",
     "output_type": "stream",
     "text": [
      "Epoch 12/200 - Train loss: 3.178665417814305, Validation loss: 2.6873749103186264\n",
      "Early Stopping: 0/5\n"
     ]
    },
    {
     "data": {
      "text/plain": "Training loop:   0%|          | 0/239 [00:00<?, ?it/s]",
      "application/vnd.jupyter.widget-view+json": {
       "version_major": 2,
       "version_minor": 0,
       "model_id": "9acbb08c856c490b953c9a5972a86a98"
      }
     },
     "metadata": {},
     "output_type": "display_data"
    },
    {
     "data": {
      "text/plain": "Validation loop:   0%|          | 0/9 [00:00<?, ?it/s]",
      "application/vnd.jupyter.widget-view+json": {
       "version_major": 2,
       "version_minor": 0,
       "model_id": "7f4ea16797114e99b88f6f59fff13faa"
      }
     },
     "metadata": {},
     "output_type": "display_data"
    },
    {
     "name": "stdout",
     "output_type": "stream",
     "text": [
      "Epoch 13/200 - Train loss: 3.081043338225246, Validation loss: 2.5554953764069754\n",
      "Early Stopping: 0/5\n"
     ]
    },
    {
     "data": {
      "text/plain": "Training loop:   0%|          | 0/239 [00:00<?, ?it/s]",
      "application/vnd.jupyter.widget-view+json": {
       "version_major": 2,
       "version_minor": 0,
       "model_id": "3d9be12feb8e43feb316c505808b7dde"
      }
     },
     "metadata": {},
     "output_type": "display_data"
    },
    {
     "data": {
      "text/plain": "Validation loop:   0%|          | 0/9 [00:00<?, ?it/s]",
      "application/vnd.jupyter.widget-view+json": {
       "version_major": 2,
       "version_minor": 0,
       "model_id": "645978dabb2c498297bc5a031d91ee80"
      }
     },
     "metadata": {},
     "output_type": "display_data"
    },
    {
     "name": "stdout",
     "output_type": "stream",
     "text": [
      "Epoch 14/200 - Train loss: 2.9994747518617486, Validation loss: 2.434223957781522\n",
      "Early Stopping: 0/5\n"
     ]
    },
    {
     "data": {
      "text/plain": "Training loop:   0%|          | 0/239 [00:00<?, ?it/s]",
      "application/vnd.jupyter.widget-view+json": {
       "version_major": 2,
       "version_minor": 0,
       "model_id": "96ef32cc03c44f909ba5c0783c37c4d9"
      }
     },
     "metadata": {},
     "output_type": "display_data"
    },
    {
     "data": {
      "text/plain": "Validation loop:   0%|          | 0/9 [00:00<?, ?it/s]",
      "application/vnd.jupyter.widget-view+json": {
       "version_major": 2,
       "version_minor": 0,
       "model_id": "abdd7d8402b044059784593f018d230b"
      }
     },
     "metadata": {},
     "output_type": "display_data"
    },
    {
     "name": "stdout",
     "output_type": "stream",
     "text": [
      "Epoch 15/200 - Train loss: 2.931266325343193, Validation loss: 2.3159394426165885\n",
      "Early Stopping: 0/5\n"
     ]
    },
    {
     "data": {
      "text/plain": "Training loop:   0%|          | 0/239 [00:00<?, ?it/s]",
      "application/vnd.jupyter.widget-view+json": {
       "version_major": 2,
       "version_minor": 0,
       "model_id": "36211b30962047a2b5007c2e69d59d25"
      }
     },
     "metadata": {},
     "output_type": "display_data"
    },
    {
     "data": {
      "text/plain": "Validation loop:   0%|          | 0/9 [00:00<?, ?it/s]",
      "application/vnd.jupyter.widget-view+json": {
       "version_major": 2,
       "version_minor": 0,
       "model_id": "aafa42f5f7e04449854c78c40ea876db"
      }
     },
     "metadata": {},
     "output_type": "display_data"
    },
    {
     "name": "stdout",
     "output_type": "stream",
     "text": [
      "Epoch 16/200 - Train loss: 2.8745753800130966, Validation loss: 2.2492935531544234\n",
      "Early Stopping: 0/5\n"
     ]
    },
    {
     "data": {
      "text/plain": "Training loop:   0%|          | 0/239 [00:00<?, ?it/s]",
      "application/vnd.jupyter.widget-view+json": {
       "version_major": 2,
       "version_minor": 0,
       "model_id": "515ca13ad14745dfbf1d7a412fc745f9"
      }
     },
     "metadata": {},
     "output_type": "display_data"
    },
    {
     "data": {
      "text/plain": "Validation loop:   0%|          | 0/9 [00:00<?, ?it/s]",
      "application/vnd.jupyter.widget-view+json": {
       "version_major": 2,
       "version_minor": 0,
       "model_id": "e574b2c549ec423f8840505fa06ad4d9"
      }
     },
     "metadata": {},
     "output_type": "display_data"
    },
    {
     "name": "stdout",
     "output_type": "stream",
     "text": [
      "Epoch 17/200 - Train loss: 2.795445571290984, Validation loss: 2.1472619506548036\n",
      "Early Stopping: 0/5\n"
     ]
    },
    {
     "data": {
      "text/plain": "Training loop:   0%|          | 0/239 [00:00<?, ?it/s]",
      "application/vnd.jupyter.widget-view+json": {
       "version_major": 2,
       "version_minor": 0,
       "model_id": "75bafb847f8346f7982487f6fc35f1d8"
      }
     },
     "metadata": {},
     "output_type": "display_data"
    },
    {
     "data": {
      "text/plain": "Validation loop:   0%|          | 0/9 [00:00<?, ?it/s]",
      "application/vnd.jupyter.widget-view+json": {
       "version_major": 2,
       "version_minor": 0,
       "model_id": "85a5d2184539451592d287e9e3837acf"
      }
     },
     "metadata": {},
     "output_type": "display_data"
    },
    {
     "name": "stdout",
     "output_type": "stream",
     "text": [
      "Epoch 18/200 - Train loss: 2.749591207704414, Validation loss: 2.0917640587068953\n",
      "Early Stopping: 0/5\n"
     ]
    },
    {
     "data": {
      "text/plain": "Training loop:   0%|          | 0/239 [00:00<?, ?it/s]",
      "application/vnd.jupyter.widget-view+json": {
       "version_major": 2,
       "version_minor": 0,
       "model_id": "d758b3dab19045d79e8605e2d8289a2d"
      }
     },
     "metadata": {},
     "output_type": "display_data"
    },
    {
     "data": {
      "text/plain": "Validation loop:   0%|          | 0/9 [00:00<?, ?it/s]",
      "application/vnd.jupyter.widget-view+json": {
       "version_major": 2,
       "version_minor": 0,
       "model_id": "c30e6c9dcb1c49408d4abb8c4f4652a7"
      }
     },
     "metadata": {},
     "output_type": "display_data"
    },
    {
     "name": "stdout",
     "output_type": "stream",
     "text": [
      "Epoch 19/200 - Train loss: 2.705986455755244, Validation loss: 2.045773938916764\n",
      "Early Stopping: 0/5\n"
     ]
    },
    {
     "data": {
      "text/plain": "Training loop:   0%|          | 0/239 [00:00<?, ?it/s]",
      "application/vnd.jupyter.widget-view+json": {
       "version_major": 2,
       "version_minor": 0,
       "model_id": "0d650c75e8f646cba13d19931fd0efdb"
      }
     },
     "metadata": {},
     "output_type": "display_data"
    },
    {
     "data": {
      "text/plain": "Validation loop:   0%|          | 0/9 [00:00<?, ?it/s]",
      "application/vnd.jupyter.widget-view+json": {
       "version_major": 2,
       "version_minor": 0,
       "model_id": "9f8e0f74c2a84357b3cbbfd956107c31"
      }
     },
     "metadata": {},
     "output_type": "display_data"
    },
    {
     "name": "stdout",
     "output_type": "stream",
     "text": [
      "Epoch 20/200 - Train loss: 2.6351269677453377, Validation loss: 1.9814709474455636\n",
      "Early Stopping: 0/5\n"
     ]
    },
    {
     "data": {
      "text/plain": "Training loop:   0%|          | 0/239 [00:00<?, ?it/s]",
      "application/vnd.jupyter.widget-view+json": {
       "version_major": 2,
       "version_minor": 0,
       "model_id": "cbb8af6769214085a8621c98ff797c9f"
      }
     },
     "metadata": {},
     "output_type": "display_data"
    },
    {
     "data": {
      "text/plain": "Validation loop:   0%|          | 0/9 [00:00<?, ?it/s]",
      "application/vnd.jupyter.widget-view+json": {
       "version_major": 2,
       "version_minor": 0,
       "model_id": "c25c357ccd3a460485eedbef93aeb0fd"
      }
     },
     "metadata": {},
     "output_type": "display_data"
    },
    {
     "name": "stdout",
     "output_type": "stream",
     "text": [
      "Epoch 21/200 - Train loss: 2.5985557510119794, Validation loss: 1.9504542818609274\n",
      "Early Stopping: 0/5\n"
     ]
    },
    {
     "data": {
      "text/plain": "Training loop:   0%|          | 0/239 [00:00<?, ?it/s]",
      "application/vnd.jupyter.widget-view+json": {
       "version_major": 2,
       "version_minor": 0,
       "model_id": "1a3b6c911c0b4d559cdddb6f1f5cd84a"
      }
     },
     "metadata": {},
     "output_type": "display_data"
    },
    {
     "data": {
      "text/plain": "Validation loop:   0%|          | 0/9 [00:00<?, ?it/s]",
      "application/vnd.jupyter.widget-view+json": {
       "version_major": 2,
       "version_minor": 0,
       "model_id": "bf630b2430fd41a4a6d0452849991c2f"
      }
     },
     "metadata": {},
     "output_type": "display_data"
    },
    {
     "name": "stdout",
     "output_type": "stream",
     "text": [
      "Epoch 22/200 - Train loss: 2.54343651574406, Validation loss: 1.8769028636644471\n",
      "Early Stopping: 0/5\n"
     ]
    },
    {
     "data": {
      "text/plain": "Training loop:   0%|          | 0/239 [00:00<?, ?it/s]",
      "application/vnd.jupyter.widget-view+json": {
       "version_major": 2,
       "version_minor": 0,
       "model_id": "7c6cf33ee76849cbaca7911002c39901"
      }
     },
     "metadata": {},
     "output_type": "display_data"
    },
    {
     "data": {
      "text/plain": "Validation loop:   0%|          | 0/9 [00:00<?, ?it/s]",
      "application/vnd.jupyter.widget-view+json": {
       "version_major": 2,
       "version_minor": 0,
       "model_id": "37179922af1247eb93945818c3e6c801"
      }
     },
     "metadata": {},
     "output_type": "display_data"
    },
    {
     "name": "stdout",
     "output_type": "stream",
     "text": [
      "Epoch 23/200 - Train loss: 2.5052203529153765, Validation loss: 1.8509306205893463\n",
      "Early Stopping: 0/5\n"
     ]
    },
    {
     "data": {
      "text/plain": "Training loop:   0%|          | 0/239 [00:00<?, ?it/s]",
      "application/vnd.jupyter.widget-view+json": {
       "version_major": 2,
       "version_minor": 0,
       "model_id": "69c845ce18a74037a9fbe5c5108bb13f"
      }
     },
     "metadata": {},
     "output_type": "display_data"
    },
    {
     "data": {
      "text/plain": "Validation loop:   0%|          | 0/9 [00:00<?, ?it/s]",
      "application/vnd.jupyter.widget-view+json": {
       "version_major": 2,
       "version_minor": 0,
       "model_id": "6634da397508469ba8d1822970227880"
      }
     },
     "metadata": {},
     "output_type": "display_data"
    },
    {
     "name": "stdout",
     "output_type": "stream",
     "text": [
      "Epoch 24/200 - Train loss: 2.4835355241801533, Validation loss: 1.8125971632183722\n",
      "Early Stopping: 0/5\n"
     ]
    },
    {
     "data": {
      "text/plain": "Training loop:   0%|          | 0/239 [00:00<?, ?it/s]",
      "application/vnd.jupyter.widget-view+json": {
       "version_major": 2,
       "version_minor": 0,
       "model_id": "e1df6a74fbd34598a4ba9898d14dca62"
      }
     },
     "metadata": {},
     "output_type": "display_data"
    },
    {
     "data": {
      "text/plain": "Validation loop:   0%|          | 0/9 [00:00<?, ?it/s]",
      "application/vnd.jupyter.widget-view+json": {
       "version_major": 2,
       "version_minor": 0,
       "model_id": "72f234728f174ac6b16b026f54a6c220"
      }
     },
     "metadata": {},
     "output_type": "display_data"
    },
    {
     "name": "stdout",
     "output_type": "stream",
     "text": [
      "Epoch 25/200 - Train loss: 2.415737356744308, Validation loss: 1.7486179945603857\n",
      "Early Stopping: 0/5\n"
     ]
    },
    {
     "data": {
      "text/plain": "Training loop:   0%|          | 0/239 [00:00<?, ?it/s]",
      "application/vnd.jupyter.widget-view+json": {
       "version_major": 2,
       "version_minor": 0,
       "model_id": "8a55bf84f04042b69e6edad9da724900"
      }
     },
     "metadata": {},
     "output_type": "display_data"
    },
    {
     "data": {
      "text/plain": "Validation loop:   0%|          | 0/9 [00:00<?, ?it/s]",
      "application/vnd.jupyter.widget-view+json": {
       "version_major": 2,
       "version_minor": 0,
       "model_id": "3a6b6fc380dd433a9727d8a357bbe077"
      }
     },
     "metadata": {},
     "output_type": "display_data"
    },
    {
     "name": "stdout",
     "output_type": "stream",
     "text": [
      "Epoch 26/200 - Train loss: 2.398477007184424, Validation loss: 1.7295258589510647\n",
      "Early Stopping: 0/5\n"
     ]
    },
    {
     "data": {
      "text/plain": "Training loop:   0%|          | 0/239 [00:00<?, ?it/s]",
      "application/vnd.jupyter.widget-view+json": {
       "version_major": 2,
       "version_minor": 0,
       "model_id": "d516ca5ac53f42b6b020d36baeada844"
      }
     },
     "metadata": {},
     "output_type": "display_data"
    },
    {
     "data": {
      "text/plain": "Validation loop:   0%|          | 0/9 [00:00<?, ?it/s]",
      "application/vnd.jupyter.widget-view+json": {
       "version_major": 2,
       "version_minor": 0,
       "model_id": "cbb34c9358fa4dc9ad06ae58fe02d92f"
      }
     },
     "metadata": {},
     "output_type": "display_data"
    },
    {
     "name": "stdout",
     "output_type": "stream",
     "text": [
      "Epoch 27/200 - Train loss: 2.369248219076759, Validation loss: 1.7051543289760374\n",
      "Early Stopping: 0/5\n"
     ]
    },
    {
     "data": {
      "text/plain": "Training loop:   0%|          | 0/239 [00:00<?, ?it/s]",
      "application/vnd.jupyter.widget-view+json": {
       "version_major": 2,
       "version_minor": 0,
       "model_id": "74a8cc691da24c7ca18eb2a84d514dd9"
      }
     },
     "metadata": {},
     "output_type": "display_data"
    },
    {
     "data": {
      "text/plain": "Validation loop:   0%|          | 0/9 [00:00<?, ?it/s]",
      "application/vnd.jupyter.widget-view+json": {
       "version_major": 2,
       "version_minor": 0,
       "model_id": "78b282c962424801834b978023fa01cb"
      }
     },
     "metadata": {},
     "output_type": "display_data"
    },
    {
     "name": "stdout",
     "output_type": "stream",
     "text": [
      "Epoch 28/200 - Train loss: 2.3378840048190552, Validation loss: 1.6873075728146536\n",
      "Early Stopping: 0/5\n"
     ]
    },
    {
     "data": {
      "text/plain": "Training loop:   0%|          | 0/239 [00:00<?, ?it/s]",
      "application/vnd.jupyter.widget-view+json": {
       "version_major": 2,
       "version_minor": 0,
       "model_id": "7a58f959b5004d19b3d0689233a0965f"
      }
     },
     "metadata": {},
     "output_type": "display_data"
    },
    {
     "data": {
      "text/plain": "Validation loop:   0%|          | 0/9 [00:00<?, ?it/s]",
      "application/vnd.jupyter.widget-view+json": {
       "version_major": 2,
       "version_minor": 0,
       "model_id": "44283fbbc38841c9ba187bf52579e413"
      }
     },
     "metadata": {},
     "output_type": "display_data"
    },
    {
     "name": "stdout",
     "output_type": "stream",
     "text": [
      "Epoch 29/200 - Train loss: 2.3088333494140367, Validation loss: 1.660029478343028\n",
      "Early Stopping: 0/5\n"
     ]
    },
    {
     "data": {
      "text/plain": "Training loop:   0%|          | 0/239 [00:00<?, ?it/s]",
      "application/vnd.jupyter.widget-view+json": {
       "version_major": 2,
       "version_minor": 0,
       "model_id": "426a9d5cec944656afab0ad95d0eb7ac"
      }
     },
     "metadata": {},
     "output_type": "display_data"
    },
    {
     "data": {
      "text/plain": "Validation loop:   0%|          | 0/9 [00:00<?, ?it/s]",
      "application/vnd.jupyter.widget-view+json": {
       "version_major": 2,
       "version_minor": 0,
       "model_id": "71693716261d442aa3734ada60570a05"
      }
     },
     "metadata": {},
     "output_type": "display_data"
    },
    {
     "name": "stdout",
     "output_type": "stream",
     "text": [
      "Epoch 30/200 - Train loss: 2.2792742062215416, Validation loss: 1.6244712109835642\n",
      "Early Stopping: 0/5\n"
     ]
    },
    {
     "data": {
      "text/plain": "Training loop:   0%|          | 0/239 [00:00<?, ?it/s]",
      "application/vnd.jupyter.widget-view+json": {
       "version_major": 2,
       "version_minor": 0,
       "model_id": "6ce6208e805d4af7b704bcca33dc03fa"
      }
     },
     "metadata": {},
     "output_type": "display_data"
    },
    {
     "data": {
      "text/plain": "Validation loop:   0%|          | 0/9 [00:00<?, ?it/s]",
      "application/vnd.jupyter.widget-view+json": {
       "version_major": 2,
       "version_minor": 0,
       "model_id": "f6a8f5c11cec4efca7df330b7444896e"
      }
     },
     "metadata": {},
     "output_type": "display_data"
    },
    {
     "name": "stdout",
     "output_type": "stream",
     "text": [
      "Epoch 31/200 - Train loss: 2.262458196341804, Validation loss: 1.597297864590051\n",
      "Early Stopping: 0/5\n"
     ]
    },
    {
     "data": {
      "text/plain": "Training loop:   0%|          | 0/239 [00:00<?, ?it/s]",
      "application/vnd.jupyter.widget-view+json": {
       "version_major": 2,
       "version_minor": 0,
       "model_id": "6f9cfc939eb24111b4d1caa23cc52007"
      }
     },
     "metadata": {},
     "output_type": "display_data"
    },
    {
     "data": {
      "text/plain": "Validation loop:   0%|          | 0/9 [00:00<?, ?it/s]",
      "application/vnd.jupyter.widget-view+json": {
       "version_major": 2,
       "version_minor": 0,
       "model_id": "047f4351e1c44b3fa38db5a58c3ea942"
      }
     },
     "metadata": {},
     "output_type": "display_data"
    },
    {
     "name": "stdout",
     "output_type": "stream",
     "text": [
      "Epoch 32/200 - Train loss: 2.216294800997531, Validation loss: 1.578716523692293\n",
      "Early Stopping: 0/5\n"
     ]
    },
    {
     "data": {
      "text/plain": "Training loop:   0%|          | 0/239 [00:00<?, ?it/s]",
      "application/vnd.jupyter.widget-view+json": {
       "version_major": 2,
       "version_minor": 0,
       "model_id": "9c3ade610c84422ea6f03a7feeddaf08"
      }
     },
     "metadata": {},
     "output_type": "display_data"
    },
    {
     "data": {
      "text/plain": "Validation loop:   0%|          | 0/9 [00:00<?, ?it/s]",
      "application/vnd.jupyter.widget-view+json": {
       "version_major": 2,
       "version_minor": 0,
       "model_id": "5a5d9f0aa9fe438a9e719545d4ef996b"
      }
     },
     "metadata": {},
     "output_type": "display_data"
    },
    {
     "name": "stdout",
     "output_type": "stream",
     "text": [
      "Epoch 33/200 - Train loss: 2.1951582331722457, Validation loss: 1.5526059150695801\n",
      "Early Stopping: 0/5\n"
     ]
    },
    {
     "data": {
      "text/plain": "Training loop:   0%|          | 0/239 [00:00<?, ?it/s]",
      "application/vnd.jupyter.widget-view+json": {
       "version_major": 2,
       "version_minor": 0,
       "model_id": "f9d2c36d86a84c60b1874265b0c67fc2"
      }
     },
     "metadata": {},
     "output_type": "display_data"
    },
    {
     "data": {
      "text/plain": "Validation loop:   0%|          | 0/9 [00:00<?, ?it/s]",
      "application/vnd.jupyter.widget-view+json": {
       "version_major": 2,
       "version_minor": 0,
       "model_id": "cb7dbef0565e4cdd969dd329454788f0"
      }
     },
     "metadata": {},
     "output_type": "display_data"
    },
    {
     "name": "stdout",
     "output_type": "stream",
     "text": [
      "Epoch 34/200 - Train loss: 2.176544100640328, Validation loss: 1.5263361080637519\n",
      "Early Stopping: 0/5\n"
     ]
    },
    {
     "data": {
      "text/plain": "Training loop:   0%|          | 0/239 [00:00<?, ?it/s]",
      "application/vnd.jupyter.widget-view+json": {
       "version_major": 2,
       "version_minor": 0,
       "model_id": "f8c7c22c222b4d639012cfae9c8cb900"
      }
     },
     "metadata": {},
     "output_type": "display_data"
    },
    {
     "data": {
      "text/plain": "Validation loop:   0%|          | 0/9 [00:00<?, ?it/s]",
      "application/vnd.jupyter.widget-view+json": {
       "version_major": 2,
       "version_minor": 0,
       "model_id": "0fdb8680aed2410290771122084fc857"
      }
     },
     "metadata": {},
     "output_type": "display_data"
    },
    {
     "name": "stdout",
     "output_type": "stream",
     "text": [
      "Epoch 35/200 - Train loss: 2.1515707960909336, Validation loss: 1.5117965567786738\n",
      "Early Stopping: 0/5\n"
     ]
    },
    {
     "data": {
      "text/plain": "Training loop:   0%|          | 0/239 [00:00<?, ?it/s]",
      "application/vnd.jupyter.widget-view+json": {
       "version_major": 2,
       "version_minor": 0,
       "model_id": "018f16eed28f47c792a08d376cd17ef8"
      }
     },
     "metadata": {},
     "output_type": "display_data"
    },
    {
     "data": {
      "text/plain": "Validation loop:   0%|          | 0/9 [00:00<?, ?it/s]",
      "application/vnd.jupyter.widget-view+json": {
       "version_major": 2,
       "version_minor": 0,
       "model_id": "f1422bb4dfef4112b2a404a1e4515fef"
      }
     },
     "metadata": {},
     "output_type": "display_data"
    },
    {
     "name": "stdout",
     "output_type": "stream",
     "text": [
      "Epoch 36/200 - Train loss: 2.120818137121851, Validation loss: 1.4938352494869591\n",
      "Early Stopping: 0/5\n"
     ]
    },
    {
     "data": {
      "text/plain": "Training loop:   0%|          | 0/239 [00:00<?, ?it/s]",
      "application/vnd.jupyter.widget-view+json": {
       "version_major": 2,
       "version_minor": 0,
       "model_id": "8fc18905914c4a0a8cd1be4876498136"
      }
     },
     "metadata": {},
     "output_type": "display_data"
    },
    {
     "data": {
      "text/plain": "Validation loop:   0%|          | 0/9 [00:00<?, ?it/s]",
      "application/vnd.jupyter.widget-view+json": {
       "version_major": 2,
       "version_minor": 0,
       "model_id": "42d5ae9aaf6a4beba660effa0fbf2bf0"
      }
     },
     "metadata": {},
     "output_type": "display_data"
    },
    {
     "name": "stdout",
     "output_type": "stream",
     "text": [
      "Epoch 37/200 - Train loss: 2.1043271853315866, Validation loss: 1.4781902232260073\n",
      "Early Stopping: 0/5\n"
     ]
    },
    {
     "data": {
      "text/plain": "Training loop:   0%|          | 0/239 [00:00<?, ?it/s]",
      "application/vnd.jupyter.widget-view+json": {
       "version_major": 2,
       "version_minor": 0,
       "model_id": "1b4bee27014f4ba7853cc30b0d82a1d6"
      }
     },
     "metadata": {},
     "output_type": "display_data"
    },
    {
     "data": {
      "text/plain": "Validation loop:   0%|          | 0/9 [00:00<?, ?it/s]",
      "application/vnd.jupyter.widget-view+json": {
       "version_major": 2,
       "version_minor": 0,
       "model_id": "e6e5ab6e905342459f7724c7588e18a3"
      }
     },
     "metadata": {},
     "output_type": "display_data"
    },
    {
     "name": "stdout",
     "output_type": "stream",
     "text": [
      "Epoch 38/200 - Train loss: 2.0692683827339162, Validation loss: 1.4446090545294419\n",
      "Early Stopping: 0/5\n"
     ]
    },
    {
     "data": {
      "text/plain": "Training loop:   0%|          | 0/239 [00:00<?, ?it/s]",
      "application/vnd.jupyter.widget-view+json": {
       "version_major": 2,
       "version_minor": 0,
       "model_id": "d3eb308e89754cc0a3c59c50c3c5d6e0"
      }
     },
     "metadata": {},
     "output_type": "display_data"
    },
    {
     "data": {
      "text/plain": "Validation loop:   0%|          | 0/9 [00:00<?, ?it/s]",
      "application/vnd.jupyter.widget-view+json": {
       "version_major": 2,
       "version_minor": 0,
       "model_id": "fc48210ce1f44f19b23eb80709a8e826"
      }
     },
     "metadata": {},
     "output_type": "display_data"
    },
    {
     "name": "stdout",
     "output_type": "stream",
     "text": [
      "Epoch 39/200 - Train loss: 2.0558908926352375, Validation loss: 1.4232184671006112\n",
      "Early Stopping: 0/5\n"
     ]
    },
    {
     "data": {
      "text/plain": "Training loop:   0%|          | 0/239 [00:00<?, ?it/s]",
      "application/vnd.jupyter.widget-view+json": {
       "version_major": 2,
       "version_minor": 0,
       "model_id": "3f496d054aae4ecb80a44c639f232bf9"
      }
     },
     "metadata": {},
     "output_type": "display_data"
    },
    {
     "data": {
      "text/plain": "Validation loop:   0%|          | 0/9 [00:00<?, ?it/s]",
      "application/vnd.jupyter.widget-view+json": {
       "version_major": 2,
       "version_minor": 0,
       "model_id": "c2018ff8f86b4aac9f3939c635f71702"
      }
     },
     "metadata": {},
     "output_type": "display_data"
    },
    {
     "name": "stdout",
     "output_type": "stream",
     "text": [
      "Epoch 40/200 - Train loss: 2.03752359175607, Validation loss: 1.4133736511446395\n",
      "Early Stopping: 0/5\n"
     ]
    },
    {
     "data": {
      "text/plain": "Training loop:   0%|          | 0/239 [00:00<?, ?it/s]",
      "application/vnd.jupyter.widget-view+json": {
       "version_major": 2,
       "version_minor": 0,
       "model_id": "46ce063c5ca54d0fa321842280c23570"
      }
     },
     "metadata": {},
     "output_type": "display_data"
    },
    {
     "data": {
      "text/plain": "Validation loop:   0%|          | 0/9 [00:00<?, ?it/s]",
      "application/vnd.jupyter.widget-view+json": {
       "version_major": 2,
       "version_minor": 0,
       "model_id": "2c588f59dbb5480b8e559e1776c0cb3f"
      }
     },
     "metadata": {},
     "output_type": "display_data"
    },
    {
     "name": "stdout",
     "output_type": "stream",
     "text": [
      "Epoch 41/200 - Train loss: 2.021564832889521, Validation loss: 1.3863996460752668\n",
      "Early Stopping: 0/5\n"
     ]
    },
    {
     "data": {
      "text/plain": "Training loop:   0%|          | 0/239 [00:00<?, ?it/s]",
      "application/vnd.jupyter.widget-view+json": {
       "version_major": 2,
       "version_minor": 0,
       "model_id": "ecc453e645e7423281820626cc30fb0e"
      }
     },
     "metadata": {},
     "output_type": "display_data"
    },
    {
     "data": {
      "text/plain": "Validation loop:   0%|          | 0/9 [00:00<?, ?it/s]",
      "application/vnd.jupyter.widget-view+json": {
       "version_major": 2,
       "version_minor": 0,
       "model_id": "2c1860fe2943465793c0cc6501d14588"
      }
     },
     "metadata": {},
     "output_type": "display_data"
    },
    {
     "name": "stdout",
     "output_type": "stream",
     "text": [
      "Epoch 42/200 - Train loss: 1.9900257574924016, Validation loss: 1.3677473045744986\n",
      "Early Stopping: 0/5\n"
     ]
    },
    {
     "data": {
      "text/plain": "Training loop:   0%|          | 0/239 [00:00<?, ?it/s]",
      "application/vnd.jupyter.widget-view+json": {
       "version_major": 2,
       "version_minor": 0,
       "model_id": "3823aa4da5e34a5c9648a560f11fb1cb"
      }
     },
     "metadata": {},
     "output_type": "display_data"
    },
    {
     "data": {
      "text/plain": "Validation loop:   0%|          | 0/9 [00:00<?, ?it/s]",
      "application/vnd.jupyter.widget-view+json": {
       "version_major": 2,
       "version_minor": 0,
       "model_id": "daf9e11a4ca0405f83389c37e198a9c7"
      }
     },
     "metadata": {},
     "output_type": "display_data"
    },
    {
     "name": "stdout",
     "output_type": "stream",
     "text": [
      "Epoch 43/200 - Train loss: 1.971432526239193, Validation loss: 1.3588981704891852\n",
      "Early Stopping: 0/5\n"
     ]
    },
    {
     "data": {
      "text/plain": "Training loop:   0%|          | 0/239 [00:00<?, ?it/s]",
      "application/vnd.jupyter.widget-view+json": {
       "version_major": 2,
       "version_minor": 0,
       "model_id": "5b4c3ce152574ef38d1c6b469da7eebb"
      }
     },
     "metadata": {},
     "output_type": "display_data"
    },
    {
     "data": {
      "text/plain": "Validation loop:   0%|          | 0/9 [00:00<?, ?it/s]",
      "application/vnd.jupyter.widget-view+json": {
       "version_major": 2,
       "version_minor": 0,
       "model_id": "2ad4b2b1ade04277b03eb91a4d1c1af5"
      }
     },
     "metadata": {},
     "output_type": "display_data"
    },
    {
     "name": "stdout",
     "output_type": "stream",
     "text": [
      "Epoch 44/200 - Train loss: 1.944535515115744, Validation loss: 1.3252759807514694\n",
      "Early Stopping: 0/5\n"
     ]
    },
    {
     "data": {
      "text/plain": "Training loop:   0%|          | 0/239 [00:00<?, ?it/s]",
      "application/vnd.jupyter.widget-view+json": {
       "version_major": 2,
       "version_minor": 0,
       "model_id": "990d0cedc30c4c0db524170268fd7380"
      }
     },
     "metadata": {},
     "output_type": "display_data"
    },
    {
     "data": {
      "text/plain": "Validation loop:   0%|          | 0/9 [00:00<?, ?it/s]",
      "application/vnd.jupyter.widget-view+json": {
       "version_major": 2,
       "version_minor": 0,
       "model_id": "d52771cc545c41aeb3cb255fee6db53f"
      }
     },
     "metadata": {},
     "output_type": "display_data"
    },
    {
     "name": "stdout",
     "output_type": "stream",
     "text": [
      "Epoch 45/200 - Train loss: 1.9293433028778524, Validation loss: 1.3206985838008376\n",
      "Early Stopping: 0/5\n"
     ]
    },
    {
     "data": {
      "text/plain": "Training loop:   0%|          | 0/239 [00:00<?, ?it/s]",
      "application/vnd.jupyter.widget-view+json": {
       "version_major": 2,
       "version_minor": 0,
       "model_id": "2735af8166a44825834bca406109bf5e"
      }
     },
     "metadata": {},
     "output_type": "display_data"
    },
    {
     "data": {
      "text/plain": "Validation loop:   0%|          | 0/9 [00:00<?, ?it/s]",
      "application/vnd.jupyter.widget-view+json": {
       "version_major": 2,
       "version_minor": 0,
       "model_id": "af28e60a3c4c466a9d0301efe6a2ee93"
      }
     },
     "metadata": {},
     "output_type": "display_data"
    },
    {
     "name": "stdout",
     "output_type": "stream",
     "text": [
      "Epoch 46/200 - Train loss: 1.8956493035443558, Validation loss: 1.2897133449338518\n",
      "Early Stopping: 0/5\n"
     ]
    },
    {
     "data": {
      "text/plain": "Training loop:   0%|          | 0/239 [00:00<?, ?it/s]",
      "application/vnd.jupyter.widget-view+json": {
       "version_major": 2,
       "version_minor": 0,
       "model_id": "9fe2a420f7f5448688c89b6f0f39e745"
      }
     },
     "metadata": {},
     "output_type": "display_data"
    },
    {
     "data": {
      "text/plain": "Validation loop:   0%|          | 0/9 [00:00<?, ?it/s]",
      "application/vnd.jupyter.widget-view+json": {
       "version_major": 2,
       "version_minor": 0,
       "model_id": "f287e6bbd26444afb82209ad1d47efff"
      }
     },
     "metadata": {},
     "output_type": "display_data"
    },
    {
     "name": "stdout",
     "output_type": "stream",
     "text": [
      "Epoch 47/200 - Train loss: 1.8837969351915598, Validation loss: 1.2965011088353282\n",
      "Early Stopping: 1/5\n"
     ]
    },
    {
     "data": {
      "text/plain": "Training loop:   0%|          | 0/239 [00:00<?, ?it/s]",
      "application/vnd.jupyter.widget-view+json": {
       "version_major": 2,
       "version_minor": 0,
       "model_id": "b53aca8d447e4828b593e28e5a5a4390"
      }
     },
     "metadata": {},
     "output_type": "display_data"
    },
    {
     "data": {
      "text/plain": "Validation loop:   0%|          | 0/9 [00:00<?, ?it/s]",
      "application/vnd.jupyter.widget-view+json": {
       "version_major": 2,
       "version_minor": 0,
       "model_id": "4868f5bdcd3b4056a4c0ad5be6c533a5"
      }
     },
     "metadata": {},
     "output_type": "display_data"
    },
    {
     "name": "stdout",
     "output_type": "stream",
     "text": [
      "Epoch 48/200 - Train loss: 1.8582025770125334, Validation loss: 1.2547990547036225\n",
      "Early Stopping: 0/5\n"
     ]
    },
    {
     "data": {
      "text/plain": "Training loop:   0%|          | 0/239 [00:00<?, ?it/s]",
      "application/vnd.jupyter.widget-view+json": {
       "version_major": 2,
       "version_minor": 0,
       "model_id": "c4364fcf5d974b9ab89c41f11f6ae3e0"
      }
     },
     "metadata": {},
     "output_type": "display_data"
    },
    {
     "data": {
      "text/plain": "Validation loop:   0%|          | 0/9 [00:00<?, ?it/s]",
      "application/vnd.jupyter.widget-view+json": {
       "version_major": 2,
       "version_minor": 0,
       "model_id": "c163c9c0e6284e60a2a520aba86b187a"
      }
     },
     "metadata": {},
     "output_type": "display_data"
    },
    {
     "name": "stdout",
     "output_type": "stream",
     "text": [
      "Epoch 49/200 - Train loss: 1.8380343233550833, Validation loss: 1.2483923147309501\n",
      "Early Stopping: 0/5\n"
     ]
    },
    {
     "data": {
      "text/plain": "Training loop:   0%|          | 0/239 [00:00<?, ?it/s]",
      "application/vnd.jupyter.widget-view+json": {
       "version_major": 2,
       "version_minor": 0,
       "model_id": "c68feb34883f481aba513ef4908814ea"
      }
     },
     "metadata": {},
     "output_type": "display_data"
    },
    {
     "data": {
      "text/plain": "Validation loop:   0%|          | 0/9 [00:00<?, ?it/s]",
      "application/vnd.jupyter.widget-view+json": {
       "version_major": 2,
       "version_minor": 0,
       "model_id": "aa63a96b39684b72b9290c61204be6db"
      }
     },
     "metadata": {},
     "output_type": "display_data"
    },
    {
     "name": "stdout",
     "output_type": "stream",
     "text": [
      "Epoch 50/200 - Train loss: 1.8126510635628155, Validation loss: 1.2316756037046324\n",
      "Early Stopping: 0/5\n"
     ]
    },
    {
     "data": {
      "text/plain": "Training loop:   0%|          | 0/239 [00:00<?, ?it/s]",
      "application/vnd.jupyter.widget-view+json": {
       "version_major": 2,
       "version_minor": 0,
       "model_id": "dded0e934237486fb185aaad1cdbc92d"
      }
     },
     "metadata": {},
     "output_type": "display_data"
    },
    {
     "data": {
      "text/plain": "Validation loop:   0%|          | 0/9 [00:00<?, ?it/s]",
      "application/vnd.jupyter.widget-view+json": {
       "version_major": 2,
       "version_minor": 0,
       "model_id": "09c4c3d33e284438b2a687b7cf1d4eca"
      }
     },
     "metadata": {},
     "output_type": "display_data"
    },
    {
     "name": "stdout",
     "output_type": "stream",
     "text": [
      "Epoch 51/200 - Train loss: 1.806187624946346, Validation loss: 1.2108544763529077\n",
      "Early Stopping: 0/5\n"
     ]
    },
    {
     "data": {
      "text/plain": "Training loop:   0%|          | 0/239 [00:00<?, ?it/s]",
      "application/vnd.jupyter.widget-view+json": {
       "version_major": 2,
       "version_minor": 0,
       "model_id": "db2fb27bea594db78073744b2636f093"
      }
     },
     "metadata": {},
     "output_type": "display_data"
    },
    {
     "data": {
      "text/plain": "Validation loop:   0%|          | 0/9 [00:00<?, ?it/s]",
      "application/vnd.jupyter.widget-view+json": {
       "version_major": 2,
       "version_minor": 0,
       "model_id": "d055d915a6464fefb5d101af3989f8a6"
      }
     },
     "metadata": {},
     "output_type": "display_data"
    },
    {
     "name": "stdout",
     "output_type": "stream",
     "text": [
      "Epoch 52/200 - Train loss: 1.7885667139435615, Validation loss: 1.1949237589566213\n",
      "Early Stopping: 0/5\n"
     ]
    },
    {
     "data": {
      "text/plain": "Training loop:   0%|          | 0/239 [00:00<?, ?it/s]",
      "application/vnd.jupyter.widget-view+json": {
       "version_major": 2,
       "version_minor": 0,
       "model_id": "c0c4af15322841229bf3344eb5d861bf"
      }
     },
     "metadata": {},
     "output_type": "display_data"
    },
    {
     "data": {
      "text/plain": "Validation loop:   0%|          | 0/9 [00:00<?, ?it/s]",
      "application/vnd.jupyter.widget-view+json": {
       "version_major": 2,
       "version_minor": 0,
       "model_id": "11031f2b642e4e31a06e0ec29e966ffd"
      }
     },
     "metadata": {},
     "output_type": "display_data"
    },
    {
     "name": "stdout",
     "output_type": "stream",
     "text": [
      "Epoch 53/200 - Train loss: 1.7571711505197403, Validation loss: 1.172609634669322\n",
      "Early Stopping: 0/5\n"
     ]
    },
    {
     "data": {
      "text/plain": "Training loop:   0%|          | 0/239 [00:00<?, ?it/s]",
      "application/vnd.jupyter.widget-view+json": {
       "version_major": 2,
       "version_minor": 0,
       "model_id": "bf7b4d62ddff4e918a670d71bbbd4f16"
      }
     },
     "metadata": {},
     "output_type": "display_data"
    },
    {
     "data": {
      "text/plain": "Validation loop:   0%|          | 0/9 [00:00<?, ?it/s]",
      "application/vnd.jupyter.widget-view+json": {
       "version_major": 2,
       "version_minor": 0,
       "model_id": "d25785ede7684b5aa0a5f1cd9f89662a"
      }
     },
     "metadata": {},
     "output_type": "display_data"
    },
    {
     "name": "stdout",
     "output_type": "stream",
     "text": [
      "Epoch 54/200 - Train loss: 1.736560797140956, Validation loss: 1.1483118646549728\n",
      "Early Stopping: 0/5\n"
     ]
    },
    {
     "data": {
      "text/plain": "Training loop:   0%|          | 0/239 [00:00<?, ?it/s]",
      "application/vnd.jupyter.widget-view+json": {
       "version_major": 2,
       "version_minor": 0,
       "model_id": "68d58344ab104c268f6e5380851a71bc"
      }
     },
     "metadata": {},
     "output_type": "display_data"
    },
    {
     "data": {
      "text/plain": "Validation loop:   0%|          | 0/9 [00:00<?, ?it/s]",
      "application/vnd.jupyter.widget-view+json": {
       "version_major": 2,
       "version_minor": 0,
       "model_id": "6c51ece8acce48079122bb3bb28d1a4d"
      }
     },
     "metadata": {},
     "output_type": "display_data"
    },
    {
     "name": "stdout",
     "output_type": "stream",
     "text": [
      "Epoch 55/200 - Train loss: 1.7101019105530986, Validation loss: 1.1265160610091012\n",
      "Early Stopping: 0/5\n"
     ]
    },
    {
     "data": {
      "text/plain": "Training loop:   0%|          | 0/239 [00:00<?, ?it/s]",
      "application/vnd.jupyter.widget-view+json": {
       "version_major": 2,
       "version_minor": 0,
       "model_id": "afe41bd98eff489a8ff9ca256f939443"
      }
     },
     "metadata": {},
     "output_type": "display_data"
    },
    {
     "data": {
      "text/plain": "Validation loop:   0%|          | 0/9 [00:00<?, ?it/s]",
      "application/vnd.jupyter.widget-view+json": {
       "version_major": 2,
       "version_minor": 0,
       "model_id": "321fbd1f8d3e4633bd9e3f783f892ec2"
      }
     },
     "metadata": {},
     "output_type": "display_data"
    },
    {
     "name": "stdout",
     "output_type": "stream",
     "text": [
      "Epoch 56/200 - Train loss: 1.6993414835314435, Validation loss: 1.1225391626358032\n",
      "Early Stopping: 0/5\n"
     ]
    },
    {
     "data": {
      "text/plain": "Training loop:   0%|          | 0/239 [00:00<?, ?it/s]",
      "application/vnd.jupyter.widget-view+json": {
       "version_major": 2,
       "version_minor": 0,
       "model_id": "51ec7f1405824a5286949fe3bcba45a2"
      }
     },
     "metadata": {},
     "output_type": "display_data"
    },
    {
     "data": {
      "text/plain": "Validation loop:   0%|          | 0/9 [00:00<?, ?it/s]",
      "application/vnd.jupyter.widget-view+json": {
       "version_major": 2,
       "version_minor": 0,
       "model_id": "aecd65e46ddf431e8ac5197b5044e3de"
      }
     },
     "metadata": {},
     "output_type": "display_data"
    },
    {
     "name": "stdout",
     "output_type": "stream",
     "text": [
      "Epoch 57/200 - Train loss: 1.6520889218181278, Validation loss: 1.0957276335302388\n",
      "Early Stopping: 0/5\n"
     ]
    },
    {
     "data": {
      "text/plain": "Training loop:   0%|          | 0/239 [00:00<?, ?it/s]",
      "application/vnd.jupyter.widget-view+json": {
       "version_major": 2,
       "version_minor": 0,
       "model_id": "0fa491b9a1b54550b1f66402356313aa"
      }
     },
     "metadata": {},
     "output_type": "display_data"
    },
    {
     "data": {
      "text/plain": "Validation loop:   0%|          | 0/9 [00:00<?, ?it/s]",
      "application/vnd.jupyter.widget-view+json": {
       "version_major": 2,
       "version_minor": 0,
       "model_id": "4104ed5458154e4d8442b0d7c583a13d"
      }
     },
     "metadata": {},
     "output_type": "display_data"
    },
    {
     "name": "stdout",
     "output_type": "stream",
     "text": [
      "Epoch 58/200 - Train loss: 1.6445717363767833, Validation loss: 1.0877580615709412\n",
      "Early Stopping: 0/5\n"
     ]
    },
    {
     "data": {
      "text/plain": "Training loop:   0%|          | 0/239 [00:00<?, ?it/s]",
      "application/vnd.jupyter.widget-view+json": {
       "version_major": 2,
       "version_minor": 0,
       "model_id": "94180c2bcfa9451b98e72b01da6ae96c"
      }
     },
     "metadata": {},
     "output_type": "display_data"
    },
    {
     "data": {
      "text/plain": "Validation loop:   0%|          | 0/9 [00:00<?, ?it/s]",
      "application/vnd.jupyter.widget-view+json": {
       "version_major": 2,
       "version_minor": 0,
       "model_id": "18cf44379a444f0da309b527cb4495a9"
      }
     },
     "metadata": {},
     "output_type": "display_data"
    },
    {
     "name": "stdout",
     "output_type": "stream",
     "text": [
      "Epoch 59/200 - Train loss: 1.625626381709468, Validation loss: 1.0495554699088043\n",
      "Early Stopping: 0/5\n"
     ]
    },
    {
     "data": {
      "text/plain": "Training loop:   0%|          | 0/239 [00:00<?, ?it/s]",
      "application/vnd.jupyter.widget-view+json": {
       "version_major": 2,
       "version_minor": 0,
       "model_id": "c4e1b4e9d9c64493aaf04799ff80561c"
      }
     },
     "metadata": {},
     "output_type": "display_data"
    },
    {
     "data": {
      "text/plain": "Validation loop:   0%|          | 0/9 [00:00<?, ?it/s]",
      "application/vnd.jupyter.widget-view+json": {
       "version_major": 2,
       "version_minor": 0,
       "model_id": "3162dafefe184054aac9179bf6fbb44e"
      }
     },
     "metadata": {},
     "output_type": "display_data"
    },
    {
     "name": "stdout",
     "output_type": "stream",
     "text": [
      "Epoch 60/200 - Train loss: 1.6034211353139887, Validation loss: 1.0450849128219317\n",
      "Early Stopping: 0/5\n"
     ]
    },
    {
     "data": {
      "text/plain": "Training loop:   0%|          | 0/239 [00:00<?, ?it/s]",
      "application/vnd.jupyter.widget-view+json": {
       "version_major": 2,
       "version_minor": 0,
       "model_id": "eb59f4405b77474485ff975500c6f85b"
      }
     },
     "metadata": {},
     "output_type": "display_data"
    },
    {
     "data": {
      "text/plain": "Validation loop:   0%|          | 0/9 [00:00<?, ?it/s]",
      "application/vnd.jupyter.widget-view+json": {
       "version_major": 2,
       "version_minor": 0,
       "model_id": "289a77a466a44cb384cb84f4f35a100f"
      }
     },
     "metadata": {},
     "output_type": "display_data"
    },
    {
     "name": "stdout",
     "output_type": "stream",
     "text": [
      "Epoch 61/200 - Train loss: 1.581405590738855, Validation loss: 1.0292249099263604\n",
      "Early Stopping: 0/5\n"
     ]
    },
    {
     "data": {
      "text/plain": "Training loop:   0%|          | 0/239 [00:00<?, ?it/s]",
      "application/vnd.jupyter.widget-view+json": {
       "version_major": 2,
       "version_minor": 0,
       "model_id": "a5e73c3e94964331b87136607c81cb46"
      }
     },
     "metadata": {},
     "output_type": "display_data"
    },
    {
     "data": {
      "text/plain": "Validation loop:   0%|          | 0/9 [00:00<?, ?it/s]",
      "application/vnd.jupyter.widget-view+json": {
       "version_major": 2,
       "version_minor": 0,
       "model_id": "d0a6726285994c0a85278baaca7333be"
      }
     },
     "metadata": {},
     "output_type": "display_data"
    },
    {
     "name": "stdout",
     "output_type": "stream",
     "text": [
      "Epoch 62/200 - Train loss: 1.564551386853205, Validation loss: 1.0064278625092415\n",
      "Early Stopping: 0/5\n"
     ]
    },
    {
     "data": {
      "text/plain": "Training loop:   0%|          | 0/239 [00:00<?, ?it/s]",
      "application/vnd.jupyter.widget-view+json": {
       "version_major": 2,
       "version_minor": 0,
       "model_id": "ec0f2953e9a5438c9de2ef1ca6fa23c1"
      }
     },
     "metadata": {},
     "output_type": "display_data"
    },
    {
     "data": {
      "text/plain": "Validation loop:   0%|          | 0/9 [00:00<?, ?it/s]",
      "application/vnd.jupyter.widget-view+json": {
       "version_major": 2,
       "version_minor": 0,
       "model_id": "0d35722b53da471d96eab168d98dbbfb"
      }
     },
     "metadata": {},
     "output_type": "display_data"
    },
    {
     "name": "stdout",
     "output_type": "stream",
     "text": [
      "Epoch 63/200 - Train loss: 1.5422288030542333, Validation loss: 1.0456639348335985\n",
      "Early Stopping: 1/5\n"
     ]
    },
    {
     "data": {
      "text/plain": "Training loop:   0%|          | 0/239 [00:00<?, ?it/s]",
      "application/vnd.jupyter.widget-view+json": {
       "version_major": 2,
       "version_minor": 0,
       "model_id": "6a9c8364966b421b9c6ebee421cc05a4"
      }
     },
     "metadata": {},
     "output_type": "display_data"
    },
    {
     "data": {
      "text/plain": "Validation loop:   0%|          | 0/9 [00:00<?, ?it/s]",
      "application/vnd.jupyter.widget-view+json": {
       "version_major": 2,
       "version_minor": 0,
       "model_id": "17fa860064ab440f9432c8c7075f837a"
      }
     },
     "metadata": {},
     "output_type": "display_data"
    },
    {
     "name": "stdout",
     "output_type": "stream",
     "text": [
      "Epoch 64/200 - Train loss: 1.5469899427728162, Validation loss: 0.9842049562706138\n",
      "Early Stopping: 0/5\n"
     ]
    },
    {
     "data": {
      "text/plain": "Training loop:   0%|          | 0/239 [00:00<?, ?it/s]",
      "application/vnd.jupyter.widget-view+json": {
       "version_major": 2,
       "version_minor": 0,
       "model_id": "bf147a33a40247bd806efb080a9167d5"
      }
     },
     "metadata": {},
     "output_type": "display_data"
    },
    {
     "data": {
      "text/plain": "Validation loop:   0%|          | 0/9 [00:00<?, ?it/s]",
      "application/vnd.jupyter.widget-view+json": {
       "version_major": 2,
       "version_minor": 0,
       "model_id": "08390669ce0546878a06bcdf4504844c"
      }
     },
     "metadata": {},
     "output_type": "display_data"
    },
    {
     "name": "stdout",
     "output_type": "stream",
     "text": [
      "Epoch 65/200 - Train loss: 1.5134229428620554, Validation loss: 0.9768378046323668\n",
      "Early Stopping: 0/5\n"
     ]
    },
    {
     "data": {
      "text/plain": "Training loop:   0%|          | 0/239 [00:00<?, ?it/s]",
      "application/vnd.jupyter.widget-view+json": {
       "version_major": 2,
       "version_minor": 0,
       "model_id": "8ca93baae45e4f0b9445c47f458070f8"
      }
     },
     "metadata": {},
     "output_type": "display_data"
    },
    {
     "data": {
      "text/plain": "Validation loop:   0%|          | 0/9 [00:00<?, ?it/s]",
      "application/vnd.jupyter.widget-view+json": {
       "version_major": 2,
       "version_minor": 0,
       "model_id": "6ee6a8e238cb41f88b8acb259568e64a"
      }
     },
     "metadata": {},
     "output_type": "display_data"
    },
    {
     "name": "stdout",
     "output_type": "stream",
     "text": [
      "Epoch 66/200 - Train loss: 1.49295878197689, Validation loss: 0.9657701465318788\n",
      "Early Stopping: 0/5\n"
     ]
    },
    {
     "data": {
      "text/plain": "Training loop:   0%|          | 0/239 [00:00<?, ?it/s]",
      "application/vnd.jupyter.widget-view+json": {
       "version_major": 2,
       "version_minor": 0,
       "model_id": "7e73314a52b24d20878480327e0fffd9"
      }
     },
     "metadata": {},
     "output_type": "display_data"
    },
    {
     "data": {
      "text/plain": "Validation loop:   0%|          | 0/9 [00:00<?, ?it/s]",
      "application/vnd.jupyter.widget-view+json": {
       "version_major": 2,
       "version_minor": 0,
       "model_id": "1f137dc8acfd40d4b1eab0992c7e0c9b"
      }
     },
     "metadata": {},
     "output_type": "display_data"
    },
    {
     "name": "stdout",
     "output_type": "stream",
     "text": [
      "Epoch 67/200 - Train loss: 1.480040750623625, Validation loss: 0.9487949578267223\n",
      "Early Stopping: 0/5\n"
     ]
    },
    {
     "data": {
      "text/plain": "Training loop:   0%|          | 0/239 [00:00<?, ?it/s]",
      "application/vnd.jupyter.widget-view+json": {
       "version_major": 2,
       "version_minor": 0,
       "model_id": "0476810862ee49b281300b7915619327"
      }
     },
     "metadata": {},
     "output_type": "display_data"
    },
    {
     "data": {
      "text/plain": "Validation loop:   0%|          | 0/9 [00:00<?, ?it/s]",
      "application/vnd.jupyter.widget-view+json": {
       "version_major": 2,
       "version_minor": 0,
       "model_id": "119707d11d45429d9220e976e2ce3551"
      }
     },
     "metadata": {},
     "output_type": "display_data"
    },
    {
     "name": "stdout",
     "output_type": "stream",
     "text": [
      "Epoch 68/200 - Train loss: 1.4425796326660285, Validation loss: 0.9242860915525904\n",
      "Early Stopping: 0/5\n"
     ]
    },
    {
     "data": {
      "text/plain": "Training loop:   0%|          | 0/239 [00:00<?, ?it/s]",
      "application/vnd.jupyter.widget-view+json": {
       "version_major": 2,
       "version_minor": 0,
       "model_id": "b25115ffb80a4ed1859602bf61f75a55"
      }
     },
     "metadata": {},
     "output_type": "display_data"
    },
    {
     "data": {
      "text/plain": "Validation loop:   0%|          | 0/9 [00:00<?, ?it/s]",
      "application/vnd.jupyter.widget-view+json": {
       "version_major": 2,
       "version_minor": 0,
       "model_id": "7619d33e6ee84ddd9c8b554baca031c3"
      }
     },
     "metadata": {},
     "output_type": "display_data"
    },
    {
     "name": "stdout",
     "output_type": "stream",
     "text": [
      "Epoch 69/200 - Train loss: 1.4349324633167022, Validation loss: 0.9068180862462746\n",
      "Early Stopping: 0/5\n"
     ]
    },
    {
     "data": {
      "text/plain": "Training loop:   0%|          | 0/239 [00:00<?, ?it/s]",
      "application/vnd.jupyter.widget-view+json": {
       "version_major": 2,
       "version_minor": 0,
       "model_id": "f23eb75cdbdd47ffb1638d57378596f1"
      }
     },
     "metadata": {},
     "output_type": "display_data"
    },
    {
     "data": {
      "text/plain": "Validation loop:   0%|          | 0/9 [00:00<?, ?it/s]",
      "application/vnd.jupyter.widget-view+json": {
       "version_major": 2,
       "version_minor": 0,
       "model_id": "3ce7dc497b55456ba204eec999e1d4a2"
      }
     },
     "metadata": {},
     "output_type": "display_data"
    },
    {
     "name": "stdout",
     "output_type": "stream",
     "text": [
      "Epoch 70/200 - Train loss: 1.4316411206004251, Validation loss: 0.9034549186814506\n",
      "Early Stopping: 0/5\n"
     ]
    },
    {
     "data": {
      "text/plain": "Training loop:   0%|          | 0/239 [00:00<?, ?it/s]",
      "application/vnd.jupyter.widget-view+json": {
       "version_major": 2,
       "version_minor": 0,
       "model_id": "71aae3b826634cb6933f7761033d0d61"
      }
     },
     "metadata": {},
     "output_type": "display_data"
    },
    {
     "data": {
      "text/plain": "Validation loop:   0%|          | 0/9 [00:00<?, ?it/s]",
      "application/vnd.jupyter.widget-view+json": {
       "version_major": 2,
       "version_minor": 0,
       "model_id": "2ad6ef4dfc7c4d10af6fb902f45ef2b3"
      }
     },
     "metadata": {},
     "output_type": "display_data"
    },
    {
     "name": "stdout",
     "output_type": "stream",
     "text": [
      "Epoch 71/200 - Train loss: 1.4207645455787714, Validation loss: 0.8969671033463388\n",
      "Early Stopping: 0/5\n"
     ]
    },
    {
     "data": {
      "text/plain": "Training loop:   0%|          | 0/239 [00:00<?, ?it/s]",
      "application/vnd.jupyter.widget-view+json": {
       "version_major": 2,
       "version_minor": 0,
       "model_id": "3585a25c53034a4a988acce0270b5d70"
      }
     },
     "metadata": {},
     "output_type": "display_data"
    },
    {
     "data": {
      "text/plain": "Validation loop:   0%|          | 0/9 [00:00<?, ?it/s]",
      "application/vnd.jupyter.widget-view+json": {
       "version_major": 2,
       "version_minor": 0,
       "model_id": "a7e81fae05e5425395b78be7c4dd2373"
      }
     },
     "metadata": {},
     "output_type": "display_data"
    },
    {
     "name": "stdout",
     "output_type": "stream",
     "text": [
      "Epoch 72/200 - Train loss: 1.3965767368064472, Validation loss: 0.8712904714188485\n",
      "Early Stopping: 0/5\n"
     ]
    },
    {
     "data": {
      "text/plain": "Training loop:   0%|          | 0/239 [00:00<?, ?it/s]",
      "application/vnd.jupyter.widget-view+json": {
       "version_major": 2,
       "version_minor": 0,
       "model_id": "2046e0d7e899425497da7b68c8209156"
      }
     },
     "metadata": {},
     "output_type": "display_data"
    },
    {
     "data": {
      "text/plain": "Validation loop:   0%|          | 0/9 [00:00<?, ?it/s]",
      "application/vnd.jupyter.widget-view+json": {
       "version_major": 2,
       "version_minor": 0,
       "model_id": "c5ef58be5e644f88b3144aa297849a36"
      }
     },
     "metadata": {},
     "output_type": "display_data"
    },
    {
     "name": "stdout",
     "output_type": "stream",
     "text": [
      "Epoch 73/200 - Train loss: 1.379394051660896, Validation loss: 0.8594899924296253\n",
      "Early Stopping: 0/5\n"
     ]
    },
    {
     "data": {
      "text/plain": "Training loop:   0%|          | 0/239 [00:00<?, ?it/s]",
      "application/vnd.jupyter.widget-view+json": {
       "version_major": 2,
       "version_minor": 0,
       "model_id": "55d8543da3a44561ad1f5f55f49401ae"
      }
     },
     "metadata": {},
     "output_type": "display_data"
    },
    {
     "data": {
      "text/plain": "Validation loop:   0%|          | 0/9 [00:00<?, ?it/s]",
      "application/vnd.jupyter.widget-view+json": {
       "version_major": 2,
       "version_minor": 0,
       "model_id": "448d95e71064499b8ae14eb336d74c77"
      }
     },
     "metadata": {},
     "output_type": "display_data"
    },
    {
     "name": "stdout",
     "output_type": "stream",
     "text": [
      "Epoch 74/200 - Train loss: 1.3562421946310421, Validation loss: 0.8482304640536038\n",
      "Early Stopping: 0/5\n"
     ]
    },
    {
     "data": {
      "text/plain": "Training loop:   0%|          | 0/239 [00:00<?, ?it/s]",
      "application/vnd.jupyter.widget-view+json": {
       "version_major": 2,
       "version_minor": 0,
       "model_id": "62033a6b55eb4eddab2a64681c50d56a"
      }
     },
     "metadata": {},
     "output_type": "display_data"
    },
    {
     "data": {
      "text/plain": "Validation loop:   0%|          | 0/9 [00:00<?, ?it/s]",
      "application/vnd.jupyter.widget-view+json": {
       "version_major": 2,
       "version_minor": 0,
       "model_id": "84dffeb7b45e4e049c0fd00fa95b96f3"
      }
     },
     "metadata": {},
     "output_type": "display_data"
    },
    {
     "name": "stdout",
     "output_type": "stream",
     "text": [
      "Epoch 75/200 - Train loss: 1.330133848025191, Validation loss: 0.8452920594305362\n",
      "Early Stopping: 0/5\n"
     ]
    },
    {
     "data": {
      "text/plain": "Training loop:   0%|          | 0/239 [00:00<?, ?it/s]",
      "application/vnd.jupyter.widget-view+json": {
       "version_major": 2,
       "version_minor": 0,
       "model_id": "bcd7b736622249dbbb2c954ea9779756"
      }
     },
     "metadata": {},
     "output_type": "display_data"
    },
    {
     "data": {
      "text/plain": "Validation loop:   0%|          | 0/9 [00:00<?, ?it/s]",
      "application/vnd.jupyter.widget-view+json": {
       "version_major": 2,
       "version_minor": 0,
       "model_id": "87afc57164464c3f8112e63bd48d1587"
      }
     },
     "metadata": {},
     "output_type": "display_data"
    },
    {
     "name": "stdout",
     "output_type": "stream",
     "text": [
      "Epoch 76/200 - Train loss: 1.3261748726195328, Validation loss: 0.8133566694439582\n",
      "Early Stopping: 0/5\n"
     ]
    },
    {
     "data": {
      "text/plain": "Training loop:   0%|          | 0/239 [00:00<?, ?it/s]",
      "application/vnd.jupyter.widget-view+json": {
       "version_major": 2,
       "version_minor": 0,
       "model_id": "2bdc36e8f9fc4cf8b6ca68dd869e53e2"
      }
     },
     "metadata": {},
     "output_type": "display_data"
    },
    {
     "data": {
      "text/plain": "Validation loop:   0%|          | 0/9 [00:00<?, ?it/s]",
      "application/vnd.jupyter.widget-view+json": {
       "version_major": 2,
       "version_minor": 0,
       "model_id": "03980a7749e6425b90d2bf384a74e5b9"
      }
     },
     "metadata": {},
     "output_type": "display_data"
    },
    {
     "name": "stdout",
     "output_type": "stream",
     "text": [
      "Epoch 77/200 - Train loss: 1.29839104470276, Validation loss: 0.8540522359452157\n",
      "Early Stopping: 1/5\n"
     ]
    },
    {
     "data": {
      "text/plain": "Training loop:   0%|          | 0/239 [00:00<?, ?it/s]",
      "application/vnd.jupyter.widget-view+json": {
       "version_major": 2,
       "version_minor": 0,
       "model_id": "705d0083918047da977a3312d04b3ffb"
      }
     },
     "metadata": {},
     "output_type": "display_data"
    },
    {
     "data": {
      "text/plain": "Validation loop:   0%|          | 0/9 [00:00<?, ?it/s]",
      "application/vnd.jupyter.widget-view+json": {
       "version_major": 2,
       "version_minor": 0,
       "model_id": "f9eb0373461649c080abd113b0af631c"
      }
     },
     "metadata": {},
     "output_type": "display_data"
    },
    {
     "name": "stdout",
     "output_type": "stream",
     "text": [
      "Epoch 78/200 - Train loss: 1.2944451367242138, Validation loss: 0.8158621608086352\n",
      "Early Stopping: 2/5\n"
     ]
    },
    {
     "data": {
      "text/plain": "Training loop:   0%|          | 0/239 [00:00<?, ?it/s]",
      "application/vnd.jupyter.widget-view+json": {
       "version_major": 2,
       "version_minor": 0,
       "model_id": "110342e8a1d54a09ae616cc8647242c6"
      }
     },
     "metadata": {},
     "output_type": "display_data"
    },
    {
     "data": {
      "text/plain": "Validation loop:   0%|          | 0/9 [00:00<?, ?it/s]",
      "application/vnd.jupyter.widget-view+json": {
       "version_major": 2,
       "version_minor": 0,
       "model_id": "ba3fbe32bbd0421fa9fbd0b37273756b"
      }
     },
     "metadata": {},
     "output_type": "display_data"
    },
    {
     "name": "stdout",
     "output_type": "stream",
     "text": [
      "Epoch 79/200 - Train loss: 1.263471397247795, Validation loss: 0.7956207077458219\n",
      "Early Stopping: 0/5\n"
     ]
    },
    {
     "data": {
      "text/plain": "Training loop:   0%|          | 0/239 [00:00<?, ?it/s]",
      "application/vnd.jupyter.widget-view+json": {
       "version_major": 2,
       "version_minor": 0,
       "model_id": "4497476b33d6472fb4443419a7cdba09"
      }
     },
     "metadata": {},
     "output_type": "display_data"
    },
    {
     "data": {
      "text/plain": "Validation loop:   0%|          | 0/9 [00:00<?, ?it/s]",
      "application/vnd.jupyter.widget-view+json": {
       "version_major": 2,
       "version_minor": 0,
       "model_id": "7fa5f28ef51f442a86ef82218fa54ad7"
      }
     },
     "metadata": {},
     "output_type": "display_data"
    },
    {
     "name": "stdout",
     "output_type": "stream",
     "text": [
      "Epoch 80/200 - Train loss: 1.256186221822987, Validation loss: 0.7752919161094809\n",
      "Early Stopping: 0/5\n"
     ]
    },
    {
     "data": {
      "text/plain": "Training loop:   0%|          | 0/239 [00:00<?, ?it/s]",
      "application/vnd.jupyter.widget-view+json": {
       "version_major": 2,
       "version_minor": 0,
       "model_id": "c4fec107051141518c9edeb0e0eda67e"
      }
     },
     "metadata": {},
     "output_type": "display_data"
    },
    {
     "data": {
      "text/plain": "Validation loop:   0%|          | 0/9 [00:00<?, ?it/s]",
      "application/vnd.jupyter.widget-view+json": {
       "version_major": 2,
       "version_minor": 0,
       "model_id": "117690b71614454298c9c847ea7fcf45"
      }
     },
     "metadata": {},
     "output_type": "display_data"
    },
    {
     "name": "stdout",
     "output_type": "stream",
     "text": [
      "Epoch 81/200 - Train loss: 1.2467891097944406, Validation loss: 0.7647928674266024\n",
      "Early Stopping: 0/5\n"
     ]
    },
    {
     "data": {
      "text/plain": "Training loop:   0%|          | 0/239 [00:00<?, ?it/s]",
      "application/vnd.jupyter.widget-view+json": {
       "version_major": 2,
       "version_minor": 0,
       "model_id": "c5da025761e24cea9131f9e6097fc61c"
      }
     },
     "metadata": {},
     "output_type": "display_data"
    },
    {
     "data": {
      "text/plain": "Validation loop:   0%|          | 0/9 [00:00<?, ?it/s]",
      "application/vnd.jupyter.widget-view+json": {
       "version_major": 2,
       "version_minor": 0,
       "model_id": "f15986e3febc4977907efb9eefda991b"
      }
     },
     "metadata": {},
     "output_type": "display_data"
    },
    {
     "name": "stdout",
     "output_type": "stream",
     "text": [
      "Epoch 82/200 - Train loss: 1.2285369104253283, Validation loss: 0.7698340784828618\n",
      "Early Stopping: 1/5\n"
     ]
    },
    {
     "data": {
      "text/plain": "Training loop:   0%|          | 0/239 [00:00<?, ?it/s]",
      "application/vnd.jupyter.widget-view+json": {
       "version_major": 2,
       "version_minor": 0,
       "model_id": "ce19e588b514485188c7264924095555"
      }
     },
     "metadata": {},
     "output_type": "display_data"
    },
    {
     "data": {
      "text/plain": "Validation loop:   0%|          | 0/9 [00:00<?, ?it/s]",
      "application/vnd.jupyter.widget-view+json": {
       "version_major": 2,
       "version_minor": 0,
       "model_id": "ada5645d1b1a4c398172c0181f92282d"
      }
     },
     "metadata": {},
     "output_type": "display_data"
    },
    {
     "name": "stdout",
     "output_type": "stream",
     "text": [
      "Epoch 83/200 - Train loss: 1.2155569063153622, Validation loss: 0.7536573657449687\n",
      "Early Stopping: 0/5\n"
     ]
    },
    {
     "data": {
      "text/plain": "Training loop:   0%|          | 0/239 [00:00<?, ?it/s]",
      "application/vnd.jupyter.widget-view+json": {
       "version_major": 2,
       "version_minor": 0,
       "model_id": "e3c9b2e233ed453ba1ad1344d54b63da"
      }
     },
     "metadata": {},
     "output_type": "display_data"
    },
    {
     "data": {
      "text/plain": "Validation loop:   0%|          | 0/9 [00:00<?, ?it/s]",
      "application/vnd.jupyter.widget-view+json": {
       "version_major": 2,
       "version_minor": 0,
       "model_id": "c025c5e61aa64e44a9bcacf29e58e4cc"
      }
     },
     "metadata": {},
     "output_type": "display_data"
    },
    {
     "name": "stdout",
     "output_type": "stream",
     "text": [
      "Epoch 84/200 - Train loss: 1.1967865491338692, Validation loss: 0.732384531902817\n",
      "Early Stopping: 0/5\n"
     ]
    },
    {
     "data": {
      "text/plain": "Training loop:   0%|          | 0/239 [00:00<?, ?it/s]",
      "application/vnd.jupyter.widget-view+json": {
       "version_major": 2,
       "version_minor": 0,
       "model_id": "0565050da57e4397b4262bbe17c10ecd"
      }
     },
     "metadata": {},
     "output_type": "display_data"
    },
    {
     "data": {
      "text/plain": "Validation loop:   0%|          | 0/9 [00:00<?, ?it/s]",
      "application/vnd.jupyter.widget-view+json": {
       "version_major": 2,
       "version_minor": 0,
       "model_id": "179b7ce69335478699bf268b721fbd1c"
      }
     },
     "metadata": {},
     "output_type": "display_data"
    },
    {
     "name": "stdout",
     "output_type": "stream",
     "text": [
      "Epoch 85/200 - Train loss: 1.1671426521393335, Validation loss: 0.7373908272329367\n",
      "Early Stopping: 1/5\n"
     ]
    },
    {
     "data": {
      "text/plain": "Training loop:   0%|          | 0/239 [00:00<?, ?it/s]",
      "application/vnd.jupyter.widget-view+json": {
       "version_major": 2,
       "version_minor": 0,
       "model_id": "2b3c8add872c4f2284c70090b088c659"
      }
     },
     "metadata": {},
     "output_type": "display_data"
    },
    {
     "data": {
      "text/plain": "Validation loop:   0%|          | 0/9 [00:00<?, ?it/s]",
      "application/vnd.jupyter.widget-view+json": {
       "version_major": 2,
       "version_minor": 0,
       "model_id": "3416772617a54a149e5412ab5e176d69"
      }
     },
     "metadata": {},
     "output_type": "display_data"
    },
    {
     "name": "stdout",
     "output_type": "stream",
     "text": [
      "Epoch 86/200 - Train loss: 1.1634766363772364, Validation loss: 0.7205181513192519\n",
      "Early Stopping: 0/5\n"
     ]
    },
    {
     "data": {
      "text/plain": "Training loop:   0%|          | 0/239 [00:00<?, ?it/s]",
      "application/vnd.jupyter.widget-view+json": {
       "version_major": 2,
       "version_minor": 0,
       "model_id": "cd4fa79735e74e7a9fb3ed9d051a73b1"
      }
     },
     "metadata": {},
     "output_type": "display_data"
    },
    {
     "data": {
      "text/plain": "Validation loop:   0%|          | 0/9 [00:00<?, ?it/s]",
      "application/vnd.jupyter.widget-view+json": {
       "version_major": 2,
       "version_minor": 0,
       "model_id": "de85123c1b71495aa278925fdb9576b0"
      }
     },
     "metadata": {},
     "output_type": "display_data"
    },
    {
     "name": "stdout",
     "output_type": "stream",
     "text": [
      "Epoch 87/200 - Train loss: 1.1514819580260254, Validation loss: 0.7145989107635786\n",
      "Early Stopping: 0/5\n"
     ]
    },
    {
     "data": {
      "text/plain": "Training loop:   0%|          | 0/239 [00:00<?, ?it/s]",
      "application/vnd.jupyter.widget-view+json": {
       "version_major": 2,
       "version_minor": 0,
       "model_id": "05d4154bcc8242a4a2509a25b6a71b12"
      }
     },
     "metadata": {},
     "output_type": "display_data"
    },
    {
     "data": {
      "text/plain": "Validation loop:   0%|          | 0/9 [00:00<?, ?it/s]",
      "application/vnd.jupyter.widget-view+json": {
       "version_major": 2,
       "version_minor": 0,
       "model_id": "e351a907a90b47acada3e09535be2f15"
      }
     },
     "metadata": {},
     "output_type": "display_data"
    },
    {
     "name": "stdout",
     "output_type": "stream",
     "text": [
      "Epoch 88/200 - Train loss: 1.1531032627176763, Validation loss: 0.692263522687948\n",
      "Early Stopping: 0/5\n"
     ]
    },
    {
     "data": {
      "text/plain": "Training loop:   0%|          | 0/239 [00:00<?, ?it/s]",
      "application/vnd.jupyter.widget-view+json": {
       "version_major": 2,
       "version_minor": 0,
       "model_id": "6b3c20ff897c4346a97e4d0ef3b0e8dc"
      }
     },
     "metadata": {},
     "output_type": "display_data"
    },
    {
     "data": {
      "text/plain": "Validation loop:   0%|          | 0/9 [00:00<?, ?it/s]",
      "application/vnd.jupyter.widget-view+json": {
       "version_major": 2,
       "version_minor": 0,
       "model_id": "7dcd5755da5a4ec6ad67c5665395c0c3"
      }
     },
     "metadata": {},
     "output_type": "display_data"
    },
    {
     "name": "stdout",
     "output_type": "stream",
     "text": [
      "Epoch 89/200 - Train loss: 1.131622994058655, Validation loss: 0.703429205912464\n",
      "Early Stopping: 1/5\n"
     ]
    },
    {
     "data": {
      "text/plain": "Training loop:   0%|          | 0/239 [00:00<?, ?it/s]",
      "application/vnd.jupyter.widget-view+json": {
       "version_major": 2,
       "version_minor": 0,
       "model_id": "1309ef00d06c4ade95e8ff2a26a50256"
      }
     },
     "metadata": {},
     "output_type": "display_data"
    },
    {
     "data": {
      "text/plain": "Validation loop:   0%|          | 0/9 [00:00<?, ?it/s]",
      "application/vnd.jupyter.widget-view+json": {
       "version_major": 2,
       "version_minor": 0,
       "model_id": "88395d8aa9d442078ae102c9631ca9aa"
      }
     },
     "metadata": {},
     "output_type": "display_data"
    },
    {
     "name": "stdout",
     "output_type": "stream",
     "text": [
      "Epoch 90/200 - Train loss: 1.1083963351384791, Validation loss: 0.7040598860326803\n",
      "Early Stopping: 2/5\n"
     ]
    },
    {
     "data": {
      "text/plain": "Training loop:   0%|          | 0/239 [00:00<?, ?it/s]",
      "application/vnd.jupyter.widget-view+json": {
       "version_major": 2,
       "version_minor": 0,
       "model_id": "fecc07ebdbe94e06ac3fa95e0ef0f516"
      }
     },
     "metadata": {},
     "output_type": "display_data"
    },
    {
     "data": {
      "text/plain": "Validation loop:   0%|          | 0/9 [00:00<?, ?it/s]",
      "application/vnd.jupyter.widget-view+json": {
       "version_major": 2,
       "version_minor": 0,
       "model_id": "a215ae1fd9ef4b9da6721685f1bd34ea"
      }
     },
     "metadata": {},
     "output_type": "display_data"
    },
    {
     "name": "stdout",
     "output_type": "stream",
     "text": [
      "Epoch 91/200 - Train loss: 1.0857579748127668, Validation loss: 0.7007140735410294\n",
      "Early Stopping: 3/5\n"
     ]
    },
    {
     "data": {
      "text/plain": "Training loop:   0%|          | 0/239 [00:00<?, ?it/s]",
      "application/vnd.jupyter.widget-view+json": {
       "version_major": 2,
       "version_minor": 0,
       "model_id": "8cd6996bc29845c797b144548e800524"
      }
     },
     "metadata": {},
     "output_type": "display_data"
    },
    {
     "data": {
      "text/plain": "Validation loop:   0%|          | 0/9 [00:00<?, ?it/s]",
      "application/vnd.jupyter.widget-view+json": {
       "version_major": 2,
       "version_minor": 0,
       "model_id": "fd6a7b8dfea94c0ba0d46cd53067b648"
      }
     },
     "metadata": {},
     "output_type": "display_data"
    },
    {
     "name": "stdout",
     "output_type": "stream",
     "text": [
      "Epoch 92/200 - Train loss: 1.0700500583098294, Validation loss: 0.6747147546624238\n",
      "Early Stopping: 0/5\n"
     ]
    },
    {
     "data": {
      "text/plain": "Training loop:   0%|          | 0/239 [00:00<?, ?it/s]",
      "application/vnd.jupyter.widget-view+json": {
       "version_major": 2,
       "version_minor": 0,
       "model_id": "3217e6befbf7424183b6a75897e0e187"
      }
     },
     "metadata": {},
     "output_type": "display_data"
    },
    {
     "data": {
      "text/plain": "Validation loop:   0%|          | 0/9 [00:00<?, ?it/s]",
      "application/vnd.jupyter.widget-view+json": {
       "version_major": 2,
       "version_minor": 0,
       "model_id": "6165b1d2d2c347398b12a7a07c5e81bb"
      }
     },
     "metadata": {},
     "output_type": "display_data"
    },
    {
     "name": "stdout",
     "output_type": "stream",
     "text": [
      "Epoch 93/200 - Train loss: 1.0619189904344044, Validation loss: 0.6754829523698339\n",
      "Early Stopping: 1/5\n"
     ]
    },
    {
     "data": {
      "text/plain": "Training loop:   0%|          | 0/239 [00:00<?, ?it/s]",
      "application/vnd.jupyter.widget-view+json": {
       "version_major": 2,
       "version_minor": 0,
       "model_id": "ca5d55e3c5f44a25be634b63309b7439"
      }
     },
     "metadata": {},
     "output_type": "display_data"
    },
    {
     "data": {
      "text/plain": "Validation loop:   0%|          | 0/9 [00:00<?, ?it/s]",
      "application/vnd.jupyter.widget-view+json": {
       "version_major": 2,
       "version_minor": 0,
       "model_id": "d1385c9dead74c65a6bc0bcbb45818cb"
      }
     },
     "metadata": {},
     "output_type": "display_data"
    },
    {
     "name": "stdout",
     "output_type": "stream",
     "text": [
      "Epoch 94/200 - Train loss: 1.0452806843290299, Validation loss: 0.6238944579970161\n",
      "Early Stopping: 0/5\n"
     ]
    },
    {
     "data": {
      "text/plain": "Training loop:   0%|          | 0/239 [00:00<?, ?it/s]",
      "application/vnd.jupyter.widget-view+json": {
       "version_major": 2,
       "version_minor": 0,
       "model_id": "a9a86f4adbb64888bf6938b0317da641"
      }
     },
     "metadata": {},
     "output_type": "display_data"
    },
    {
     "data": {
      "text/plain": "Validation loop:   0%|          | 0/9 [00:00<?, ?it/s]",
      "application/vnd.jupyter.widget-view+json": {
       "version_major": 2,
       "version_minor": 0,
       "model_id": "7de4a2628032412ca8333da69f7c30c0"
      }
     },
     "metadata": {},
     "output_type": "display_data"
    },
    {
     "name": "stdout",
     "output_type": "stream",
     "text": [
      "Epoch 95/200 - Train loss: 1.0397650577589197, Validation loss: 0.6326885205394817\n",
      "Early Stopping: 1/5\n"
     ]
    },
    {
     "data": {
      "text/plain": "Training loop:   0%|          | 0/239 [00:00<?, ?it/s]",
      "application/vnd.jupyter.widget-view+json": {
       "version_major": 2,
       "version_minor": 0,
       "model_id": "3d3647f8f387442996ac7a3a44d78ad9"
      }
     },
     "metadata": {},
     "output_type": "display_data"
    },
    {
     "data": {
      "text/plain": "Validation loop:   0%|          | 0/9 [00:00<?, ?it/s]",
      "application/vnd.jupyter.widget-view+json": {
       "version_major": 2,
       "version_minor": 0,
       "model_id": "ff0f25395cd94da2993280686d98551a"
      }
     },
     "metadata": {},
     "output_type": "display_data"
    },
    {
     "name": "stdout",
     "output_type": "stream",
     "text": [
      "Epoch 96/200 - Train loss: 1.0258203882798318, Validation loss: 0.6281421175542867\n",
      "Early Stopping: 2/5\n"
     ]
    },
    {
     "data": {
      "text/plain": "Training loop:   0%|          | 0/239 [00:00<?, ?it/s]",
      "application/vnd.jupyter.widget-view+json": {
       "version_major": 2,
       "version_minor": 0,
       "model_id": "e9b50130bcab49e7bc6c7063a9ff285b"
      }
     },
     "metadata": {},
     "output_type": "display_data"
    },
    {
     "data": {
      "text/plain": "Validation loop:   0%|          | 0/9 [00:00<?, ?it/s]",
      "application/vnd.jupyter.widget-view+json": {
       "version_major": 2,
       "version_minor": 0,
       "model_id": "423ed7d65a69418490d9a82377596e41"
      }
     },
     "metadata": {},
     "output_type": "display_data"
    },
    {
     "name": "stdout",
     "output_type": "stream",
     "text": [
      "Epoch 97/200 - Train loss: 1.0051531662845912, Validation loss: 0.617004768128665\n",
      "Early Stopping: 0/5\n"
     ]
    },
    {
     "data": {
      "text/plain": "Training loop:   0%|          | 0/239 [00:00<?, ?it/s]",
      "application/vnd.jupyter.widget-view+json": {
       "version_major": 2,
       "version_minor": 0,
       "model_id": "db8e9ffbe27d4451af994918349e63a2"
      }
     },
     "metadata": {},
     "output_type": "display_data"
    },
    {
     "data": {
      "text/plain": "Validation loop:   0%|          | 0/9 [00:00<?, ?it/s]",
      "application/vnd.jupyter.widget-view+json": {
       "version_major": 2,
       "version_minor": 0,
       "model_id": "00681376bc9f417a84a9f4b54360d6c3"
      }
     },
     "metadata": {},
     "output_type": "display_data"
    },
    {
     "name": "stdout",
     "output_type": "stream",
     "text": [
      "Epoch 98/200 - Train loss: 1.0036118944319197, Validation loss: 0.6118643427794834\n",
      "Early Stopping: 0/5\n"
     ]
    },
    {
     "data": {
      "text/plain": "Training loop:   0%|          | 0/239 [00:00<?, ?it/s]",
      "application/vnd.jupyter.widget-view+json": {
       "version_major": 2,
       "version_minor": 0,
       "model_id": "8f812bce3731435b90f44540c003f0bf"
      }
     },
     "metadata": {},
     "output_type": "display_data"
    },
    {
     "data": {
      "text/plain": "Validation loop:   0%|          | 0/9 [00:00<?, ?it/s]",
      "application/vnd.jupyter.widget-view+json": {
       "version_major": 2,
       "version_minor": 0,
       "model_id": "0e53f48616b4440da60b625f6274c076"
      }
     },
     "metadata": {},
     "output_type": "display_data"
    },
    {
     "name": "stdout",
     "output_type": "stream",
     "text": [
      "Epoch 99/200 - Train loss: 0.9954627839865989, Validation loss: 0.5959349177918344\n",
      "Early Stopping: 0/5\n"
     ]
    },
    {
     "data": {
      "text/plain": "Training loop:   0%|          | 0/239 [00:00<?, ?it/s]",
      "application/vnd.jupyter.widget-view+json": {
       "version_major": 2,
       "version_minor": 0,
       "model_id": "e41eac977e314ea9a227df44dd4a98a6"
      }
     },
     "metadata": {},
     "output_type": "display_data"
    },
    {
     "data": {
      "text/plain": "Validation loop:   0%|          | 0/9 [00:00<?, ?it/s]",
      "application/vnd.jupyter.widget-view+json": {
       "version_major": 2,
       "version_minor": 0,
       "model_id": "09a1753779d74b10a0f9c0601f268dd3"
      }
     },
     "metadata": {},
     "output_type": "display_data"
    },
    {
     "name": "stdout",
     "output_type": "stream",
     "text": [
      "Epoch 100/200 - Train loss: 0.9756704565110261, Validation loss: 0.6423339034026524\n",
      "Early Stopping: 1/5\n"
     ]
    },
    {
     "data": {
      "text/plain": "Training loop:   0%|          | 0/239 [00:00<?, ?it/s]",
      "application/vnd.jupyter.widget-view+json": {
       "version_major": 2,
       "version_minor": 0,
       "model_id": "7b698b90ef534bc287f72769705655de"
      }
     },
     "metadata": {},
     "output_type": "display_data"
    },
    {
     "data": {
      "text/plain": "Validation loop:   0%|          | 0/9 [00:00<?, ?it/s]",
      "application/vnd.jupyter.widget-view+json": {
       "version_major": 2,
       "version_minor": 0,
       "model_id": "a323a8a32a84427a8c62a04d97b2e58c"
      }
     },
     "metadata": {},
     "output_type": "display_data"
    },
    {
     "name": "stdout",
     "output_type": "stream",
     "text": [
      "Epoch 101/200 - Train loss: 0.9720415095842647, Validation loss: 0.6058596107195009\n",
      "Early Stopping: 2/5\n"
     ]
    },
    {
     "data": {
      "text/plain": "Training loop:   0%|          | 0/239 [00:00<?, ?it/s]",
      "application/vnd.jupyter.widget-view+json": {
       "version_major": 2,
       "version_minor": 0,
       "model_id": "a37a440a16454412813fb7811e6daad9"
      }
     },
     "metadata": {},
     "output_type": "display_data"
    },
    {
     "data": {
      "text/plain": "Validation loop:   0%|          | 0/9 [00:00<?, ?it/s]",
      "application/vnd.jupyter.widget-view+json": {
       "version_major": 2,
       "version_minor": 0,
       "model_id": "5304f23d86d545d981a5db46e5fdee8a"
      }
     },
     "metadata": {},
     "output_type": "display_data"
    },
    {
     "name": "stdout",
     "output_type": "stream",
     "text": [
      "Epoch 102/200 - Train loss: 0.9474271504288581, Validation loss: 0.5685023642935843\n",
      "Early Stopping: 0/5\n"
     ]
    },
    {
     "data": {
      "text/plain": "Training loop:   0%|          | 0/239 [00:00<?, ?it/s]",
      "application/vnd.jupyter.widget-view+json": {
       "version_major": 2,
       "version_minor": 0,
       "model_id": "c1ee4cf880b34295b41555565ff15426"
      }
     },
     "metadata": {},
     "output_type": "display_data"
    },
    {
     "data": {
      "text/plain": "Validation loop:   0%|          | 0/9 [00:00<?, ?it/s]",
      "application/vnd.jupyter.widget-view+json": {
       "version_major": 2,
       "version_minor": 0,
       "model_id": "c35f1d6f84694ad5aedd5b5a7a7c4774"
      }
     },
     "metadata": {},
     "output_type": "display_data"
    },
    {
     "name": "stdout",
     "output_type": "stream",
     "text": [
      "Epoch 103/200 - Train loss: 0.9328746328448949, Validation loss: 0.562860830774847\n",
      "Early Stopping: 0/5\n"
     ]
    },
    {
     "data": {
      "text/plain": "Training loop:   0%|          | 0/239 [00:00<?, ?it/s]",
      "application/vnd.jupyter.widget-view+json": {
       "version_major": 2,
       "version_minor": 0,
       "model_id": "1f0897656d48420b84bfdb090eb3eaf7"
      }
     },
     "metadata": {},
     "output_type": "display_data"
    },
    {
     "data": {
      "text/plain": "Validation loop:   0%|          | 0/9 [00:00<?, ?it/s]",
      "application/vnd.jupyter.widget-view+json": {
       "version_major": 2,
       "version_minor": 0,
       "model_id": "d8683cce70d648ddbedfaf19fde72ab7"
      }
     },
     "metadata": {},
     "output_type": "display_data"
    },
    {
     "name": "stdout",
     "output_type": "stream",
     "text": [
      "Epoch 104/200 - Train loss: 0.9256293596650971, Validation loss: 0.5614243554619124\n",
      "Early Stopping: 0/5\n"
     ]
    },
    {
     "data": {
      "text/plain": "Training loop:   0%|          | 0/239 [00:00<?, ?it/s]",
      "application/vnd.jupyter.widget-view+json": {
       "version_major": 2,
       "version_minor": 0,
       "model_id": "eefdd225c7444f298c4cc3e5037be0b9"
      }
     },
     "metadata": {},
     "output_type": "display_data"
    },
    {
     "data": {
      "text/plain": "Validation loop:   0%|          | 0/9 [00:00<?, ?it/s]",
      "application/vnd.jupyter.widget-view+json": {
       "version_major": 2,
       "version_minor": 0,
       "model_id": "8584b2db59684c7cbe990dcf3b2db066"
      }
     },
     "metadata": {},
     "output_type": "display_data"
    },
    {
     "name": "stdout",
     "output_type": "stream",
     "text": [
      "Epoch 105/200 - Train loss: 0.8969321027632651, Validation loss: 0.565816456641791\n",
      "Early Stopping: 1/5\n"
     ]
    },
    {
     "data": {
      "text/plain": "Training loop:   0%|          | 0/239 [00:00<?, ?it/s]",
      "application/vnd.jupyter.widget-view+json": {
       "version_major": 2,
       "version_minor": 0,
       "model_id": "7427ab9a1f0a4790b5bcfd61c65bf8b9"
      }
     },
     "metadata": {},
     "output_type": "display_data"
    },
    {
     "data": {
      "text/plain": "Validation loop:   0%|          | 0/9 [00:00<?, ?it/s]",
      "application/vnd.jupyter.widget-view+json": {
       "version_major": 2,
       "version_minor": 0,
       "model_id": "65ad6d3764634ae2acc89fe52383121c"
      }
     },
     "metadata": {},
     "output_type": "display_data"
    },
    {
     "name": "stdout",
     "output_type": "stream",
     "text": [
      "Epoch 106/200 - Train loss: 0.8937907159047012, Validation loss: 0.542189242255013\n",
      "Early Stopping: 0/5\n"
     ]
    },
    {
     "data": {
      "text/plain": "Training loop:   0%|          | 0/239 [00:00<?, ?it/s]",
      "application/vnd.jupyter.widget-view+json": {
       "version_major": 2,
       "version_minor": 0,
       "model_id": "664779e0fe8b4f4ab6773d3810a0f12f"
      }
     },
     "metadata": {},
     "output_type": "display_data"
    },
    {
     "data": {
      "text/plain": "Validation loop:   0%|          | 0/9 [00:00<?, ?it/s]",
      "application/vnd.jupyter.widget-view+json": {
       "version_major": 2,
       "version_minor": 0,
       "model_id": "7716b3c98223493dacb916461483314c"
      }
     },
     "metadata": {},
     "output_type": "display_data"
    },
    {
     "name": "stdout",
     "output_type": "stream",
     "text": [
      "Epoch 107/200 - Train loss: 0.8823356893605475, Validation loss: 0.5385675254857765\n",
      "Early Stopping: 0/5\n"
     ]
    },
    {
     "data": {
      "text/plain": "Training loop:   0%|          | 0/239 [00:00<?, ?it/s]",
      "application/vnd.jupyter.widget-view+json": {
       "version_major": 2,
       "version_minor": 0,
       "model_id": "702fad5f28d8469fad0fe6c5372054c6"
      }
     },
     "metadata": {},
     "output_type": "display_data"
    },
    {
     "data": {
      "text/plain": "Validation loop:   0%|          | 0/9 [00:00<?, ?it/s]",
      "application/vnd.jupyter.widget-view+json": {
       "version_major": 2,
       "version_minor": 0,
       "model_id": "2919fd6b8aac4d77be58b51dc1c4f09b"
      }
     },
     "metadata": {},
     "output_type": "display_data"
    },
    {
     "name": "stdout",
     "output_type": "stream",
     "text": [
      "Epoch 108/200 - Train loss: 0.8763736463293574, Validation loss: 0.5380819932469781\n",
      "Early Stopping: 0/5\n"
     ]
    },
    {
     "data": {
      "text/plain": "Training loop:   0%|          | 0/239 [00:00<?, ?it/s]",
      "application/vnd.jupyter.widget-view+json": {
       "version_major": 2,
       "version_minor": 0,
       "model_id": "1065f8d6b0424f46aa879f670a53f5b6"
      }
     },
     "metadata": {},
     "output_type": "display_data"
    },
    {
     "data": {
      "text/plain": "Validation loop:   0%|          | 0/9 [00:00<?, ?it/s]",
      "application/vnd.jupyter.widget-view+json": {
       "version_major": 2,
       "version_minor": 0,
       "model_id": "916c5ea98d8548c08167d2f4d60d4784"
      }
     },
     "metadata": {},
     "output_type": "display_data"
    },
    {
     "name": "stdout",
     "output_type": "stream",
     "text": [
      "Epoch 109/200 - Train loss: 0.870094644372886, Validation loss: 0.5621091795417498\n",
      "Early Stopping: 1/5\n"
     ]
    },
    {
     "data": {
      "text/plain": "Training loop:   0%|          | 0/239 [00:00<?, ?it/s]",
      "application/vnd.jupyter.widget-view+json": {
       "version_major": 2,
       "version_minor": 0,
       "model_id": "6d864224e1c0431194e42bbc4de3dbd5"
      }
     },
     "metadata": {},
     "output_type": "display_data"
    },
    {
     "data": {
      "text/plain": "Validation loop:   0%|          | 0/9 [00:00<?, ?it/s]",
      "application/vnd.jupyter.widget-view+json": {
       "version_major": 2,
       "version_minor": 0,
       "model_id": "fe16d1f07d9d49af9438cc05c9b06f66"
      }
     },
     "metadata": {},
     "output_type": "display_data"
    },
    {
     "name": "stdout",
     "output_type": "stream",
     "text": [
      "Epoch 110/200 - Train loss: 0.8612713314678837, Validation loss: 0.5279394250995708\n",
      "Early Stopping: 0/5\n"
     ]
    },
    {
     "data": {
      "text/plain": "Training loop:   0%|          | 0/239 [00:00<?, ?it/s]",
      "application/vnd.jupyter.widget-view+json": {
       "version_major": 2,
       "version_minor": 0,
       "model_id": "06e4436273d249b9aa2ab3ebb65d39fc"
      }
     },
     "metadata": {},
     "output_type": "display_data"
    },
    {
     "data": {
      "text/plain": "Validation loop:   0%|          | 0/9 [00:00<?, ?it/s]",
      "application/vnd.jupyter.widget-view+json": {
       "version_major": 2,
       "version_minor": 0,
       "model_id": "de678ef299654937a50ec6d07f534818"
      }
     },
     "metadata": {},
     "output_type": "display_data"
    },
    {
     "name": "stdout",
     "output_type": "stream",
     "text": [
      "Epoch 111/200 - Train loss: 0.8360422102877125, Validation loss: 0.5353470206260681\n",
      "Early Stopping: 1/5\n"
     ]
    },
    {
     "data": {
      "text/plain": "Training loop:   0%|          | 0/239 [00:00<?, ?it/s]",
      "application/vnd.jupyter.widget-view+json": {
       "version_major": 2,
       "version_minor": 0,
       "model_id": "2338a76a796d40f5be7ee968a86b1565"
      }
     },
     "metadata": {},
     "output_type": "display_data"
    },
    {
     "data": {
      "text/plain": "Validation loop:   0%|          | 0/9 [00:00<?, ?it/s]",
      "application/vnd.jupyter.widget-view+json": {
       "version_major": 2,
       "version_minor": 0,
       "model_id": "40559fb11b574b94971432cc65193f9c"
      }
     },
     "metadata": {},
     "output_type": "display_data"
    },
    {
     "name": "stdout",
     "output_type": "stream",
     "text": [
      "Epoch 112/200 - Train loss: 0.8356160110591716, Validation loss: 0.5238444982834582\n",
      "Early Stopping: 0/5\n"
     ]
    },
    {
     "data": {
      "text/plain": "Training loop:   0%|          | 0/239 [00:00<?, ?it/s]",
      "application/vnd.jupyter.widget-view+json": {
       "version_major": 2,
       "version_minor": 0,
       "model_id": "4f1bea9c827d4639a69855ce28d53f5b"
      }
     },
     "metadata": {},
     "output_type": "display_data"
    },
    {
     "data": {
      "text/plain": "Validation loop:   0%|          | 0/9 [00:00<?, ?it/s]",
      "application/vnd.jupyter.widget-view+json": {
       "version_major": 2,
       "version_minor": 0,
       "model_id": "c44f4e1a6f3c442fbb75b757040f9670"
      }
     },
     "metadata": {},
     "output_type": "display_data"
    },
    {
     "name": "stdout",
     "output_type": "stream",
     "text": [
      "Epoch 113/200 - Train loss: 0.8219252269390622, Validation loss: 0.5211985367649007\n",
      "Early Stopping: 0/5\n"
     ]
    },
    {
     "data": {
      "text/plain": "Training loop:   0%|          | 0/239 [00:00<?, ?it/s]",
      "application/vnd.jupyter.widget-view+json": {
       "version_major": 2,
       "version_minor": 0,
       "model_id": "8ea5be286bc8474dbee6c04e4ffc7c7f"
      }
     },
     "metadata": {},
     "output_type": "display_data"
    },
    {
     "data": {
      "text/plain": "Validation loop:   0%|          | 0/9 [00:00<?, ?it/s]",
      "application/vnd.jupyter.widget-view+json": {
       "version_major": 2,
       "version_minor": 0,
       "model_id": "f2b10b5d17674ac98f7d088928498170"
      }
     },
     "metadata": {},
     "output_type": "display_data"
    },
    {
     "name": "stdout",
     "output_type": "stream",
     "text": [
      "Epoch 114/200 - Train loss: 0.8084631065631839, Validation loss: 0.4956879622531387\n",
      "Early Stopping: 0/5\n"
     ]
    },
    {
     "data": {
      "text/plain": "Training loop:   0%|          | 0/239 [00:00<?, ?it/s]",
      "application/vnd.jupyter.widget-view+json": {
       "version_major": 2,
       "version_minor": 0,
       "model_id": "a36ae188311a438ba18eb4055107a7d4"
      }
     },
     "metadata": {},
     "output_type": "display_data"
    },
    {
     "data": {
      "text/plain": "Validation loop:   0%|          | 0/9 [00:00<?, ?it/s]",
      "application/vnd.jupyter.widget-view+json": {
       "version_major": 2,
       "version_minor": 0,
       "model_id": "a0b0c7d1755b4c2ea25d138bd369281a"
      }
     },
     "metadata": {},
     "output_type": "display_data"
    },
    {
     "name": "stdout",
     "output_type": "stream",
     "text": [
      "Epoch 115/200 - Train loss: 0.796972418631987, Validation loss: 0.5147091692348696\n",
      "Early Stopping: 1/5\n"
     ]
    },
    {
     "data": {
      "text/plain": "Training loop:   0%|          | 0/239 [00:00<?, ?it/s]",
      "application/vnd.jupyter.widget-view+json": {
       "version_major": 2,
       "version_minor": 0,
       "model_id": "611bfeea2568496f9f2f3d6042fb71d8"
      }
     },
     "metadata": {},
     "output_type": "display_data"
    },
    {
     "data": {
      "text/plain": "Validation loop:   0%|          | 0/9 [00:00<?, ?it/s]",
      "application/vnd.jupyter.widget-view+json": {
       "version_major": 2,
       "version_minor": 0,
       "model_id": "77915aad512045c1b5f78e261f3bc1f2"
      }
     },
     "metadata": {},
     "output_type": "display_data"
    },
    {
     "name": "stdout",
     "output_type": "stream",
     "text": [
      "Epoch 116/200 - Train loss: 0.7908934843252489, Validation loss: 0.49597150964557\n",
      "Early Stopping: 2/5\n"
     ]
    },
    {
     "data": {
      "text/plain": "Training loop:   0%|          | 0/239 [00:00<?, ?it/s]",
      "application/vnd.jupyter.widget-view+json": {
       "version_major": 2,
       "version_minor": 0,
       "model_id": "4aaa2059d0cd482ca1e23af1fd73bc29"
      }
     },
     "metadata": {},
     "output_type": "display_data"
    },
    {
     "data": {
      "text/plain": "Validation loop:   0%|          | 0/9 [00:00<?, ?it/s]",
      "application/vnd.jupyter.widget-view+json": {
       "version_major": 2,
       "version_minor": 0,
       "model_id": "b3154d6bf2ed4ba3bd8e12ab222d97f7"
      }
     },
     "metadata": {},
     "output_type": "display_data"
    },
    {
     "name": "stdout",
     "output_type": "stream",
     "text": [
      "Epoch 117/200 - Train loss: 0.7773233854758151, Validation loss: 0.5090891174550326\n",
      "Early Stopping: 3/5\n"
     ]
    },
    {
     "data": {
      "text/plain": "Training loop:   0%|          | 0/239 [00:00<?, ?it/s]",
      "application/vnd.jupyter.widget-view+json": {
       "version_major": 2,
       "version_minor": 0,
       "model_id": "935c3dabd33b4352b3a00dec1823a578"
      }
     },
     "metadata": {},
     "output_type": "display_data"
    },
    {
     "data": {
      "text/plain": "Validation loop:   0%|          | 0/9 [00:00<?, ?it/s]",
      "application/vnd.jupyter.widget-view+json": {
       "version_major": 2,
       "version_minor": 0,
       "model_id": "c8be87132ae74e75a8a3fbc702fff540"
      }
     },
     "metadata": {},
     "output_type": "display_data"
    },
    {
     "name": "stdout",
     "output_type": "stream",
     "text": [
      "Epoch 118/200 - Train loss: 0.7573761277033675, Validation loss: 0.5548148928948169\n",
      "Early Stopping: 4/5\n"
     ]
    },
    {
     "data": {
      "text/plain": "Training loop:   0%|          | 0/239 [00:00<?, ?it/s]",
      "application/vnd.jupyter.widget-view+json": {
       "version_major": 2,
       "version_minor": 0,
       "model_id": "914afff4838b4973be9e8325730f5c8a"
      }
     },
     "metadata": {},
     "output_type": "display_data"
    },
    {
     "data": {
      "text/plain": "Validation loop:   0%|          | 0/9 [00:00<?, ?it/s]",
      "application/vnd.jupyter.widget-view+json": {
       "version_major": 2,
       "version_minor": 0,
       "model_id": "1c368763957f4e139526a3cace461fcf"
      }
     },
     "metadata": {},
     "output_type": "display_data"
    },
    {
     "name": "stdout",
     "output_type": "stream",
     "text": [
      "Epoch 119/200 - Train loss: 0.7541248619181161, Validation loss: 0.47680743887739363\n",
      "Early Stopping: 0/5\n"
     ]
    },
    {
     "data": {
      "text/plain": "Training loop:   0%|          | 0/239 [00:00<?, ?it/s]",
      "application/vnd.jupyter.widget-view+json": {
       "version_major": 2,
       "version_minor": 0,
       "model_id": "0f984462ae1c4dfb9c34924b8487812b"
      }
     },
     "metadata": {},
     "output_type": "display_data"
    },
    {
     "data": {
      "text/plain": "Validation loop:   0%|          | 0/9 [00:00<?, ?it/s]",
      "application/vnd.jupyter.widget-view+json": {
       "version_major": 2,
       "version_minor": 0,
       "model_id": "4caa18ae6ea4446faf2e4e7805bb0363"
      }
     },
     "metadata": {},
     "output_type": "display_data"
    },
    {
     "name": "stdout",
     "output_type": "stream",
     "text": [
      "Epoch 120/200 - Train loss: 0.7554418570347373, Validation loss: 0.48007183547289867\n",
      "Early Stopping: 1/5\n"
     ]
    },
    {
     "data": {
      "text/plain": "Training loop:   0%|          | 0/239 [00:00<?, ?it/s]",
      "application/vnd.jupyter.widget-view+json": {
       "version_major": 2,
       "version_minor": 0,
       "model_id": "76bb99472430465ab7141413fb519935"
      }
     },
     "metadata": {},
     "output_type": "display_data"
    },
    {
     "data": {
      "text/plain": "Validation loop:   0%|          | 0/9 [00:00<?, ?it/s]",
      "application/vnd.jupyter.widget-view+json": {
       "version_major": 2,
       "version_minor": 0,
       "model_id": "87dd947664984da4962a0215f701d74e"
      }
     },
     "metadata": {},
     "output_type": "display_data"
    },
    {
     "name": "stdout",
     "output_type": "stream",
     "text": [
      "Epoch 121/200 - Train loss: 0.7401015013612705, Validation loss: 0.4752268964389585\n",
      "Early Stopping: 0/5\n"
     ]
    },
    {
     "data": {
      "text/plain": "Training loop:   0%|          | 0/239 [00:00<?, ?it/s]",
      "application/vnd.jupyter.widget-view+json": {
       "version_major": 2,
       "version_minor": 0,
       "model_id": "1d6733ba97aa482e81c190db1482e51a"
      }
     },
     "metadata": {},
     "output_type": "display_data"
    },
    {
     "data": {
      "text/plain": "Validation loop:   0%|          | 0/9 [00:00<?, ?it/s]",
      "application/vnd.jupyter.widget-view+json": {
       "version_major": 2,
       "version_minor": 0,
       "model_id": "3e178e03bed5465094b109bebe768a50"
      }
     },
     "metadata": {},
     "output_type": "display_data"
    },
    {
     "name": "stdout",
     "output_type": "stream",
     "text": [
      "Epoch 122/200 - Train loss: 0.7192215189603544, Validation loss: 0.4636145861643665\n",
      "Early Stopping: 0/5\n"
     ]
    },
    {
     "data": {
      "text/plain": "Training loop:   0%|          | 0/239 [00:00<?, ?it/s]",
      "application/vnd.jupyter.widget-view+json": {
       "version_major": 2,
       "version_minor": 0,
       "model_id": "1c69a36b98b746a7a20a3a394a3c2ca3"
      }
     },
     "metadata": {},
     "output_type": "display_data"
    },
    {
     "data": {
      "text/plain": "Validation loop:   0%|          | 0/9 [00:00<?, ?it/s]",
      "application/vnd.jupyter.widget-view+json": {
       "version_major": 2,
       "version_minor": 0,
       "model_id": "7b26fca52c6943feb801d30c3005b34f"
      }
     },
     "metadata": {},
     "output_type": "display_data"
    },
    {
     "name": "stdout",
     "output_type": "stream",
     "text": [
      "Epoch 123/200 - Train loss: 0.7183828451450824, Validation loss: 0.44867461964769184\n",
      "Early Stopping: 0/5\n"
     ]
    },
    {
     "data": {
      "text/plain": "Training loop:   0%|          | 0/239 [00:00<?, ?it/s]",
      "application/vnd.jupyter.widget-view+json": {
       "version_major": 2,
       "version_minor": 0,
       "model_id": "c2496c0812f741e2a74207551f41da52"
      }
     },
     "metadata": {},
     "output_type": "display_data"
    },
    {
     "data": {
      "text/plain": "Validation loop:   0%|          | 0/9 [00:00<?, ?it/s]",
      "application/vnd.jupyter.widget-view+json": {
       "version_major": 2,
       "version_minor": 0,
       "model_id": "352970f0291c41c09e7efdfba86b5694"
      }
     },
     "metadata": {},
     "output_type": "display_data"
    },
    {
     "name": "stdout",
     "output_type": "stream",
     "text": [
      "Epoch 124/200 - Train loss: 0.7090936401958605, Validation loss: 0.44730377647112\n",
      "Early Stopping: 0/5\n"
     ]
    },
    {
     "data": {
      "text/plain": "Training loop:   0%|          | 0/239 [00:00<?, ?it/s]",
      "application/vnd.jupyter.widget-view+json": {
       "version_major": 2,
       "version_minor": 0,
       "model_id": "6f5302cae0d4428ab96453a5caaf0ab5"
      }
     },
     "metadata": {},
     "output_type": "display_data"
    },
    {
     "data": {
      "text/plain": "Validation loop:   0%|          | 0/9 [00:00<?, ?it/s]",
      "application/vnd.jupyter.widget-view+json": {
       "version_major": 2,
       "version_minor": 0,
       "model_id": "b8787c165d8148c7ace7793714dea722"
      }
     },
     "metadata": {},
     "output_type": "display_data"
    },
    {
     "name": "stdout",
     "output_type": "stream",
     "text": [
      "Epoch 125/200 - Train loss: 0.6907374319099554, Validation loss: 0.4928812528556248\n",
      "Early Stopping: 1/5\n"
     ]
    },
    {
     "data": {
      "text/plain": "Training loop:   0%|          | 0/239 [00:00<?, ?it/s]",
      "application/vnd.jupyter.widget-view+json": {
       "version_major": 2,
       "version_minor": 0,
       "model_id": "514d5f55bf794610a7561a8bd8ee938d"
      }
     },
     "metadata": {},
     "output_type": "display_data"
    },
    {
     "data": {
      "text/plain": "Validation loop:   0%|          | 0/9 [00:00<?, ?it/s]",
      "application/vnd.jupyter.widget-view+json": {
       "version_major": 2,
       "version_minor": 0,
       "model_id": "15356815810d4bb0a002156a8338d784"
      }
     },
     "metadata": {},
     "output_type": "display_data"
    },
    {
     "name": "stdout",
     "output_type": "stream",
     "text": [
      "Epoch 126/200 - Train loss: 0.686744041670532, Validation loss: 0.47789518563252575\n",
      "Early Stopping: 2/5\n"
     ]
    },
    {
     "data": {
      "text/plain": "Training loop:   0%|          | 0/239 [00:00<?, ?it/s]",
      "application/vnd.jupyter.widget-view+json": {
       "version_major": 2,
       "version_minor": 0,
       "model_id": "8de0153774c8487b850658d8affece95"
      }
     },
     "metadata": {},
     "output_type": "display_data"
    },
    {
     "data": {
      "text/plain": "Validation loop:   0%|          | 0/9 [00:00<?, ?it/s]",
      "application/vnd.jupyter.widget-view+json": {
       "version_major": 2,
       "version_minor": 0,
       "model_id": "d195edccce2f4776b87b77d78d7157c8"
      }
     },
     "metadata": {},
     "output_type": "display_data"
    },
    {
     "name": "stdout",
     "output_type": "stream",
     "text": [
      "Epoch 127/200 - Train loss: 0.6795911753915664, Validation loss: 0.46639747349721083\n",
      "Early Stopping: 3/5\n"
     ]
    },
    {
     "data": {
      "text/plain": "Training loop:   0%|          | 0/239 [00:00<?, ?it/s]",
      "application/vnd.jupyter.widget-view+json": {
       "version_major": 2,
       "version_minor": 0,
       "model_id": "6faa3c512ef345aea86bd3a34381298d"
      }
     },
     "metadata": {},
     "output_type": "display_data"
    },
    {
     "data": {
      "text/plain": "Validation loop:   0%|          | 0/9 [00:00<?, ?it/s]",
      "application/vnd.jupyter.widget-view+json": {
       "version_major": 2,
       "version_minor": 0,
       "model_id": "33b5cbc21c7743ceaa07d90868c22718"
      }
     },
     "metadata": {},
     "output_type": "display_data"
    },
    {
     "name": "stdout",
     "output_type": "stream",
     "text": [
      "Epoch 128/200 - Train loss: 0.6779010587324, Validation loss: 0.4887134648718924\n",
      "Early Stopping: 4/5\n"
     ]
    },
    {
     "data": {
      "text/plain": "Training loop:   0%|          | 0/239 [00:00<?, ?it/s]",
      "application/vnd.jupyter.widget-view+json": {
       "version_major": 2,
       "version_minor": 0,
       "model_id": "556112c2c65c4297bc84dbbf27082a81"
      }
     },
     "metadata": {},
     "output_type": "display_data"
    },
    {
     "data": {
      "text/plain": "Validation loop:   0%|          | 0/9 [00:00<?, ?it/s]",
      "application/vnd.jupyter.widget-view+json": {
       "version_major": 2,
       "version_minor": 0,
       "model_id": "4034fb4702514165957121bae0bc3a14"
      }
     },
     "metadata": {},
     "output_type": "display_data"
    },
    {
     "name": "stdout",
     "output_type": "stream",
     "text": [
      "Epoch 129/200 - Train loss: 0.6518723983923511, Validation loss: 0.4558048301147965\n",
      "Early Stopping: Stopping training\n"
     ]
    }
   ],
   "source": [
    "num_epochs = epochs_number\n",
    "train_losses, val_losses = [], []\n",
    "\n",
    "model = CardClassifier(num_classes=53)\n",
    "model.to(device)\n",
    "\n",
    "scheduler = ReduceLROnPlateau(optimizer, mode='min', factor=0.1, patience=3, verbose=True)\n",
    "criterion = nn.CrossEntropyLoss()\n",
    "#optimizer = optim.Adam(model.parameters(), lr=0.001, weight_decay=1e-4)\n",
    "#optimizer = optim.AdamW(model.parameters(), lr=0.001, weight_decay=1e-4)\n",
    "#optimizer = optim.RMSprop(model.parameters(), lr=0.001, weight_decay=1e-4)\n",
    "optimizer = optim.SGD(model.parameters(), lr=0.001, weight_decay=1e-4) #Ponad 100 epok zalecany scheduler\n",
    "es = EarlyStopping(patience=patience)\n",
    "\n",
    "epoch = 0\n",
    "done = False\n",
    "while epoch < num_epochs and not done:\n",
    "    epoch += 1\n",
    "    # Training phase\n",
    "    model.train()\n",
    "    running_loss = 0.0\n",
    "    for images, labels in tqdm(train_loader, desc='Training loop'):\n",
    "        # Move inputs and labels to the device\n",
    "        images, labels = images.to(device), labels.to(device)\n",
    "        \n",
    "        optimizer.zero_grad()\n",
    "        outputs = model(images)\n",
    "        loss = criterion(outputs, labels)\n",
    "        loss.backward()\n",
    "        optimizer.step()\n",
    "        running_loss += loss.item() * labels.size(0)\n",
    "    train_loss = running_loss / len(train_loader.dataset)\n",
    "    train_losses.append(train_loss)\n",
    "    \n",
    "    # Validation phase\n",
    "    model.eval()\n",
    "    running_loss = 0.0\n",
    "    with torch.no_grad():\n",
    "        for images, labels in tqdm(val_loader, desc='Validation loop'):\n",
    "            # Move inputs and labels to the device\n",
    "            images, labels = images.to(device), labels.to(device)\n",
    "         \n",
    "            outputs = model(images)\n",
    "            loss = criterion(outputs, labels)\n",
    "            running_loss += loss.item() * labels.size(0)\n",
    "    val_loss = running_loss / len(val_loader.dataset)\n",
    "    val_losses.append(val_loss)\n",
    "    print(f\"Epoch {epoch}/{num_epochs} - Train loss: {train_loss}, Validation loss: {val_loss}\")\n",
    "    \n",
    "    # Aktualizacja harmonogramu\n",
    "    scheduler.step(val_loss)\n",
    "     # Check early stopping criteria\n",
    "    done = es(model, val_loss)\n",
    "    print(f\"Early Stopping: {es.status}\")"
   ],
   "metadata": {
    "collapsed": false,
    "ExecuteTime": {
     "end_time": "2024-12-09T05:52:10.648386900Z",
     "start_time": "2024-12-09T05:22:54.648073400Z"
    }
   },
   "id": "86267436fbf0abe6"
  },
  {
   "cell_type": "code",
   "execution_count": 96,
   "outputs": [
    {
     "data": {
      "text/plain": "<Figure size 640x480 with 1 Axes>",
      "image/png": "[encoded data removed]"
     },
     "metadata": {},
     "output_type": "display_data"
    }
   ],
   "source": [
    "#Visualize Losses\n",
    "\n",
    "plt.plot(train_losses, label='Training loss')\n",
    "plt.plot(val_losses, label='Validation loss')\n",
    "plt.legend()\n",
    "plt.title(\"Loss over epochs\")\n",
    "plt.show()"
   ],
   "metadata": {
    "collapsed": false,
    "ExecuteTime": {
     "end_time": "2024-12-09T05:52:10.717888400Z",
     "start_time": "2024-12-09T05:52:10.643868900Z"
    }
   },
   "id": "3bd93e1efe556451"
  },
  {
   "cell_type": "code",
   "execution_count": 97,
   "outputs": [
    {
     "name": "stdout",
     "output_type": "stream",
     "text": [
      "Test Accuracy: 85.66%\n"
     ]
    }
   ],
   "source": [
    "# Calculate the Accuracy of the Model using test data\n",
    "\n",
    "model.eval()\n",
    "true_labels = []\n",
    "predicted_labels = []\n",
    "\n",
    "with torch.no_grad():\n",
    "    for images, labels in test_loader:\n",
    "        images, labels = images.to(device), labels.to(device)\n",
    "        \n",
    "        outputs = model(images)\n",
    "        _, predictions = torch.max(outputs, 1)  # Get the class index with the highest probability\n",
    "        true_labels.extend(labels.cpu().numpy())\n",
    "        predicted_labels.extend(predictions.cpu().numpy())\n",
    "\n",
    "# Calculate accuracy\n",
    "accuracy = accuracy_score(true_labels, predicted_labels)\n",
    "print(f\"Test Accuracy: {accuracy * 100:.2f}%\")"
   ],
   "metadata": {
    "collapsed": false,
    "ExecuteTime": {
     "end_time": "2024-12-09T05:52:11.014689700Z",
     "start_time": "2024-12-09T05:52:10.710726100Z"
    }
   },
   "id": "3ba489a2f89204b7"
  },
  {
   "cell_type": "code",
   "execution_count": 98,
   "outputs": [],
   "source": [
    "#torch.save(model.state_dict(), \"card_classifier93.96%.pth\")"
   ],
   "metadata": {
    "collapsed": false,
    "ExecuteTime": {
     "end_time": "2024-12-09T05:52:11.014689700Z",
     "start_time": "2024-12-09T05:52:11.010606600Z"
    }
   },
   "id": "81f6c4de6c55cdf9"
  },
  {
   "cell_type": "code",
   "execution_count": 99,
   "outputs": [
    {
     "data": {
      "text/plain": "<Figure size 640x480 with 2 Axes>",
      "image/png": "[encoded data removed]"
     },
     "metadata": {},
     "output_type": "display_data"
    }
   ],
   "source": [
    "# Create a confusion matrix\n",
    "conf_matrix = confusion_matrix(true_labels, predicted_labels)\n",
    "\n",
    "# Identify the top 10 classes based on prediction frequency\n",
    "top_n_classes = np.argsort(np.bincount(predicted_labels))[::-1][:15]\n",
    "\n",
    "# Extract the relevant rows and columns from the confusion matrix\n",
    "conf_matrix_top_n = conf_matrix[top_n_classes][:, top_n_classes]\n",
    "\n",
    "# Get the class names for the top 10 classes\n",
    "class_names_top_n = [train_dataset.classes[i] for i in top_n_classes]\n",
    "\n",
    "# Display the confusion matrix for the top 10 classes with rotated labels\n",
    "disp = ConfusionMatrixDisplay(confusion_matrix=conf_matrix_top_n, display_labels=class_names_top_n)\n",
    "disp.plot(cmap='Blues', values_format='d', xticks_rotation=90)\n",
    "plt.show()"
   ],
   "metadata": {
    "collapsed": false,
    "ExecuteTime": {
     "end_time": "2024-12-09T05:52:11.208234500Z",
     "start_time": "2024-12-09T05:52:11.013147900Z"
    }
   },
   "id": "1e60629fc6bdac89"
  },
  {
   "cell_type": "code",
   "execution_count": 99,
   "outputs": [],
   "source": [],
   "metadata": {
    "collapsed": false,
    "ExecuteTime": {
     "end_time": "2024-12-09T05:52:11.208234500Z",
     "start_time": "2024-12-09T05:52:11.202153800Z"
    }
   },
   "id": "f9f6c3fc6aba5162"
  }
 ],
 "metadata": {
  "kernelspec": {
   "display_name": "Python 3",
   "language": "python",
   "name": "python3"
  },
  "language_info": {
   "codemirror_mode": {
    "name": "ipython",
    "version": 2
   },
   "file_extension": ".py",
   "mimetype": "text/x-python",
   "name": "python",
   "nbconvert_exporter": "python",
   "pygments_lexer": "ipython2",
   "version": "2.7.6"
  }
 },
 "nbformat": 4,
 "nbformat_minor": 5
}
