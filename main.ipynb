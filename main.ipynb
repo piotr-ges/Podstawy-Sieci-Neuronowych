{
 "cells": [
  {
   "cell_type": "code",
   "execution_count": 169,
   "id": "initial_id",
   "metadata": {
    "collapsed": true,
    "ExecuteTime": {
     "end_time": "2024-12-09T06:21:06.016529900Z",
     "start_time": "2024-12-09T06:21:06.006043500Z"
    }
   },
   "outputs": [],
   "source": [
    "import numpy as np\n",
    "import pandas as pd\n",
    "import copy\n",
    "\n",
    "import torch\n",
    "from torch import nn\n",
    "from torch.utils.data import DataLoader,Dataset\n",
    "from torchvision.models.detection import transform\n",
    "from torchvision.transforms import transforms\n",
    "from torchvision.datasets import ImageFolder\n",
    "from torch.nn.functional import max_pool2d\n",
    "import torch.nn.functional as F\n",
    "import torch.optim as optim\n",
    "from torchvision.transforms import RandomChoice\n",
    "\n",
    "from tqdm.notebook import tqdm\n",
    "import matplotlib.pyplot as plt\n",
    "from sklearn.metrics import accuracy_score\n",
    "from sklearn.metrics import confusion_matrix, ConfusionMatrixDisplay\n",
    "from torch.optim.lr_scheduler import ReduceLROnPlateau"
   ]
  },
  {
   "cell_type": "code",
   "execution_count": 170,
   "outputs": [],
   "source": [
    "batch_size = 32\n",
    "epochs_number = 200\n",
    "patience = 5"
   ],
   "metadata": {
    "collapsed": false,
    "ExecuteTime": {
     "end_time": "2024-12-09T06:21:06.018408300Z",
     "start_time": "2024-12-09T06:21:06.008803900Z"
    }
   },
   "id": "c287e69a146fa024"
  },
  {
   "cell_type": "code",
   "execution_count": 171,
   "outputs": [],
   "source": [
    "#Create dataset\n",
    "class PlayingCardDataset(Dataset):\n",
    "    def __init__(self, data_dir, transform=None):\n",
    "        self.data = ImageFolder(data_dir, transform=transform)\n",
    "        \n",
    "    def __len__(self):\n",
    "        return len(self.data)\n",
    "    \n",
    "    def __getitem__(self, idx):\n",
    "        return self.data[idx]\n",
    "    \n",
    "    @property\n",
    "    def classes(self):\n",
    "        return self.data.classes"
   ],
   "metadata": {
    "collapsed": false,
    "ExecuteTime": {
     "end_time": "2024-12-09T06:21:06.018408300Z",
     "start_time": "2024-12-09T06:21:06.011880100Z"
    }
   },
   "id": "13a9316297d6d2af"
  },
  {
   "cell_type": "code",
   "execution_count": 172,
   "outputs": [],
   "source": [
    "#Model\n",
    "class CardClassifier(nn.Module):\n",
    "    def __init__(self, num_classes=53):\n",
    "        super(CardClassifier,self).__init__()\n",
    "        \n",
    "        self.conv1 = nn.Conv2d(3, 32, kernel_size=3, stride=1, padding=1)\n",
    "        self.bn1 = nn.BatchNorm2d(32)\n",
    "        self.conv2 = nn.Conv2d(32, 64, kernel_size=3, stride=1, padding=1)\n",
    "        self.bn2 = nn.BatchNorm2d(64)\n",
    "        self.conv3 = nn.Conv2d(64, 128, kernel_size=3, stride=1, padding=1)\n",
    "        self.bn3 = nn.BatchNorm2d(128)\n",
    "        self.pool = nn.MaxPool2d(kernel_size=2, stride=2)\n",
    "        self.fc1 = nn.Linear(128 * 16 * 16, 512)\n",
    "        self.fc2 = nn.Linear(512, 128)\n",
    "        self.fc3 = nn.Linear(128, 64)\n",
    "        self.fc4 = nn.Linear(64, num_classes)\n",
    "        self.dropout1 = nn.Dropout(p=0.1)\n",
    "        self.dropout2 = nn.Dropout(p=0.2)\n",
    "        self.dropout3 = nn.Dropout(p=0.3)\n",
    "         \n",
    "    def forward(self, x):\n",
    "        #x = self.pool(F.leaky_relu(self.bn1(self.conv1(x)), negative_slope=0.01))\n",
    "        #x = self.pool(F.leaky_relu(self.bn2(self.conv2(x)), negative_slope=0.01))\n",
    "        #x = self.pool(F.leaky_relu(self.bn3(self.conv3(x)), negative_slope=0.01))\n",
    "        #x = self.pool(F.elu(self.bn1(self.conv1(x)), alpha=1.0))\n",
    "        #x = self.pool(F.elu(self.bn2(self.conv2(x)), alpha=1.0))\n",
    "        #x = self.pool(F.elu(self.bn3(self.conv3(x)), alpha=1.0))\n",
    "        x = self.pool(F.gelu(self.bn1(self.conv1(x))))\n",
    "        x = self.pool(F.gelu(self.bn2(self.conv2(x))))\n",
    "        x = self.pool(F.gelu(self.bn3(self.conv3(x))))\n",
    "        x = x.view(x.size(0), -1)\n",
    "        \n",
    "        x = F.gelu(self.fc1(x))\n",
    "        #x = F.leaky_relu(self.fc1(x), negative_slope=0.01)\n",
    "        #x = F.elu(self.fc1(x), alpha=1.0)\n",
    "        x = self.dropout1(x)\n",
    "        \n",
    "        x = F.gelu(self.fc2(x))\n",
    "        #x = F.leaky_relu(self.fc2(x), negative_slope=0.01)\n",
    "        #x = F.elu(self.fc2(x), alpha=1.0)\n",
    "        x = self.dropout2(x)\n",
    "        \n",
    "        x = F.gelu(self.fc3(x))\n",
    "        #x = F.leaky_relu(self.fc3(x), negative_slope=0.01)\n",
    "        #x = F.elu(self.fc3(x), alpha=1.0)\n",
    "        x = self.dropout3(x)\n",
    "        output = self.fc4(x)\n",
    "        \n",
    "        return output"
   ],
   "metadata": {
    "collapsed": false,
    "ExecuteTime": {
     "end_time": "2024-12-09T06:21:06.025493200Z",
     "start_time": "2024-12-09T06:21:06.018408300Z"
    }
   },
   "id": "8c122d2d277f318"
  },
  {
   "cell_type": "code",
   "execution_count": 173,
   "outputs": [
    {
     "name": "stdout",
     "output_type": "stream",
     "text": [
      "CardClassifier(\n",
      "  (conv1): Conv2d(3, 32, kernel_size=(3, 3), stride=(1, 1), padding=(1, 1))\n",
      "  (bn1): BatchNorm2d(32, eps=1e-05, momentum=0.1, affine=True, track_running_stats=True)\n",
      "  (conv2): Conv2d(32, 64, kernel_size=(3, 3), stride=(1, 1), padding=(1, 1))\n",
      "  (bn2): BatchNorm2d(64, eps=1e-05, momentum=0.1, affine=True, track_running_stats=True)\n",
      "  (conv3): Conv2d(64, 128, kernel_size=(3, 3), stride=(1, 1), padding=(1, 1))\n",
      "  (bn3): BatchNorm2d(128, eps=1e-05, momentum=0.1, affine=True, track_running_stats=True)\n",
      "  (pool): MaxPool2d(kernel_size=2, stride=2, padding=0, dilation=1, ceil_mode=False)\n",
      "  (fc1): Linear(in_features=32768, out_features=512, bias=True)\n",
      "  (fc2): Linear(in_features=512, out_features=128, bias=True)\n",
      "  (fc3): Linear(in_features=128, out_features=64, bias=True)\n",
      "  (fc4): Linear(in_features=64, out_features=53, bias=True)\n",
      "  (dropout1): Dropout(p=0.1, inplace=False)\n",
      "  (dropout2): Dropout(p=0.2, inplace=False)\n",
      "  (dropout3): Dropout(p=0.3, inplace=False)\n",
      ")\n"
     ]
    }
   ],
   "source": [
    "model = CardClassifier(num_classes=53)\n",
    "print(model)"
   ],
   "metadata": {
    "collapsed": false,
    "ExecuteTime": {
     "end_time": "2024-12-09T06:21:06.071751Z",
     "start_time": "2024-12-09T06:21:06.020455400Z"
    }
   },
   "id": "27f920b403317c00"
  },
  {
   "cell_type": "code",
   "execution_count": 174,
   "outputs": [],
   "source": [
    "#Loss Function\n",
    "criterion = nn.CrossEntropyLoss()\n",
    "#Optimizer\n",
    "optimizer = optim.AdamW(model.parameters(), lr=0.001, weight_decay=1e-4)"
   ],
   "metadata": {
    "collapsed": false,
    "ExecuteTime": {
     "end_time": "2024-12-09T06:21:06.071751Z",
     "start_time": "2024-12-09T06:21:06.067110100Z"
    }
   },
   "id": "639032c82fee9eca"
  },
  {
   "cell_type": "code",
   "execution_count": 175,
   "outputs": [],
   "source": [
    "transform_train = transforms.Compose([\n",
    "    transforms.Resize((128, 128)),\n",
    "    RandomChoice([\n",
    "        transforms.RandomHorizontalFlip(p=1.0),\n",
    "        transforms.RandomVerticalFlip(p=1.0),\n",
    "        transforms.ColorJitter(brightness=0.3, contrast=0.3, saturation=0.3, hue=0.2)\n",
    "    ]),\n",
    "    transforms.ToTensor(),\n",
    "    transforms.Normalize((0.5, 0.5, 0.5), (0.5, 0.5, 0.5))\n",
    "])\n",
    "\n",
    "transform = transforms.Compose([\n",
    "    transforms.Resize((128, 128)), #Resize to 128x128\n",
    "    transforms.ToTensor(), \n",
    "    transforms.Normalize((0.5, 0.5, 0.5), (0.5, 0.5, 0.5))\n",
    "])\n",
    "\n",
    "train_folder = r'C:\\Users\\piotr\\Desktop\\data\\train'\n",
    "valid_folder = r'C:\\Users\\piotr\\Desktop\\data\\valid'\n",
    "test_folder = r'C:\\Users\\piotr\\Desktop\\data\\test'\n",
    "\n",
    "train_dataset = PlayingCardDataset(train_folder, transform=transform_train)\n",
    "val_dataset = PlayingCardDataset(valid_folder, transform=transform)\n",
    "test_dataset = PlayingCardDataset(test_folder, transform=transform)\n",
    "\n",
    "train_loader = DataLoader(train_dataset, batch_size=batch_size, shuffle=True)\n",
    "val_loader = DataLoader(val_dataset, batch_size=batch_size, shuffle=False)\n",
    "test_loader = DataLoader(val_dataset, batch_size=batch_size, shuffle=False)"
   ],
   "metadata": {
    "collapsed": false,
    "ExecuteTime": {
     "end_time": "2024-12-09T06:21:06.124433100Z",
     "start_time": "2024-12-09T06:21:06.070214300Z"
    }
   },
   "id": "ec2581d75cf1864"
  },
  {
   "cell_type": "code",
   "execution_count": 176,
   "outputs": [],
   "source": [
    "# Early stopping\n",
    "\n",
    "class EarlyStopping:\n",
    "    def __init__(self, patience=5, min_delta=0, restore_best_weights=True):\n",
    "        self.patience = patience\n",
    "        self.min_delta = min_delta\n",
    "        self.restore_best_weights = restore_best_weights\n",
    "        self.best_model = None\n",
    "        self.best_loss = float('inf')\n",
    "        self.counter = 0\n",
    "        self.status = \"\"\n",
    "\n",
    "    def __call__(self, model, val_loss):\n",
    "        if val_loss < self.best_loss - self.min_delta:\n",
    "            self.best_loss = val_loss\n",
    "            self.counter = 0\n",
    "            self.best_model = copy.deepcopy(model.state_dict())\n",
    "        else:\n",
    "            self.counter += 1\n",
    "            if self.counter >= self.patience:\n",
    "                self.status = \"Stopping training\"\n",
    "                if self.restore_best_weights:\n",
    "                    model.load_state_dict(self.best_model)\n",
    "                return True\n",
    "        self.status = f\"{self.counter}/{self.patience}\"\n",
    "        return False"
   ],
   "metadata": {
    "collapsed": false,
    "ExecuteTime": {
     "end_time": "2024-12-09T06:21:06.130588900Z",
     "start_time": "2024-12-09T06:21:06.099326300Z"
    }
   },
   "id": "7d27e00ee8c3303c"
  },
  {
   "cell_type": "code",
   "execution_count": 177,
   "outputs": [
    {
     "name": "stdout",
     "output_type": "stream",
     "text": [
      "Using device: cuda\n"
     ]
    }
   ],
   "source": [
    "device = torch.device(\"cuda\" if torch.cuda.is_available() else \"cpu\")\n",
    "print(f\"Using device: {device}\")"
   ],
   "metadata": {
    "collapsed": false,
    "ExecuteTime": {
     "end_time": "2024-12-09T06:21:06.130588900Z",
     "start_time": "2024-12-09T06:21:06.102548700Z"
    }
   },
   "id": "69991bd878075cfd"
  },
  {
   "cell_type": "code",
   "execution_count": 178,
   "outputs": [
    {
     "data": {
      "text/plain": "Training loop:   0%|          | 0/239 [00:00<?, ?it/s]",
      "application/vnd.jupyter.widget-view+json": {
       "version_major": 2,
       "version_minor": 0,
       "model_id": "f76b580f57be411f80133f9590ead172"
      }
     },
     "metadata": {},
     "output_type": "display_data"
    },
    {
     "data": {
      "text/plain": "Validation loop:   0%|          | 0/9 [00:00<?, ?it/s]",
      "application/vnd.jupyter.widget-view+json": {
       "version_major": 2,
       "version_minor": 0,
       "model_id": "da394812c276430a89f01f2b5ad3793f"
      }
     },
     "metadata": {},
     "output_type": "display_data"
    },
    {
     "name": "stdout",
     "output_type": "stream",
     "text": [
      "Epoch 1/200 - Train loss: 3.6326233542603434, Validation loss: 2.374830623842635\n",
      "Early Stopping: 0/5\n"
     ]
    },
    {
     "data": {
      "text/plain": "Training loop:   0%|          | 0/239 [00:00<?, ?it/s]",
      "application/vnd.jupyter.widget-view+json": {
       "version_major": 2,
       "version_minor": 0,
       "model_id": "125244a21527401da944fe171896bb57"
      }
     },
     "metadata": {},
     "output_type": "display_data"
    },
    {
     "data": {
      "text/plain": "Validation loop:   0%|          | 0/9 [00:00<?, ?it/s]",
      "application/vnd.jupyter.widget-view+json": {
       "version_major": 2,
       "version_minor": 0,
       "model_id": "8863199c05ce41b7b03f2c19f81bda4d"
      }
     },
     "metadata": {},
     "output_type": "display_data"
    },
    {
     "name": "stdout",
     "output_type": "stream",
     "text": [
      "Epoch 2/200 - Train loss: 2.702011509682174, Validation loss: 1.8453904493799749\n",
      "Early Stopping: 0/5\n"
     ]
    },
    {
     "data": {
      "text/plain": "Training loop:   0%|          | 0/239 [00:00<?, ?it/s]",
      "application/vnd.jupyter.widget-view+json": {
       "version_major": 2,
       "version_minor": 0,
       "model_id": "723e5b7991ad45fbab04b69bb51de617"
      }
     },
     "metadata": {},
     "output_type": "display_data"
    },
    {
     "data": {
      "text/plain": "Validation loop:   0%|          | 0/9 [00:00<?, ?it/s]",
      "application/vnd.jupyter.widget-view+json": {
       "version_major": 2,
       "version_minor": 0,
       "model_id": "c3e2e8af912844bfb2f5f4df9c58e50f"
      }
     },
     "metadata": {},
     "output_type": "display_data"
    },
    {
     "name": "stdout",
     "output_type": "stream",
     "text": [
      "Epoch 3/200 - Train loss: 2.3289761220545735, Validation loss: 1.630552321559978\n",
      "Early Stopping: 0/5\n"
     ]
    },
    {
     "data": {
      "text/plain": "Training loop:   0%|          | 0/239 [00:00<?, ?it/s]",
      "application/vnd.jupyter.widget-view+json": {
       "version_major": 2,
       "version_minor": 0,
       "model_id": "7d740920acb7496aa4fbd53097498b2d"
      }
     },
     "metadata": {},
     "output_type": "display_data"
    },
    {
     "data": {
      "text/plain": "Validation loop:   0%|          | 0/9 [00:00<?, ?it/s]",
      "application/vnd.jupyter.widget-view+json": {
       "version_major": 2,
       "version_minor": 0,
       "model_id": "d9cfc523a98e441993a1bd92f1a2a763"
      }
     },
     "metadata": {},
     "output_type": "display_data"
    },
    {
     "name": "stdout",
     "output_type": "stream",
     "text": [
      "Epoch 4/200 - Train loss: 2.1610077134209438, Validation loss: 1.5014483811720363\n",
      "Early Stopping: 0/5\n"
     ]
    },
    {
     "data": {
      "text/plain": "Training loop:   0%|          | 0/239 [00:00<?, ?it/s]",
      "application/vnd.jupyter.widget-view+json": {
       "version_major": 2,
       "version_minor": 0,
       "model_id": "bb795e859f6244f5a4f06385026a041c"
      }
     },
     "metadata": {},
     "output_type": "display_data"
    },
    {
     "data": {
      "text/plain": "Validation loop:   0%|          | 0/9 [00:00<?, ?it/s]",
      "application/vnd.jupyter.widget-view+json": {
       "version_major": 2,
       "version_minor": 0,
       "model_id": "d60c60d041654867a7451c906e5a86f6"
      }
     },
     "metadata": {},
     "output_type": "display_data"
    },
    {
     "name": "stdout",
     "output_type": "stream",
     "text": [
      "Epoch 5/200 - Train loss: 1.9770744917650414, Validation loss: 1.3069192931337177\n",
      "Early Stopping: 0/5\n"
     ]
    },
    {
     "data": {
      "text/plain": "Training loop:   0%|          | 0/239 [00:00<?, ?it/s]",
      "application/vnd.jupyter.widget-view+json": {
       "version_major": 2,
       "version_minor": 0,
       "model_id": "88503d8f966a4af5bb4aedb134ff62ed"
      }
     },
     "metadata": {},
     "output_type": "display_data"
    },
    {
     "data": {
      "text/plain": "Validation loop:   0%|          | 0/9 [00:00<?, ?it/s]",
      "application/vnd.jupyter.widget-view+json": {
       "version_major": 2,
       "version_minor": 0,
       "model_id": "3b88dd1f460d43069fa3fa3400983b84"
      }
     },
     "metadata": {},
     "output_type": "display_data"
    },
    {
     "name": "stdout",
     "output_type": "stream",
     "text": [
      "Epoch 6/200 - Train loss: 1.839355057834453, Validation loss: 1.2057329717672096\n",
      "Early Stopping: 0/5\n"
     ]
    },
    {
     "data": {
      "text/plain": "Training loop:   0%|          | 0/239 [00:00<?, ?it/s]",
      "application/vnd.jupyter.widget-view+json": {
       "version_major": 2,
       "version_minor": 0,
       "model_id": "825ce7d98d3b4d299c4e8f287b44e643"
      }
     },
     "metadata": {},
     "output_type": "display_data"
    },
    {
     "data": {
      "text/plain": "Validation loop:   0%|          | 0/9 [00:00<?, ?it/s]",
      "application/vnd.jupyter.widget-view+json": {
       "version_major": 2,
       "version_minor": 0,
       "model_id": "14e3ee278dc24678be086f51f784b9a6"
      }
     },
     "metadata": {},
     "output_type": "display_data"
    },
    {
     "name": "stdout",
     "output_type": "stream",
     "text": [
      "Epoch 7/200 - Train loss: 1.6961849023512754, Validation loss: 1.0688499612628288\n",
      "Early Stopping: 0/5\n"
     ]
    },
    {
     "data": {
      "text/plain": "Training loop:   0%|          | 0/239 [00:00<?, ?it/s]",
      "application/vnd.jupyter.widget-view+json": {
       "version_major": 2,
       "version_minor": 0,
       "model_id": "22991a8ba1e24ea49cb23a302db2b428"
      }
     },
     "metadata": {},
     "output_type": "display_data"
    },
    {
     "data": {
      "text/plain": "Validation loop:   0%|          | 0/9 [00:00<?, ?it/s]",
      "application/vnd.jupyter.widget-view+json": {
       "version_major": 2,
       "version_minor": 0,
       "model_id": "0707c14ae2e9479090fbf3b02642c325"
      }
     },
     "metadata": {},
     "output_type": "display_data"
    },
    {
     "name": "stdout",
     "output_type": "stream",
     "text": [
      "Epoch 8/200 - Train loss: 1.5601245711507727, Validation loss: 0.9160915788614525\n",
      "Early Stopping: 0/5\n"
     ]
    },
    {
     "data": {
      "text/plain": "Training loop:   0%|          | 0/239 [00:00<?, ?it/s]",
      "application/vnd.jupyter.widget-view+json": {
       "version_major": 2,
       "version_minor": 0,
       "model_id": "bc2857f92bde430d92351b83a57585f9"
      }
     },
     "metadata": {},
     "output_type": "display_data"
    },
    {
     "data": {
      "text/plain": "Validation loop:   0%|          | 0/9 [00:00<?, ?it/s]",
      "application/vnd.jupyter.widget-view+json": {
       "version_major": 2,
       "version_minor": 0,
       "model_id": "8fb639c16ce6493fb9b46b20bc12cd17"
      }
     },
     "metadata": {},
     "output_type": "display_data"
    },
    {
     "name": "stdout",
     "output_type": "stream",
     "text": [
      "Epoch 9/200 - Train loss: 1.424049765590856, Validation loss: 0.8066732402117747\n",
      "Early Stopping: 0/5\n"
     ]
    },
    {
     "data": {
      "text/plain": "Training loop:   0%|          | 0/239 [00:00<?, ?it/s]",
      "application/vnd.jupyter.widget-view+json": {
       "version_major": 2,
       "version_minor": 0,
       "model_id": "6d6a8063d11048b0b9824696698f1b93"
      }
     },
     "metadata": {},
     "output_type": "display_data"
    },
    {
     "data": {
      "text/plain": "Validation loop:   0%|          | 0/9 [00:00<?, ?it/s]",
      "application/vnd.jupyter.widget-view+json": {
       "version_major": 2,
       "version_minor": 0,
       "model_id": "12038c0d070d4dd9853f02c3ef57bcdf"
      }
     },
     "metadata": {},
     "output_type": "display_data"
    },
    {
     "name": "stdout",
     "output_type": "stream",
     "text": [
      "Epoch 10/200 - Train loss: 1.302596464487338, Validation loss: 0.7717523721029174\n",
      "Early Stopping: 0/5\n"
     ]
    },
    {
     "data": {
      "text/plain": "Training loop:   0%|          | 0/239 [00:00<?, ?it/s]",
      "application/vnd.jupyter.widget-view+json": {
       "version_major": 2,
       "version_minor": 0,
       "model_id": "d3d44f052dcd47c5aa80a3dcc8d5079f"
      }
     },
     "metadata": {},
     "output_type": "display_data"
    },
    {
     "data": {
      "text/plain": "Validation loop:   0%|          | 0/9 [00:00<?, ?it/s]",
      "application/vnd.jupyter.widget-view+json": {
       "version_major": 2,
       "version_minor": 0,
       "model_id": "e202bd0ee72746fcaf3a8c8d0dccc73d"
      }
     },
     "metadata": {},
     "output_type": "display_data"
    },
    {
     "name": "stdout",
     "output_type": "stream",
     "text": [
      "Epoch 11/200 - Train loss: 1.2002250049947316, Validation loss: 0.642189827954994\n",
      "Early Stopping: 0/5\n"
     ]
    },
    {
     "data": {
      "text/plain": "Training loop:   0%|          | 0/239 [00:00<?, ?it/s]",
      "application/vnd.jupyter.widget-view+json": {
       "version_major": 2,
       "version_minor": 0,
       "model_id": "7e07749973d340e38d73068cfd1afefc"
      }
     },
     "metadata": {},
     "output_type": "display_data"
    },
    {
     "data": {
      "text/plain": "Validation loop:   0%|          | 0/9 [00:00<?, ?it/s]",
      "application/vnd.jupyter.widget-view+json": {
       "version_major": 2,
       "version_minor": 0,
       "model_id": "28b53bed9c2c456cad2886917f85d8b1"
      }
     },
     "metadata": {},
     "output_type": "display_data"
    },
    {
     "name": "stdout",
     "output_type": "stream",
     "text": [
      "Epoch 12/200 - Train loss: 1.1173546275462083, Validation loss: 0.6200794741792499\n",
      "Early Stopping: 0/5\n"
     ]
    },
    {
     "data": {
      "text/plain": "Training loop:   0%|          | 0/239 [00:00<?, ?it/s]",
      "application/vnd.jupyter.widget-view+json": {
       "version_major": 2,
       "version_minor": 0,
       "model_id": "683f8ed888944bebac89d5a8ab2d4db8"
      }
     },
     "metadata": {},
     "output_type": "display_data"
    },
    {
     "data": {
      "text/plain": "Validation loop:   0%|          | 0/9 [00:00<?, ?it/s]",
      "application/vnd.jupyter.widget-view+json": {
       "version_major": 2,
       "version_minor": 0,
       "model_id": "72b9cc78c57944f3bcbac717236a0a75"
      }
     },
     "metadata": {},
     "output_type": "display_data"
    },
    {
     "name": "stdout",
     "output_type": "stream",
     "text": [
      "Epoch 13/200 - Train loss: 1.018208407780306, Validation loss: 0.5595079610932548\n",
      "Early Stopping: 0/5\n"
     ]
    },
    {
     "data": {
      "text/plain": "Training loop:   0%|          | 0/239 [00:00<?, ?it/s]",
      "application/vnd.jupyter.widget-view+json": {
       "version_major": 2,
       "version_minor": 0,
       "model_id": "947c3414f2fd4d51b33566fff6c97bb1"
      }
     },
     "metadata": {},
     "output_type": "display_data"
    },
    {
     "data": {
      "text/plain": "Validation loop:   0%|          | 0/9 [00:00<?, ?it/s]",
      "application/vnd.jupyter.widget-view+json": {
       "version_major": 2,
       "version_minor": 0,
       "model_id": "4fd9166de67f4148aa6ddd4e37168cd6"
      }
     },
     "metadata": {},
     "output_type": "display_data"
    },
    {
     "name": "stdout",
     "output_type": "stream",
     "text": [
      "Epoch 14/200 - Train loss: 0.9397637912884339, Validation loss: 0.5565890683318084\n",
      "Early Stopping: 0/5\n"
     ]
    },
    {
     "data": {
      "text/plain": "Training loop:   0%|          | 0/239 [00:00<?, ?it/s]",
      "application/vnd.jupyter.widget-view+json": {
       "version_major": 2,
       "version_minor": 0,
       "model_id": "a9fe753dbfcf47eaba1948372084dae4"
      }
     },
     "metadata": {},
     "output_type": "display_data"
    },
    {
     "data": {
      "text/plain": "Validation loop:   0%|          | 0/9 [00:00<?, ?it/s]",
      "application/vnd.jupyter.widget-view+json": {
       "version_major": 2,
       "version_minor": 0,
       "model_id": "98a458ae1cdf474dbb2a60c4881c5535"
      }
     },
     "metadata": {},
     "output_type": "display_data"
    },
    {
     "name": "stdout",
     "output_type": "stream",
     "text": [
      "Epoch 15/200 - Train loss: 0.8928954752644862, Validation loss: 0.5340018211670642\n",
      "Early Stopping: 0/5\n"
     ]
    },
    {
     "data": {
      "text/plain": "Training loop:   0%|          | 0/239 [00:00<?, ?it/s]",
      "application/vnd.jupyter.widget-view+json": {
       "version_major": 2,
       "version_minor": 0,
       "model_id": "fa29002c89ef4b6b933c052bf76128f5"
      }
     },
     "metadata": {},
     "output_type": "display_data"
    },
    {
     "data": {
      "text/plain": "Validation loop:   0%|          | 0/9 [00:00<?, ?it/s]",
      "application/vnd.jupyter.widget-view+json": {
       "version_major": 2,
       "version_minor": 0,
       "model_id": "a671408135fa4a4bb34e2c68573e6d31"
      }
     },
     "metadata": {},
     "output_type": "display_data"
    },
    {
     "name": "stdout",
     "output_type": "stream",
     "text": [
      "Epoch 16/200 - Train loss: 0.8347891824630725, Validation loss: 0.47980032686917284\n",
      "Early Stopping: 0/5\n"
     ]
    },
    {
     "data": {
      "text/plain": "Training loop:   0%|          | 0/239 [00:00<?, ?it/s]",
      "application/vnd.jupyter.widget-view+json": {
       "version_major": 2,
       "version_minor": 0,
       "model_id": "3e60c77337434fb08dee8f87ccc33088"
      }
     },
     "metadata": {},
     "output_type": "display_data"
    },
    {
     "data": {
      "text/plain": "Validation loop:   0%|          | 0/9 [00:00<?, ?it/s]",
      "application/vnd.jupyter.widget-view+json": {
       "version_major": 2,
       "version_minor": 0,
       "model_id": "038a2cdacc8942908bc0080935931751"
      }
     },
     "metadata": {},
     "output_type": "display_data"
    },
    {
     "name": "stdout",
     "output_type": "stream",
     "text": [
      "Epoch 17/200 - Train loss: 0.7535306275328709, Validation loss: 0.47368151106924383\n",
      "Early Stopping: 0/5\n"
     ]
    },
    {
     "data": {
      "text/plain": "Training loop:   0%|          | 0/239 [00:00<?, ?it/s]",
      "application/vnd.jupyter.widget-view+json": {
       "version_major": 2,
       "version_minor": 0,
       "model_id": "bbb000a672854926aa0744cb11f6b3dc"
      }
     },
     "metadata": {},
     "output_type": "display_data"
    },
    {
     "data": {
      "text/plain": "Validation loop:   0%|          | 0/9 [00:00<?, ?it/s]",
      "application/vnd.jupyter.widget-view+json": {
       "version_major": 2,
       "version_minor": 0,
       "model_id": "895bc2bdb94e4dd4bce78dd9911ba09e"
      }
     },
     "metadata": {},
     "output_type": "display_data"
    },
    {
     "name": "stdout",
     "output_type": "stream",
     "text": [
      "Epoch 18/200 - Train loss: 0.7016571800831357, Validation loss: 0.4671934798078717\n",
      "Early Stopping: 0/5\n"
     ]
    },
    {
     "data": {
      "text/plain": "Training loop:   0%|          | 0/239 [00:00<?, ?it/s]",
      "application/vnd.jupyter.widget-view+json": {
       "version_major": 2,
       "version_minor": 0,
       "model_id": "7870a50926dc4e84a059e4e0d9841ceb"
      }
     },
     "metadata": {},
     "output_type": "display_data"
    },
    {
     "data": {
      "text/plain": "Validation loop:   0%|          | 0/9 [00:00<?, ?it/s]",
      "application/vnd.jupyter.widget-view+json": {
       "version_major": 2,
       "version_minor": 0,
       "model_id": "c5dbfa54101a40329655f7db8973a914"
      }
     },
     "metadata": {},
     "output_type": "display_data"
    },
    {
     "name": "stdout",
     "output_type": "stream",
     "text": [
      "Epoch 19/200 - Train loss: 0.6768895370449874, Validation loss: 0.48801911602605064\n",
      "Early Stopping: 1/5\n"
     ]
    },
    {
     "data": {
      "text/plain": "Training loop:   0%|          | 0/239 [00:00<?, ?it/s]",
      "application/vnd.jupyter.widget-view+json": {
       "version_major": 2,
       "version_minor": 0,
       "model_id": "f2c532204e3742ba8ebff0b5b97e4026"
      }
     },
     "metadata": {},
     "output_type": "display_data"
    },
    {
     "data": {
      "text/plain": "Validation loop:   0%|          | 0/9 [00:00<?, ?it/s]",
      "application/vnd.jupyter.widget-view+json": {
       "version_major": 2,
       "version_minor": 0,
       "model_id": "179653554443472698a5e7b573d4cd8a"
      }
     },
     "metadata": {},
     "output_type": "display_data"
    },
    {
     "name": "stdout",
     "output_type": "stream",
     "text": [
      "Epoch 20/200 - Train loss: 0.6206260748668833, Validation loss: 0.4587355710425467\n",
      "Early Stopping: 0/5\n"
     ]
    },
    {
     "data": {
      "text/plain": "Training loop:   0%|          | 0/239 [00:00<?, ?it/s]",
      "application/vnd.jupyter.widget-view+json": {
       "version_major": 2,
       "version_minor": 0,
       "model_id": "668793038eb244919181d5b966e631e2"
      }
     },
     "metadata": {},
     "output_type": "display_data"
    },
    {
     "data": {
      "text/plain": "Validation loop:   0%|          | 0/9 [00:00<?, ?it/s]",
      "application/vnd.jupyter.widget-view+json": {
       "version_major": 2,
       "version_minor": 0,
       "model_id": "00f8495980ba48979ff27d4e06b68945"
      }
     },
     "metadata": {},
     "output_type": "display_data"
    },
    {
     "name": "stdout",
     "output_type": "stream",
     "text": [
      "Epoch 21/200 - Train loss: 0.5698833570963188, Validation loss: 0.46141815196793035\n",
      "Early Stopping: 1/5\n"
     ]
    },
    {
     "data": {
      "text/plain": "Training loop:   0%|          | 0/239 [00:00<?, ?it/s]",
      "application/vnd.jupyter.widget-view+json": {
       "version_major": 2,
       "version_minor": 0,
       "model_id": "0f0d3bb4713a46f386a39fb94488f1d2"
      }
     },
     "metadata": {},
     "output_type": "display_data"
    },
    {
     "data": {
      "text/plain": "Validation loop:   0%|          | 0/9 [00:00<?, ?it/s]",
      "application/vnd.jupyter.widget-view+json": {
       "version_major": 2,
       "version_minor": 0,
       "model_id": "10a8357af6e2497088a930d0a807b663"
      }
     },
     "metadata": {},
     "output_type": "display_data"
    },
    {
     "name": "stdout",
     "output_type": "stream",
     "text": [
      "Epoch 22/200 - Train loss: 0.5531400761411673, Validation loss: 0.4107846820129539\n",
      "Early Stopping: 0/5\n"
     ]
    },
    {
     "data": {
      "text/plain": "Training loop:   0%|          | 0/239 [00:00<?, ?it/s]",
      "application/vnd.jupyter.widget-view+json": {
       "version_major": 2,
       "version_minor": 0,
       "model_id": "ffbcbaffdc3d482cb5dd9007031d96d5"
      }
     },
     "metadata": {},
     "output_type": "display_data"
    },
    {
     "data": {
      "text/plain": "Validation loop:   0%|          | 0/9 [00:00<?, ?it/s]",
      "application/vnd.jupyter.widget-view+json": {
       "version_major": 2,
       "version_minor": 0,
       "model_id": "f4d79bef979b40f2b7aa1f6c7df266fb"
      }
     },
     "metadata": {},
     "output_type": "display_data"
    },
    {
     "name": "stdout",
     "output_type": "stream",
     "text": [
      "Epoch 23/200 - Train loss: 0.5320820038491256, Validation loss: 0.4288042609421712\n",
      "Early Stopping: 1/5\n"
     ]
    },
    {
     "data": {
      "text/plain": "Training loop:   0%|          | 0/239 [00:00<?, ?it/s]",
      "application/vnd.jupyter.widget-view+json": {
       "version_major": 2,
       "version_minor": 0,
       "model_id": "ac88107fd5d24dbcbec07ff4fe7c113d"
      }
     },
     "metadata": {},
     "output_type": "display_data"
    },
    {
     "data": {
      "text/plain": "Validation loop:   0%|          | 0/9 [00:00<?, ?it/s]",
      "application/vnd.jupyter.widget-view+json": {
       "version_major": 2,
       "version_minor": 0,
       "model_id": "ecaf3830e43e4a7ba4d398fb0504631d"
      }
     },
     "metadata": {},
     "output_type": "display_data"
    },
    {
     "name": "stdout",
     "output_type": "stream",
     "text": [
      "Epoch 24/200 - Train loss: 0.4944704680040025, Validation loss: 0.33393090974609807\n",
      "Early Stopping: 0/5\n"
     ]
    },
    {
     "data": {
      "text/plain": "Training loop:   0%|          | 0/239 [00:00<?, ?it/s]",
      "application/vnd.jupyter.widget-view+json": {
       "version_major": 2,
       "version_minor": 0,
       "model_id": "6b48f173f6c64406b3eeecf68570c897"
      }
     },
     "metadata": {},
     "output_type": "display_data"
    },
    {
     "data": {
      "text/plain": "Validation loop:   0%|          | 0/9 [00:00<?, ?it/s]",
      "application/vnd.jupyter.widget-view+json": {
       "version_major": 2,
       "version_minor": 0,
       "model_id": "8f6f93bd9f7749018ee738e2873b4744"
      }
     },
     "metadata": {},
     "output_type": "display_data"
    },
    {
     "name": "stdout",
     "output_type": "stream",
     "text": [
      "Epoch 25/200 - Train loss: 0.47155372662409156, Validation loss: 0.36153278575753267\n",
      "Early Stopping: 1/5\n"
     ]
    },
    {
     "data": {
      "text/plain": "Training loop:   0%|          | 0/239 [00:00<?, ?it/s]",
      "application/vnd.jupyter.widget-view+json": {
       "version_major": 2,
       "version_minor": 0,
       "model_id": "5814d16af61c48f5b9a385c51b063c46"
      }
     },
     "metadata": {},
     "output_type": "display_data"
    },
    {
     "data": {
      "text/plain": "Validation loop:   0%|          | 0/9 [00:00<?, ?it/s]",
      "application/vnd.jupyter.widget-view+json": {
       "version_major": 2,
       "version_minor": 0,
       "model_id": "094fcb787c6146c685272f860859c610"
      }
     },
     "metadata": {},
     "output_type": "display_data"
    },
    {
     "name": "stdout",
     "output_type": "stream",
     "text": [
      "Epoch 26/200 - Train loss: 0.42711520105100004, Validation loss: 0.3748369349623626\n",
      "Early Stopping: 2/5\n"
     ]
    },
    {
     "data": {
      "text/plain": "Training loop:   0%|          | 0/239 [00:00<?, ?it/s]",
      "application/vnd.jupyter.widget-view+json": {
       "version_major": 2,
       "version_minor": 0,
       "model_id": "3d694523813c4c89b8ca4501b869b3cc"
      }
     },
     "metadata": {},
     "output_type": "display_data"
    },
    {
     "data": {
      "text/plain": "Validation loop:   0%|          | 0/9 [00:00<?, ?it/s]",
      "application/vnd.jupyter.widget-view+json": {
       "version_major": 2,
       "version_minor": 0,
       "model_id": "85ba321462aa4b8e9e51acfb955524d3"
      }
     },
     "metadata": {},
     "output_type": "display_data"
    },
    {
     "name": "stdout",
     "output_type": "stream",
     "text": [
      "Epoch 27/200 - Train loss: 0.4244016282268236, Validation loss: 0.3266006053056357\n",
      "Early Stopping: 0/5\n"
     ]
    },
    {
     "data": {
      "text/plain": "Training loop:   0%|          | 0/239 [00:00<?, ?it/s]",
      "application/vnd.jupyter.widget-view+json": {
       "version_major": 2,
       "version_minor": 0,
       "model_id": "d72c14cd0be84e45af18fe44399bfe3b"
      }
     },
     "metadata": {},
     "output_type": "display_data"
    },
    {
     "data": {
      "text/plain": "Validation loop:   0%|          | 0/9 [00:00<?, ?it/s]",
      "application/vnd.jupyter.widget-view+json": {
       "version_major": 2,
       "version_minor": 0,
       "model_id": "35a12c0310ee413f9a63214b45a7f9a6"
      }
     },
     "metadata": {},
     "output_type": "display_data"
    },
    {
     "name": "stdout",
     "output_type": "stream",
     "text": [
      "Epoch 28/200 - Train loss: 0.40733612330722285, Validation loss: 0.36994478297683425\n",
      "Early Stopping: 1/5\n"
     ]
    },
    {
     "data": {
      "text/plain": "Training loop:   0%|          | 0/239 [00:00<?, ?it/s]",
      "application/vnd.jupyter.widget-view+json": {
       "version_major": 2,
       "version_minor": 0,
       "model_id": "cd9a1c1bd07e449a9500c5876215970a"
      }
     },
     "metadata": {},
     "output_type": "display_data"
    },
    {
     "data": {
      "text/plain": "Validation loop:   0%|          | 0/9 [00:00<?, ?it/s]",
      "application/vnd.jupyter.widget-view+json": {
       "version_major": 2,
       "version_minor": 0,
       "model_id": "d70f5e0eda9f475eaa5325db93cf31bf"
      }
     },
     "metadata": {},
     "output_type": "display_data"
    },
    {
     "name": "stdout",
     "output_type": "stream",
     "text": [
      "Epoch 29/200 - Train loss: 0.38122895758712405, Validation loss: 0.3906270091826061\n",
      "Early Stopping: 2/5\n"
     ]
    },
    {
     "data": {
      "text/plain": "Training loop:   0%|          | 0/239 [00:00<?, ?it/s]",
      "application/vnd.jupyter.widget-view+json": {
       "version_major": 2,
       "version_minor": 0,
       "model_id": "14087c6f2cf34e8a9d23da6e7b7be03d"
      }
     },
     "metadata": {},
     "output_type": "display_data"
    },
    {
     "data": {
      "text/plain": "Validation loop:   0%|          | 0/9 [00:00<?, ?it/s]",
      "application/vnd.jupyter.widget-view+json": {
       "version_major": 2,
       "version_minor": 0,
       "model_id": "06d12101d0da46bc983fde82835d3199"
      }
     },
     "metadata": {},
     "output_type": "display_data"
    },
    {
     "name": "stdout",
     "output_type": "stream",
     "text": [
      "Epoch 30/200 - Train loss: 0.3660755073786044, Validation loss: 0.3351842542864242\n",
      "Early Stopping: 3/5\n"
     ]
    },
    {
     "data": {
      "text/plain": "Training loop:   0%|          | 0/239 [00:00<?, ?it/s]",
      "application/vnd.jupyter.widget-view+json": {
       "version_major": 2,
       "version_minor": 0,
       "model_id": "c51846ed56ca4a3599b618b73ac84f84"
      }
     },
     "metadata": {},
     "output_type": "display_data"
    },
    {
     "data": {
      "text/plain": "Validation loop:   0%|          | 0/9 [00:00<?, ?it/s]",
      "application/vnd.jupyter.widget-view+json": {
       "version_major": 2,
       "version_minor": 0,
       "model_id": "31dcf6fa21bf4f0ebcb46e4e09b3e333"
      }
     },
     "metadata": {},
     "output_type": "display_data"
    },
    {
     "name": "stdout",
     "output_type": "stream",
     "text": [
      "Epoch 31/200 - Train loss: 0.3466477062302013, Validation loss: 0.33071148170615144\n",
      "Early Stopping: 4/5\n"
     ]
    },
    {
     "data": {
      "text/plain": "Training loop:   0%|          | 0/239 [00:00<?, ?it/s]",
      "application/vnd.jupyter.widget-view+json": {
       "version_major": 2,
       "version_minor": 0,
       "model_id": "30622832e2d14854953d6110d1236ea8"
      }
     },
     "metadata": {},
     "output_type": "display_data"
    },
    {
     "data": {
      "text/plain": "Validation loop:   0%|          | 0/9 [00:00<?, ?it/s]",
      "application/vnd.jupyter.widget-view+json": {
       "version_major": 2,
       "version_minor": 0,
       "model_id": "be574b2c75c74b55a53b03d26386d03e"
      }
     },
     "metadata": {},
     "output_type": "display_data"
    },
    {
     "name": "stdout",
     "output_type": "stream",
     "text": [
      "Epoch 32/200 - Train loss: 0.32813216483167684, Validation loss: 0.3557197952045585\n",
      "Early Stopping: Stopping training\n"
     ]
    }
   ],
   "source": [
    "num_epochs = epochs_number\n",
    "train_losses, val_losses = [], []\n",
    "\n",
    "model = CardClassifier(num_classes=53)\n",
    "model.to(device)\n",
    "\n",
    "#scheduler = ReduceLROnPlateau(optimizer, mode='min', factor=0.1, patience=3, verbose=True)\n",
    "criterion = nn.CrossEntropyLoss()\n",
    "optimizer = optim.Adam(model.parameters(), lr=0.001, weight_decay=1e-4)\n",
    "#optimizer = optim.AdamW(model.parameters(), lr=0.001, weight_decay=1e-4)\n",
    "#optimizer = optim.RMSprop(model.parameters(), lr=0.001, weight_decay=1e-4)\n",
    "#optimizer = optim.SGD(model.parameters(), lr=0.001, weight_decay=1e-4) #Ponad 100 epok zalecany scheduler\n",
    "es = EarlyStopping(patience=patience)\n",
    "\n",
    "epoch = 0\n",
    "done = False\n",
    "while epoch < num_epochs and not done:\n",
    "    epoch += 1\n",
    "    # Training phase\n",
    "    model.train()\n",
    "    running_loss = 0.0\n",
    "    for images, labels in tqdm(train_loader, desc='Training loop'):\n",
    "        # Move inputs and labels to the device\n",
    "        images, labels = images.to(device), labels.to(device)\n",
    "        \n",
    "        optimizer.zero_grad()\n",
    "        outputs = model(images)\n",
    "        loss = criterion(outputs, labels)\n",
    "        loss.backward()\n",
    "        optimizer.step()\n",
    "        running_loss += loss.item() * labels.size(0)\n",
    "    train_loss = running_loss / len(train_loader.dataset)\n",
    "    train_losses.append(train_loss)\n",
    "    \n",
    "    # Validation phase\n",
    "    model.eval()\n",
    "    running_loss = 0.0\n",
    "    with torch.no_grad():\n",
    "        for images, labels in tqdm(val_loader, desc='Validation loop'):\n",
    "            # Move inputs and labels to the device\n",
    "            images, labels = images.to(device), labels.to(device)\n",
    "         \n",
    "            outputs = model(images)\n",
    "            loss = criterion(outputs, labels)\n",
    "            running_loss += loss.item() * labels.size(0)\n",
    "    val_loss = running_loss / len(val_loader.dataset)\n",
    "    val_losses.append(val_loss)\n",
    "    print(f\"Epoch {epoch}/{num_epochs} - Train loss: {train_loss}, Validation loss: {val_loss}\")\n",
    "    \n",
    "    # Aktualizacja harmonogramu\n",
    "    #scheduler.step(val_loss)\n",
    "     # Check early stopping criteria\n",
    "    done = es(model, val_loss)\n",
    "    print(f\"Early Stopping: {es.status}\")"
   ],
   "metadata": {
    "collapsed": false,
    "ExecuteTime": {
     "end_time": "2024-12-09T06:28:02.346478100Z",
     "start_time": "2024-12-09T06:21:06.105578100Z"
    }
   },
   "id": "86267436fbf0abe6"
  },
  {
   "cell_type": "code",
   "execution_count": 179,
   "outputs": [
    {
     "data": {
      "text/plain": "<Figure size 640x480 with 1 Axes>",
      "image/png": "[encoded data removed]"
     },
     "metadata": {},
     "output_type": "display_data"
    }
   ],
   "source": [
    "#Visualize Losses\n",
    "\n",
    "plt.plot(train_losses, label='Training loss')\n",
    "plt.plot(val_losses, label='Validation loss')\n",
    "plt.legend()\n",
    "plt.title(\"Loss over epochs\")\n",
    "plt.show()"
   ],
   "metadata": {
    "collapsed": false,
    "ExecuteTime": {
     "end_time": "2024-12-09T06:28:02.406907600Z",
     "start_time": "2024-12-09T06:28:02.342931600Z"
    }
   },
   "id": "3bd93e1efe556451"
  },
  {
   "cell_type": "code",
   "execution_count": 180,
   "outputs": [
    {
     "name": "stdout",
     "output_type": "stream",
     "text": [
      "Test Accuracy: 92.08%\n"
     ]
    }
   ],
   "source": [
    "# Calculate the Accuracy of the Model using test data\n",
    "\n",
    "model.eval()\n",
    "true_labels = []\n",
    "predicted_labels = []\n",
    "\n",
    "with torch.no_grad():\n",
    "    for images, labels in test_loader:\n",
    "        images, labels = images.to(device), labels.to(device)\n",
    "        \n",
    "        outputs = model(images)\n",
    "        _, predictions = torch.max(outputs, 1)  # Get the class index with the highest probability\n",
    "        true_labels.extend(labels.cpu().numpy())\n",
    "        predicted_labels.extend(predictions.cpu().numpy())\n",
    "\n",
    "# Calculate accuracy\n",
    "accuracy = accuracy_score(true_labels, predicted_labels)\n",
    "print(f\"Test Accuracy: {accuracy * 100:.2f}%\")"
   ],
   "metadata": {
    "collapsed": false,
    "ExecuteTime": {
     "end_time": "2024-12-09T06:28:02.689627500Z",
     "start_time": "2024-12-09T06:28:02.402887800Z"
    }
   },
   "id": "3ba489a2f89204b7"
  },
  {
   "cell_type": "code",
   "execution_count": 181,
   "outputs": [],
   "source": [
    "#torch.save(model.state_dict(), \"card_classifier93.96%.pth\")"
   ],
   "metadata": {
    "collapsed": false,
    "ExecuteTime": {
     "end_time": "2024-12-09T06:28:02.689627500Z",
     "start_time": "2024-12-09T06:28:02.684794200Z"
    }
   },
   "id": "81f6c4de6c55cdf9"
  },
  {
   "cell_type": "code",
   "execution_count": 182,
   "outputs": [
    {
     "data": {
      "text/plain": "<Figure size 640x480 with 2 Axes>",
      "image/png": "[encoded data removed]"
     },
     "metadata": {},
     "output_type": "display_data"
    }
   ],
   "source": [
    "# Create a confusion matrix\n",
    "conf_matrix = confusion_matrix(true_labels, predicted_labels)\n",
    "\n",
    "# Identify the top 10 classes based on prediction frequency\n",
    "top_n_classes = np.argsort(np.bincount(predicted_labels))[::-1][:15]\n",
    "\n",
    "# Extract the relevant rows and columns from the confusion matrix\n",
    "conf_matrix_top_n = conf_matrix[top_n_classes][:, top_n_classes]\n",
    "\n",
    "# Get the class names for the top 10 classes\n",
    "class_names_top_n = [train_dataset.classes[i] for i in top_n_classes]\n",
    "\n",
    "# Display the confusion matrix for the top 10 classes with rotated labels\n",
    "disp = ConfusionMatrixDisplay(confusion_matrix=conf_matrix_top_n, display_labels=class_names_top_n)\n",
    "disp.plot(cmap='Blues', values_format='d', xticks_rotation=90)\n",
    "plt.show()"
   ],
   "metadata": {
    "collapsed": false,
    "ExecuteTime": {
     "end_time": "2024-12-09T06:28:02.855533Z",
     "start_time": "2024-12-09T06:28:02.688113Z"
    }
   },
   "id": "1e60629fc6bdac89"
  },
  {
   "cell_type": "code",
   "execution_count": 182,
   "outputs": [],
   "source": [],
   "metadata": {
    "collapsed": false,
    "ExecuteTime": {
     "end_time": "2024-12-09T06:28:02.861148400Z",
     "start_time": "2024-12-09T06:28:02.855533Z"
    }
   },
   "id": "f9f6c3fc6aba5162"
  }
 ],
 "metadata": {
  "kernelspec": {
   "display_name": "Python 3",
   "language": "python",
   "name": "python3"
  },
  "language_info": {
   "codemirror_mode": {
    "name": "ipython",
    "version": 2
   },
   "file_extension": ".py",
   "mimetype": "text/x-python",
   "name": "python",
   "nbconvert_exporter": "python",
   "pygments_lexer": "ipython2",
   "version": "2.7.6"
  }
 },
 "nbformat": 4,
 "nbformat_minor": 5
}
